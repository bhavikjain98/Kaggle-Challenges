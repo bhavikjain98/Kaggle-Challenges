{
 "cells": [
  {
   "cell_type": "code",
   "execution_count": 1,
   "metadata": {
    "execution": {
     "iopub.execute_input": "2021-03-31T04:48:29.968098Z",
     "iopub.status.busy": "2021-03-31T04:48:29.967326Z",
     "iopub.status.idle": "2021-03-31T04:48:34.526008Z",
     "shell.execute_reply": "2021-03-31T04:48:34.525019Z"
    },
    "papermill": {
     "duration": 4.583561,
     "end_time": "2021-03-31T04:48:34.526199",
     "exception": false,
     "start_time": "2021-03-31T04:48:29.942638",
     "status": "completed"
    },
    "tags": []
   },
   "outputs": [
    {
     "data": {
      "text/html": [
       "<style type='text/css'>\n",
       ".datatable table.frame { margin-bottom: 0; }\n",
       ".datatable table.frame thead { border-bottom: none; }\n",
       ".datatable table.frame tr.coltypes td {  color: #FFFFFF;  line-height: 6px;  padding: 0 0.5em;}\n",
       ".datatable .bool    { background: #DDDD99; }\n",
       ".datatable .object  { background: #565656; }\n",
       ".datatable .int     { background: #5D9E5D; }\n",
       ".datatable .float   { background: #4040CC; }\n",
       ".datatable .str     { background: #CC4040; }\n",
       ".datatable .row_index {  background: var(--jp-border-color3);  border-right: 1px solid var(--jp-border-color0);  color: var(--jp-ui-font-color3);  font-size: 9px;}\n",
       ".datatable .frame tr.coltypes .row_index {  background: var(--jp-border-color0);}\n",
       ".datatable th:nth-child(2) { padding-left: 12px; }\n",
       ".datatable .hellipsis {  color: var(--jp-cell-editor-border-color);}\n",
       ".datatable .vellipsis {  background: var(--jp-layout-color0);  color: var(--jp-cell-editor-border-color);}\n",
       ".datatable .na {  color: var(--jp-cell-editor-border-color);  font-size: 80%;}\n",
       ".datatable .footer { font-size: 9px; }\n",
       ".datatable .frame_dimensions {  background: var(--jp-border-color3);  border-top: 1px solid var(--jp-border-color0);  color: var(--jp-ui-font-color3);  display: inline-block;  opacity: 0.6;  padding: 1px 10px 1px 5px;}\n",
       "</style>\n"
      ],
      "text/plain": [
       "<IPython.core.display.HTML object>"
      ]
     },
     "metadata": {},
     "output_type": "display_data"
    }
   ],
   "source": [
    "import pandas as pd \n",
    "import numpy as np\n",
    "import matplotlib.pyplot as plt\n",
    "%matplotlib inline\n",
    "import seaborn as sns\n",
    "import optuna\n",
    "from sklearn.model_selection import train_test_split, RepeatedStratifiedKFold\n",
    "from sklearn.metrics import roc_auc_score\n",
    "from sklearn.preprocessing import LabelEncoder\n",
    "\n",
    "from xgboost import XGBClassifier\n",
    "from lightgbm import LGBMClassifier\n",
    "\n",
    "import warnings\n",
    "warnings.filterwarnings(\"ignore\")"
   ]
  },
  {
   "cell_type": "code",
   "execution_count": 2,
   "metadata": {
    "execution": {
     "iopub.execute_input": "2021-03-31T04:48:34.564709Z",
     "iopub.status.busy": "2021-03-31T04:48:34.564224Z",
     "iopub.status.idle": "2021-03-31T04:48:37.765438Z",
     "shell.execute_reply": "2021-03-31T04:48:37.764964Z"
    },
    "papermill": {
     "duration": 3.222744,
     "end_time": "2021-03-31T04:48:37.765570",
     "exception": false,
     "start_time": "2021-03-31T04:48:34.542826",
     "status": "completed"
    },
    "tags": []
   },
   "outputs": [],
   "source": [
    "train = pd.read_csv('../input/tabular-playground-series-mar-2021/train.csv')\n",
    "test = pd.read_csv('../input/tabular-playground-series-mar-2021/test.csv')"
   ]
  },
  {
   "cell_type": "code",
   "execution_count": 3,
   "metadata": {
    "execution": {
     "iopub.execute_input": "2021-03-31T04:48:37.819609Z",
     "iopub.status.busy": "2021-03-31T04:48:37.818744Z",
     "iopub.status.idle": "2021-03-31T04:48:37.831581Z",
     "shell.execute_reply": "2021-03-31T04:48:37.831995Z"
    },
    "papermill": {
     "duration": 0.049499,
     "end_time": "2021-03-31T04:48:37.832124",
     "exception": false,
     "start_time": "2021-03-31T04:48:37.782625",
     "status": "completed"
    },
    "tags": []
   },
   "outputs": [
    {
     "data": {
      "text/html": [
       "<div>\n",
       "<style scoped>\n",
       "    .dataframe tbody tr th:only-of-type {\n",
       "        vertical-align: middle;\n",
       "    }\n",
       "\n",
       "    .dataframe tbody tr th {\n",
       "        vertical-align: top;\n",
       "    }\n",
       "\n",
       "    .dataframe thead th {\n",
       "        text-align: right;\n",
       "    }\n",
       "</style>\n",
       "<table border=\"1\" class=\"dataframe\">\n",
       "  <thead>\n",
       "    <tr style=\"text-align: right;\">\n",
       "      <th></th>\n",
       "      <th>id</th>\n",
       "      <th>cat0</th>\n",
       "      <th>cat1</th>\n",
       "      <th>cat2</th>\n",
       "      <th>cat3</th>\n",
       "      <th>cat4</th>\n",
       "      <th>cat5</th>\n",
       "      <th>cat6</th>\n",
       "      <th>cat7</th>\n",
       "      <th>cat8</th>\n",
       "      <th>...</th>\n",
       "      <th>cont2</th>\n",
       "      <th>cont3</th>\n",
       "      <th>cont4</th>\n",
       "      <th>cont5</th>\n",
       "      <th>cont6</th>\n",
       "      <th>cont7</th>\n",
       "      <th>cont8</th>\n",
       "      <th>cont9</th>\n",
       "      <th>cont10</th>\n",
       "      <th>target</th>\n",
       "    </tr>\n",
       "  </thead>\n",
       "  <tbody>\n",
       "    <tr>\n",
       "      <th>0</th>\n",
       "      <td>0</td>\n",
       "      <td>A</td>\n",
       "      <td>I</td>\n",
       "      <td>A</td>\n",
       "      <td>B</td>\n",
       "      <td>B</td>\n",
       "      <td>BI</td>\n",
       "      <td>A</td>\n",
       "      <td>S</td>\n",
       "      <td>Q</td>\n",
       "      <td>...</td>\n",
       "      <td>0.759439</td>\n",
       "      <td>0.795549</td>\n",
       "      <td>0.681917</td>\n",
       "      <td>0.621672</td>\n",
       "      <td>0.592184</td>\n",
       "      <td>0.791921</td>\n",
       "      <td>0.815254</td>\n",
       "      <td>0.965006</td>\n",
       "      <td>0.665915</td>\n",
       "      <td>0</td>\n",
       "    </tr>\n",
       "    <tr>\n",
       "      <th>1</th>\n",
       "      <td>1</td>\n",
       "      <td>A</td>\n",
       "      <td>I</td>\n",
       "      <td>A</td>\n",
       "      <td>A</td>\n",
       "      <td>E</td>\n",
       "      <td>BI</td>\n",
       "      <td>K</td>\n",
       "      <td>W</td>\n",
       "      <td>AD</td>\n",
       "      <td>...</td>\n",
       "      <td>0.386385</td>\n",
       "      <td>0.541366</td>\n",
       "      <td>0.388982</td>\n",
       "      <td>0.357778</td>\n",
       "      <td>0.600044</td>\n",
       "      <td>0.408701</td>\n",
       "      <td>0.399353</td>\n",
       "      <td>0.927406</td>\n",
       "      <td>0.493729</td>\n",
       "      <td>0</td>\n",
       "    </tr>\n",
       "    <tr>\n",
       "      <th>2</th>\n",
       "      <td>2</td>\n",
       "      <td>A</td>\n",
       "      <td>K</td>\n",
       "      <td>A</td>\n",
       "      <td>A</td>\n",
       "      <td>E</td>\n",
       "      <td>BI</td>\n",
       "      <td>A</td>\n",
       "      <td>E</td>\n",
       "      <td>BM</td>\n",
       "      <td>...</td>\n",
       "      <td>0.343255</td>\n",
       "      <td>0.616352</td>\n",
       "      <td>0.793687</td>\n",
       "      <td>0.552877</td>\n",
       "      <td>0.352113</td>\n",
       "      <td>0.388835</td>\n",
       "      <td>0.412303</td>\n",
       "      <td>0.292696</td>\n",
       "      <td>0.549452</td>\n",
       "      <td>0</td>\n",
       "    </tr>\n",
       "    <tr>\n",
       "      <th>3</th>\n",
       "      <td>3</td>\n",
       "      <td>A</td>\n",
       "      <td>K</td>\n",
       "      <td>A</td>\n",
       "      <td>C</td>\n",
       "      <td>E</td>\n",
       "      <td>BI</td>\n",
       "      <td>A</td>\n",
       "      <td>Y</td>\n",
       "      <td>AD</td>\n",
       "      <td>...</td>\n",
       "      <td>0.831147</td>\n",
       "      <td>0.807807</td>\n",
       "      <td>0.800032</td>\n",
       "      <td>0.619147</td>\n",
       "      <td>0.221789</td>\n",
       "      <td>0.897617</td>\n",
       "      <td>0.633669</td>\n",
       "      <td>0.760318</td>\n",
       "      <td>0.934242</td>\n",
       "      <td>0</td>\n",
       "    </tr>\n",
       "    <tr>\n",
       "      <th>4</th>\n",
       "      <td>4</td>\n",
       "      <td>A</td>\n",
       "      <td>I</td>\n",
       "      <td>G</td>\n",
       "      <td>B</td>\n",
       "      <td>E</td>\n",
       "      <td>BI</td>\n",
       "      <td>C</td>\n",
       "      <td>G</td>\n",
       "      <td>Q</td>\n",
       "      <td>...</td>\n",
       "      <td>0.338818</td>\n",
       "      <td>0.277308</td>\n",
       "      <td>0.610578</td>\n",
       "      <td>0.128291</td>\n",
       "      <td>0.578764</td>\n",
       "      <td>0.279167</td>\n",
       "      <td>0.351103</td>\n",
       "      <td>0.357084</td>\n",
       "      <td>0.328960</td>\n",
       "      <td>1</td>\n",
       "    </tr>\n",
       "  </tbody>\n",
       "</table>\n",
       "<p>5 rows × 32 columns</p>\n",
       "</div>"
      ],
      "text/plain": [
       "   id cat0 cat1 cat2 cat3 cat4 cat5 cat6 cat7 cat8  ...     cont2     cont3  \\\n",
       "0   0    A    I    A    B    B   BI    A    S    Q  ...  0.759439  0.795549   \n",
       "1   1    A    I    A    A    E   BI    K    W   AD  ...  0.386385  0.541366   \n",
       "2   2    A    K    A    A    E   BI    A    E   BM  ...  0.343255  0.616352   \n",
       "3   3    A    K    A    C    E   BI    A    Y   AD  ...  0.831147  0.807807   \n",
       "4   4    A    I    G    B    E   BI    C    G    Q  ...  0.338818  0.277308   \n",
       "\n",
       "      cont4     cont5     cont6     cont7     cont8     cont9    cont10 target  \n",
       "0  0.681917  0.621672  0.592184  0.791921  0.815254  0.965006  0.665915      0  \n",
       "1  0.388982  0.357778  0.600044  0.408701  0.399353  0.927406  0.493729      0  \n",
       "2  0.793687  0.552877  0.352113  0.388835  0.412303  0.292696  0.549452      0  \n",
       "3  0.800032  0.619147  0.221789  0.897617  0.633669  0.760318  0.934242      0  \n",
       "4  0.610578  0.128291  0.578764  0.279167  0.351103  0.357084  0.328960      1  \n",
       "\n",
       "[5 rows x 32 columns]"
      ]
     },
     "execution_count": 3,
     "metadata": {},
     "output_type": "execute_result"
    }
   ],
   "source": [
    "train.head()"
   ]
  },
  {
   "cell_type": "markdown",
   "metadata": {
    "papermill": {
     "duration": 0.01741,
     "end_time": "2021-03-31T04:48:37.867095",
     "exception": false,
     "start_time": "2021-03-31T04:48:37.849685",
     "status": "completed"
    },
    "tags": []
   },
   "source": [
    "# EDA"
   ]
  },
  {
   "cell_type": "code",
   "execution_count": 4,
   "metadata": {
    "execution": {
     "iopub.execute_input": "2021-03-31T04:48:37.908125Z",
     "iopub.status.busy": "2021-03-31T04:48:37.907141Z",
     "iopub.status.idle": "2021-03-31T04:48:38.417271Z",
     "shell.execute_reply": "2021-03-31T04:48:38.417696Z"
    },
    "papermill": {
     "duration": 0.533377,
     "end_time": "2021-03-31T04:48:38.417863",
     "exception": false,
     "start_time": "2021-03-31T04:48:37.884486",
     "status": "completed"
    },
    "tags": []
   },
   "outputs": [
    {
     "data": {
      "text/plain": [
       "id        0\n",
       "cat0      0\n",
       "cat1      0\n",
       "cat2      0\n",
       "cat3      0\n",
       "cat4      0\n",
       "cat5      0\n",
       "cat6      0\n",
       "cat7      0\n",
       "cat8      0\n",
       "cat9      0\n",
       "cat10     0\n",
       "cat11     0\n",
       "cat12     0\n",
       "cat13     0\n",
       "cat14     0\n",
       "cat15     0\n",
       "cat16     0\n",
       "cat17     0\n",
       "cat18     0\n",
       "cont0     0\n",
       "cont1     0\n",
       "cont2     0\n",
       "cont3     0\n",
       "cont4     0\n",
       "cont5     0\n",
       "cont6     0\n",
       "cont7     0\n",
       "cont8     0\n",
       "cont9     0\n",
       "cont10    0\n",
       "target    0\n",
       "dtype: int64"
      ]
     },
     "execution_count": 4,
     "metadata": {},
     "output_type": "execute_result"
    }
   ],
   "source": [
    "train.isnull().sum()"
   ]
  },
  {
   "cell_type": "code",
   "execution_count": 5,
   "metadata": {
    "execution": {
     "iopub.execute_input": "2021-03-31T04:48:38.458202Z",
     "iopub.status.busy": "2021-03-31T04:48:38.457559Z",
     "iopub.status.idle": "2021-03-31T04:48:38.460883Z",
     "shell.execute_reply": "2021-03-31T04:48:38.461305Z"
    },
    "papermill": {
     "duration": 0.026122,
     "end_time": "2021-03-31T04:48:38.461437",
     "exception": false,
     "start_time": "2021-03-31T04:48:38.435315",
     "status": "completed"
    },
    "tags": []
   },
   "outputs": [
    {
     "data": {
      "text/plain": [
       "(300000, 32)"
      ]
     },
     "execution_count": 5,
     "metadata": {},
     "output_type": "execute_result"
    }
   ],
   "source": [
    "train.shape"
   ]
  },
  {
   "cell_type": "code",
   "execution_count": 6,
   "metadata": {
    "execution": {
     "iopub.execute_input": "2021-03-31T04:48:38.500830Z",
     "iopub.status.busy": "2021-03-31T04:48:38.500325Z",
     "iopub.status.idle": "2021-03-31T04:48:38.506114Z",
     "shell.execute_reply": "2021-03-31T04:48:38.505674Z"
    },
    "papermill": {
     "duration": 0.026927,
     "end_time": "2021-03-31T04:48:38.506219",
     "exception": false,
     "start_time": "2021-03-31T04:48:38.479292",
     "status": "completed"
    },
    "tags": []
   },
   "outputs": [
    {
     "data": {
      "text/plain": [
       "(200000, 31)"
      ]
     },
     "execution_count": 6,
     "metadata": {},
     "output_type": "execute_result"
    }
   ],
   "source": [
    "test.shape"
   ]
  },
  {
   "cell_type": "code",
   "execution_count": 7,
   "metadata": {
    "execution": {
     "iopub.execute_input": "2021-03-31T04:48:38.549323Z",
     "iopub.status.busy": "2021-03-31T04:48:38.548541Z",
     "iopub.status.idle": "2021-03-31T04:48:38.556657Z",
     "shell.execute_reply": "2021-03-31T04:48:38.557082Z"
    },
    "papermill": {
     "duration": 0.033116,
     "end_time": "2021-03-31T04:48:38.557208",
     "exception": false,
     "start_time": "2021-03-31T04:48:38.524092",
     "status": "completed"
    },
    "tags": []
   },
   "outputs": [
    {
     "data": {
      "text/plain": [
       "0    220539\n",
       "1     79461\n",
       "Name: target, dtype: int64"
      ]
     },
     "execution_count": 7,
     "metadata": {},
     "output_type": "execute_result"
    }
   ],
   "source": [
    "train['target'].value_counts()"
   ]
  },
  {
   "cell_type": "code",
   "execution_count": 8,
   "metadata": {
    "execution": {
     "iopub.execute_input": "2021-03-31T04:48:38.597240Z",
     "iopub.status.busy": "2021-03-31T04:48:38.596407Z",
     "iopub.status.idle": "2021-03-31T04:48:38.749444Z",
     "shell.execute_reply": "2021-03-31T04:48:38.748769Z"
    },
    "papermill": {
     "duration": 0.174187,
     "end_time": "2021-03-31T04:48:38.749620",
     "exception": false,
     "start_time": "2021-03-31T04:48:38.575433",
     "status": "completed"
    },
    "tags": []
   },
   "outputs": [
    {
     "data": {
      "text/html": [
       "<div>\n",
       "<style scoped>\n",
       "    .dataframe tbody tr th:only-of-type {\n",
       "        vertical-align: middle;\n",
       "    }\n",
       "\n",
       "    .dataframe tbody tr th {\n",
       "        vertical-align: top;\n",
       "    }\n",
       "\n",
       "    .dataframe thead th {\n",
       "        text-align: right;\n",
       "    }\n",
       "</style>\n",
       "<table border=\"1\" class=\"dataframe\">\n",
       "  <thead>\n",
       "    <tr style=\"text-align: right;\">\n",
       "      <th></th>\n",
       "      <th>id</th>\n",
       "      <th>cont0</th>\n",
       "      <th>cont1</th>\n",
       "      <th>cont2</th>\n",
       "      <th>cont3</th>\n",
       "      <th>cont4</th>\n",
       "      <th>cont5</th>\n",
       "      <th>cont6</th>\n",
       "      <th>cont7</th>\n",
       "      <th>cont8</th>\n",
       "      <th>cont9</th>\n",
       "      <th>cont10</th>\n",
       "      <th>target</th>\n",
       "    </tr>\n",
       "  </thead>\n",
       "  <tbody>\n",
       "    <tr>\n",
       "      <th>count</th>\n",
       "      <td>300000.000000</td>\n",
       "      <td>300000.000000</td>\n",
       "      <td>300000.000000</td>\n",
       "      <td>300000.000000</td>\n",
       "      <td>300000.000000</td>\n",
       "      <td>300000.000000</td>\n",
       "      <td>300000.000000</td>\n",
       "      <td>300000.000000</td>\n",
       "      <td>300000.000000</td>\n",
       "      <td>300000.000000</td>\n",
       "      <td>300000.000000</td>\n",
       "      <td>300000.000000</td>\n",
       "      <td>300000.000000</td>\n",
       "    </tr>\n",
       "    <tr>\n",
       "      <th>mean</th>\n",
       "      <td>250183.425697</td>\n",
       "      <td>0.504749</td>\n",
       "      <td>0.494073</td>\n",
       "      <td>0.516632</td>\n",
       "      <td>0.474235</td>\n",
       "      <td>0.504848</td>\n",
       "      <td>0.502257</td>\n",
       "      <td>0.488229</td>\n",
       "      <td>0.501739</td>\n",
       "      <td>0.488074</td>\n",
       "      <td>0.469496</td>\n",
       "      <td>0.508230</td>\n",
       "      <td>0.264870</td>\n",
       "    </tr>\n",
       "    <tr>\n",
       "      <th>std</th>\n",
       "      <td>144320.334812</td>\n",
       "      <td>0.206788</td>\n",
       "      <td>0.213037</td>\n",
       "      <td>0.214851</td>\n",
       "      <td>0.216636</td>\n",
       "      <td>0.227474</td>\n",
       "      <td>0.241243</td>\n",
       "      <td>0.211335</td>\n",
       "      <td>0.203496</td>\n",
       "      <td>0.179048</td>\n",
       "      <td>0.194516</td>\n",
       "      <td>0.203393</td>\n",
       "      <td>0.441265</td>\n",
       "    </tr>\n",
       "    <tr>\n",
       "      <th>min</th>\n",
       "      <td>0.000000</td>\n",
       "      <td>-0.049562</td>\n",
       "      <td>0.084480</td>\n",
       "      <td>0.094493</td>\n",
       "      <td>-0.045316</td>\n",
       "      <td>0.168071</td>\n",
       "      <td>-0.036379</td>\n",
       "      <td>0.005199</td>\n",
       "      <td>0.090901</td>\n",
       "      <td>0.024139</td>\n",
       "      <td>0.214866</td>\n",
       "      <td>0.097789</td>\n",
       "      <td>0.000000</td>\n",
       "    </tr>\n",
       "    <tr>\n",
       "      <th>25%</th>\n",
       "      <td>125399.750000</td>\n",
       "      <td>0.344985</td>\n",
       "      <td>0.317363</td>\n",
       "      <td>0.326047</td>\n",
       "      <td>0.292249</td>\n",
       "      <td>0.279303</td>\n",
       "      <td>0.276442</td>\n",
       "      <td>0.323914</td>\n",
       "      <td>0.353054</td>\n",
       "      <td>0.358915</td>\n",
       "      <td>0.309934</td>\n",
       "      <td>0.368312</td>\n",
       "      <td>0.000000</td>\n",
       "    </tr>\n",
       "    <tr>\n",
       "      <th>50%</th>\n",
       "      <td>250192.500000</td>\n",
       "      <td>0.479650</td>\n",
       "      <td>0.463170</td>\n",
       "      <td>0.471247</td>\n",
       "      <td>0.387564</td>\n",
       "      <td>0.479858</td>\n",
       "      <td>0.554768</td>\n",
       "      <td>0.518089</td>\n",
       "      <td>0.435404</td>\n",
       "      <td>0.410908</td>\n",
       "      <td>0.407477</td>\n",
       "      <td>0.446576</td>\n",
       "      <td>0.000000</td>\n",
       "    </tr>\n",
       "    <tr>\n",
       "      <th>75%</th>\n",
       "      <td>375246.250000</td>\n",
       "      <td>0.637657</td>\n",
       "      <td>0.693992</td>\n",
       "      <td>0.704625</td>\n",
       "      <td>0.644950</td>\n",
       "      <td>0.725779</td>\n",
       "      <td>0.735225</td>\n",
       "      <td>0.608537</td>\n",
       "      <td>0.642023</td>\n",
       "      <td>0.612725</td>\n",
       "      <td>0.586793</td>\n",
       "      <td>0.581957</td>\n",
       "      <td>1.000000</td>\n",
       "    </tr>\n",
       "    <tr>\n",
       "      <th>max</th>\n",
       "      <td>499999.000000</td>\n",
       "      <td>1.004559</td>\n",
       "      <td>1.009958</td>\n",
       "      <td>1.016600</td>\n",
       "      <td>0.952187</td>\n",
       "      <td>0.858578</td>\n",
       "      <td>0.853022</td>\n",
       "      <td>0.966553</td>\n",
       "      <td>1.035818</td>\n",
       "      <td>1.055885</td>\n",
       "      <td>1.005652</td>\n",
       "      <td>1.011331</td>\n",
       "      <td>1.000000</td>\n",
       "    </tr>\n",
       "  </tbody>\n",
       "</table>\n",
       "</div>"
      ],
      "text/plain": [
       "                  id          cont0          cont1          cont2  \\\n",
       "count  300000.000000  300000.000000  300000.000000  300000.000000   \n",
       "mean   250183.425697       0.504749       0.494073       0.516632   \n",
       "std    144320.334812       0.206788       0.213037       0.214851   \n",
       "min         0.000000      -0.049562       0.084480       0.094493   \n",
       "25%    125399.750000       0.344985       0.317363       0.326047   \n",
       "50%    250192.500000       0.479650       0.463170       0.471247   \n",
       "75%    375246.250000       0.637657       0.693992       0.704625   \n",
       "max    499999.000000       1.004559       1.009958       1.016600   \n",
       "\n",
       "               cont3          cont4          cont5          cont6  \\\n",
       "count  300000.000000  300000.000000  300000.000000  300000.000000   \n",
       "mean        0.474235       0.504848       0.502257       0.488229   \n",
       "std         0.216636       0.227474       0.241243       0.211335   \n",
       "min        -0.045316       0.168071      -0.036379       0.005199   \n",
       "25%         0.292249       0.279303       0.276442       0.323914   \n",
       "50%         0.387564       0.479858       0.554768       0.518089   \n",
       "75%         0.644950       0.725779       0.735225       0.608537   \n",
       "max         0.952187       0.858578       0.853022       0.966553   \n",
       "\n",
       "               cont7          cont8          cont9         cont10  \\\n",
       "count  300000.000000  300000.000000  300000.000000  300000.000000   \n",
       "mean        0.501739       0.488074       0.469496       0.508230   \n",
       "std         0.203496       0.179048       0.194516       0.203393   \n",
       "min         0.090901       0.024139       0.214866       0.097789   \n",
       "25%         0.353054       0.358915       0.309934       0.368312   \n",
       "50%         0.435404       0.410908       0.407477       0.446576   \n",
       "75%         0.642023       0.612725       0.586793       0.581957   \n",
       "max         1.035818       1.055885       1.005652       1.011331   \n",
       "\n",
       "              target  \n",
       "count  300000.000000  \n",
       "mean        0.264870  \n",
       "std         0.441265  \n",
       "min         0.000000  \n",
       "25%         0.000000  \n",
       "50%         0.000000  \n",
       "75%         1.000000  \n",
       "max         1.000000  "
      ]
     },
     "execution_count": 8,
     "metadata": {},
     "output_type": "execute_result"
    }
   ],
   "source": [
    "train.describe()"
   ]
  },
  {
   "cell_type": "code",
   "execution_count": 9,
   "metadata": {
    "execution": {
     "iopub.execute_input": "2021-03-31T04:48:38.840448Z",
     "iopub.status.busy": "2021-03-31T04:48:38.839524Z",
     "iopub.status.idle": "2021-03-31T04:48:38.844913Z",
     "shell.execute_reply": "2021-03-31T04:48:38.844448Z"
    },
    "papermill": {
     "duration": 0.076131,
     "end_time": "2021-03-31T04:48:38.845040",
     "exception": false,
     "start_time": "2021-03-31T04:48:38.768909",
     "status": "completed"
    },
    "tags": []
   },
   "outputs": [],
   "source": [
    "df_train_label = train.drop('target', axis=1)\n",
    "df_train_label['train-test'] = 1\n",
    "test['train-test'] = 0"
   ]
  },
  {
   "cell_type": "code",
   "execution_count": 10,
   "metadata": {
    "execution": {
     "iopub.execute_input": "2021-03-31T04:48:38.888276Z",
     "iopub.status.busy": "2021-03-31T04:48:38.887279Z",
     "iopub.status.idle": "2021-03-31T04:48:39.028860Z",
     "shell.execute_reply": "2021-03-31T04:48:39.028363Z"
    },
    "papermill": {
     "duration": 0.164847,
     "end_time": "2021-03-31T04:48:39.029006",
     "exception": false,
     "start_time": "2021-03-31T04:48:38.864159",
     "status": "completed"
    },
    "tags": []
   },
   "outputs": [],
   "source": [
    "df = pd.concat([df_train_label, test])"
   ]
  },
  {
   "cell_type": "code",
   "execution_count": 11,
   "metadata": {
    "execution": {
     "iopub.execute_input": "2021-03-31T04:48:39.075113Z",
     "iopub.status.busy": "2021-03-31T04:48:39.074041Z",
     "iopub.status.idle": "2021-03-31T04:48:39.652707Z",
     "shell.execute_reply": "2021-03-31T04:48:39.653147Z"
    },
    "papermill": {
     "duration": 0.605109,
     "end_time": "2021-03-31T04:48:39.653305",
     "exception": false,
     "start_time": "2021-03-31T04:48:39.048196",
     "status": "completed"
    },
    "tags": []
   },
   "outputs": [
    {
     "data": {
      "image/png": "[encoded data removed]",
      "text/plain": [
       "<Figure size 432x288 with 1 Axes>"
      ]
     },
     "metadata": {
      "needs_background": "light"
     },
     "output_type": "display_data"
    }
   ],
   "source": [
    "numerical_col = [col for col in df.columns if pd.api.types.is_float_dtype(df[col])]\n",
    "plt.boxplot(df[numerical_col])\n",
    "plt.title('Numerical Boxplot', fontsize=24, fontweight='bold')\n",
    "plt.xlabel('Features');"
   ]
  },
  {
   "cell_type": "code",
   "execution_count": 12,
   "metadata": {
    "execution": {
     "iopub.execute_input": "2021-03-31T04:48:39.698593Z",
     "iopub.status.busy": "2021-03-31T04:48:39.698087Z",
     "iopub.status.idle": "2021-03-31T04:48:39.701671Z",
     "shell.execute_reply": "2021-03-31T04:48:39.701263Z"
    },
    "papermill": {
     "duration": 0.027644,
     "end_time": "2021-03-31T04:48:39.701774",
     "exception": false,
     "start_time": "2021-03-31T04:48:39.674130",
     "status": "completed"
    },
    "tags": []
   },
   "outputs": [],
   "source": [
    "cat_feats = [col for col in train.columns if col.startswith(\"cat\")]\n",
    "num_feats = [col for col in train.columns if col.startswith(\"cont\")]"
   ]
  },
  {
   "cell_type": "code",
   "execution_count": 13,
   "metadata": {
    "execution": {
     "iopub.execute_input": "2021-03-31T04:48:39.745246Z",
     "iopub.status.busy": "2021-03-31T04:48:39.744713Z",
     "iopub.status.idle": "2021-03-31T04:48:43.709813Z",
     "shell.execute_reply": "2021-03-31T04:48:43.709308Z"
    },
    "papermill": {
     "duration": 3.988613,
     "end_time": "2021-03-31T04:48:43.710031",
     "exception": false,
     "start_time": "2021-03-31T04:48:39.721418",
     "status": "completed"
    },
    "tags": []
   },
   "outputs": [],
   "source": [
    "from statsmodels.stats.outliers_influence import variance_inflation_factor\n",
    "vif = pd.DataFrame()\n",
    "vif[\"variables\"] = num_feats\n",
    "vif[\"VIF\"] = [variance_inflation_factor(train[num_feats].values, i) for i in range(train[num_feats].shape[1])]"
   ]
  },
  {
   "cell_type": "code",
   "execution_count": 14,
   "metadata": {
    "execution": {
     "iopub.execute_input": "2021-03-31T04:48:43.756710Z",
     "iopub.status.busy": "2021-03-31T04:48:43.756179Z",
     "iopub.status.idle": "2021-03-31T04:48:43.906153Z",
     "shell.execute_reply": "2021-03-31T04:48:43.905708Z"
    },
    "papermill": {
     "duration": 0.175681,
     "end_time": "2021-03-31T04:48:43.906275",
     "exception": false,
     "start_time": "2021-03-31T04:48:43.730594",
     "status": "completed"
    },
    "tags": []
   },
   "outputs": [
    {
     "data": {
      "text/html": [
       "<style  type=\"text/css\" >\n",
       "#T_5f148484_91dc_11eb_b05a_0242ac130202row0_col1{\n",
       "            background-color:  #fcfdbf;\n",
       "            color:  #000000;\n",
       "        }#T_5f148484_91dc_11eb_b05a_0242ac130202row1_col1,#T_5f148484_91dc_11eb_b05a_0242ac130202row2_col1{\n",
       "            background-color:  #fdda9c;\n",
       "            color:  #000000;\n",
       "        }#T_5f148484_91dc_11eb_b05a_0242ac130202row3_col1{\n",
       "            background-color:  #fed395;\n",
       "            color:  #000000;\n",
       "        }#T_5f148484_91dc_11eb_b05a_0242ac130202row4_col1{\n",
       "            background-color:  #f3655c;\n",
       "            color:  #000000;\n",
       "        }#T_5f148484_91dc_11eb_b05a_0242ac130202row5_col1{\n",
       "            background-color:  #9c2e7f;\n",
       "            color:  #f1f1f1;\n",
       "        }#T_5f148484_91dc_11eb_b05a_0242ac130202row6_col1{\n",
       "            background-color:  #451077;\n",
       "            color:  #f1f1f1;\n",
       "        }#T_5f148484_91dc_11eb_b05a_0242ac130202row7_col1{\n",
       "            background-color:  #251255;\n",
       "            color:  #f1f1f1;\n",
       "        }#T_5f148484_91dc_11eb_b05a_0242ac130202row8_col1{\n",
       "            background-color:  #0d0a29;\n",
       "            color:  #f1f1f1;\n",
       "        }#T_5f148484_91dc_11eb_b05a_0242ac130202row9_col1{\n",
       "            background-color:  #060518;\n",
       "            color:  #f1f1f1;\n",
       "        }#T_5f148484_91dc_11eb_b05a_0242ac130202row10_col1{\n",
       "            background-color:  #000004;\n",
       "            color:  #f1f1f1;\n",
       "        }</style><table id=\"T_5f148484_91dc_11eb_b05a_0242ac130202\" ><thead>    <tr>        <th class=\"blank level0\" ></th>        <th class=\"col_heading level0 col0\" >variables</th>        <th class=\"col_heading level0 col1\" >VIF</th>    </tr></thead><tbody>\n",
       "                <tr>\n",
       "                        <th id=\"T_5f148484_91dc_11eb_b05a_0242ac130202level0_row0\" class=\"row_heading level0 row0\" >2</th>\n",
       "                        <td id=\"T_5f148484_91dc_11eb_b05a_0242ac130202row0_col0\" class=\"data row0 col0\" >cont2</td>\n",
       "                        <td id=\"T_5f148484_91dc_11eb_b05a_0242ac130202row0_col1\" class=\"data row0 col1\" >29.744462</td>\n",
       "            </tr>\n",
       "            <tr>\n",
       "                        <th id=\"T_5f148484_91dc_11eb_b05a_0242ac130202level0_row1\" class=\"row_heading level0 row1\" >10</th>\n",
       "                        <td id=\"T_5f148484_91dc_11eb_b05a_0242ac130202row1_col0\" class=\"data row1 col0\" >cont10</td>\n",
       "                        <td id=\"T_5f148484_91dc_11eb_b05a_0242ac130202row1_col1\" class=\"data row1 col1\" >27.900019</td>\n",
       "            </tr>\n",
       "            <tr>\n",
       "                        <th id=\"T_5f148484_91dc_11eb_b05a_0242ac130202level0_row2\" class=\"row_heading level0 row2\" >1</th>\n",
       "                        <td id=\"T_5f148484_91dc_11eb_b05a_0242ac130202row2_col0\" class=\"data row2 col0\" >cont1</td>\n",
       "                        <td id=\"T_5f148484_91dc_11eb_b05a_0242ac130202row2_col1\" class=\"data row2 col1\" >27.899206</td>\n",
       "            </tr>\n",
       "            <tr>\n",
       "                        <th id=\"T_5f148484_91dc_11eb_b05a_0242ac130202level0_row3\" class=\"row_heading level0 row3\" >7</th>\n",
       "                        <td id=\"T_5f148484_91dc_11eb_b05a_0242ac130202row3_col0\" class=\"data row3 col0\" >cont7</td>\n",
       "                        <td id=\"T_5f148484_91dc_11eb_b05a_0242ac130202row3_col1\" class=\"data row3 col1\" >27.551493</td>\n",
       "            </tr>\n",
       "            <tr>\n",
       "                        <th id=\"T_5f148484_91dc_11eb_b05a_0242ac130202level0_row4\" class=\"row_heading level0 row4\" >0</th>\n",
       "                        <td id=\"T_5f148484_91dc_11eb_b05a_0242ac130202row4_col0\" class=\"data row4 col0\" >cont0</td>\n",
       "                        <td id=\"T_5f148484_91dc_11eb_b05a_0242ac130202row4_col1\" class=\"data row4 col1\" >22.105590</td>\n",
       "            </tr>\n",
       "            <tr>\n",
       "                        <th id=\"T_5f148484_91dc_11eb_b05a_0242ac130202level0_row5\" class=\"row_heading level0 row5\" >8</th>\n",
       "                        <td id=\"T_5f148484_91dc_11eb_b05a_0242ac130202row5_col0\" class=\"data row5 col0\" >cont8</td>\n",
       "                        <td id=\"T_5f148484_91dc_11eb_b05a_0242ac130202row5_col1\" class=\"data row5 col1\" >16.417928</td>\n",
       "            </tr>\n",
       "            <tr>\n",
       "                        <th id=\"T_5f148484_91dc_11eb_b05a_0242ac130202level0_row6\" class=\"row_heading level0 row6\" >3</th>\n",
       "                        <td id=\"T_5f148484_91dc_11eb_b05a_0242ac130202row6_col0\" class=\"data row6 col0\" >cont3</td>\n",
       "                        <td id=\"T_5f148484_91dc_11eb_b05a_0242ac130202row6_col1\" class=\"data row6 col1\" >11.281833</td>\n",
       "            </tr>\n",
       "            <tr>\n",
       "                        <th id=\"T_5f148484_91dc_11eb_b05a_0242ac130202level0_row7\" class=\"row_heading level0 row7\" >9</th>\n",
       "                        <td id=\"T_5f148484_91dc_11eb_b05a_0242ac130202row7_col0\" class=\"data row7 col0\" >cont9</td>\n",
       "                        <td id=\"T_5f148484_91dc_11eb_b05a_0242ac130202row7_col1\" class=\"data row7 col1\" >9.496221</td>\n",
       "            </tr>\n",
       "            <tr>\n",
       "                        <th id=\"T_5f148484_91dc_11eb_b05a_0242ac130202level0_row8\" class=\"row_heading level0 row8\" >6</th>\n",
       "                        <td id=\"T_5f148484_91dc_11eb_b05a_0242ac130202row8_col0\" class=\"data row8 col0\" >cont6</td>\n",
       "                        <td id=\"T_5f148484_91dc_11eb_b05a_0242ac130202row8_col1\" class=\"data row8 col1\" >7.750972</td>\n",
       "            </tr>\n",
       "            <tr>\n",
       "                        <th id=\"T_5f148484_91dc_11eb_b05a_0242ac130202level0_row9\" class=\"row_heading level0 row9\" >5</th>\n",
       "                        <td id=\"T_5f148484_91dc_11eb_b05a_0242ac130202row9_col0\" class=\"data row9 col0\" >cont5</td>\n",
       "                        <td id=\"T_5f148484_91dc_11eb_b05a_0242ac130202row9_col1\" class=\"data row9 col1\" >7.038932</td>\n",
       "            </tr>\n",
       "            <tr>\n",
       "                        <th id=\"T_5f148484_91dc_11eb_b05a_0242ac130202level0_row10\" class=\"row_heading level0 row10\" >4</th>\n",
       "                        <td id=\"T_5f148484_91dc_11eb_b05a_0242ac130202row10_col0\" class=\"data row10 col0\" >cont4</td>\n",
       "                        <td id=\"T_5f148484_91dc_11eb_b05a_0242ac130202row10_col1\" class=\"data row10 col1\" >5.955440</td>\n",
       "            </tr>\n",
       "    </tbody></table>"
      ],
      "text/plain": [
       "<pandas.io.formats.style.Styler at 0x7f67c3f7d710>"
      ]
     },
     "execution_count": 14,
     "metadata": {},
     "output_type": "execute_result"
    }
   ],
   "source": [
    "vif = vif.sort_values(by=[\"VIF\"], ascending=False)\n",
    "vif.style.background_gradient(cmap=\"magma\")"
   ]
  },
  {
   "cell_type": "code",
   "execution_count": 15,
   "metadata": {
    "execution": {
     "iopub.execute_input": "2021-03-31T04:48:43.953630Z",
     "iopub.status.busy": "2021-03-31T04:48:43.952892Z",
     "iopub.status.idle": "2021-03-31T04:48:43.956164Z",
     "shell.execute_reply": "2021-03-31T04:48:43.956537Z"
    },
    "papermill": {
     "duration": 0.029392,
     "end_time": "2021-03-31T04:48:43.956665",
     "exception": false,
     "start_time": "2021-03-31T04:48:43.927273",
     "status": "completed"
    },
    "tags": []
   },
   "outputs": [
    {
     "data": {
      "text/plain": [
       "Index(['cat0', 'cat1', 'cat2', 'cat3', 'cat4', 'cat5', 'cat6', 'cat7', 'cat8',\n",
       "       'cat9', 'cat10', 'cat11', 'cat12', 'cat13', 'cat14', 'cat15', 'cat16',\n",
       "       'cat17', 'cat18', 'cont0', 'cont1', 'cont2', 'cont3', 'cont4', 'cont5',\n",
       "       'cont6', 'cont7', 'cont8', 'cont9', 'cont10', 'train-test'],\n",
       "      dtype='object')"
      ]
     },
     "execution_count": 15,
     "metadata": {},
     "output_type": "execute_result"
    }
   ],
   "source": [
    "target = train['target'].values\n",
    "\n",
    "columns = test.columns[1:]\n",
    "columns"
   ]
  },
  {
   "cell_type": "code",
   "execution_count": 16,
   "metadata": {
    "execution": {
     "iopub.execute_input": "2021-03-31T04:48:44.021755Z",
     "iopub.status.busy": "2021-03-31T04:48:44.021055Z",
     "iopub.status.idle": "2021-03-31T04:48:47.708775Z",
     "shell.execute_reply": "2021-03-31T04:48:47.708334Z"
    },
    "papermill": {
     "duration": 3.731711,
     "end_time": "2021-03-31T04:48:47.708933",
     "exception": false,
     "start_time": "2021-03-31T04:48:43.977222",
     "status": "completed"
    },
    "tags": []
   },
   "outputs": [],
   "source": [
    "cont_cols = [col for col in columns if 'cont' in col]\n",
    "cat_cols = [col for col in columns if 'cat' in col]\n",
    "\n",
    "def label_encode(train_df, test_df, column):\n",
    "    le = LabelEncoder()\n",
    "    new_feature = \"{}_le\".format(column)\n",
    "    le.fit(train_df[column].unique().tolist() + test_df[column].unique().tolist())\n",
    "    train_df[new_feature] = le.transform(train_df[column])\n",
    "    test_df[new_feature] = le.transform(test_df[column])\n",
    "    return new_feature\n",
    "\n",
    "le_cols = []\n",
    "for feature in cat_cols:\n",
    "    le_cols.append(label_encode(train, test, feature))\n",
    "    \n",
    "columns = cont_cols + le_cols"
   ]
  },
  {
   "cell_type": "code",
   "execution_count": 17,
   "metadata": {
    "execution": {
     "iopub.execute_input": "2021-03-31T04:48:47.761206Z",
     "iopub.status.busy": "2021-03-31T04:48:47.759466Z",
     "iopub.status.idle": "2021-03-31T04:48:47.761810Z",
     "shell.execute_reply": "2021-03-31T04:48:47.762245Z"
    },
    "papermill": {
     "duration": 0.032362,
     "end_time": "2021-03-31T04:48:47.762373",
     "exception": false,
     "start_time": "2021-03-31T04:48:47.730011",
     "status": "completed"
    },
    "tags": []
   },
   "outputs": [],
   "source": [
    "def run_rskf(train, target, clf, params):\n",
    "    train_preds = np.zeros((train.shape[0], 2))\n",
    "    test_preds = 0\n",
    "    rskf = RepeatedStratifiedKFold(n_splits=5, n_repeats=2, random_state=34)\n",
    "    for fold, (train_index, val_index) in enumerate(rskf.split(train, target)):\n",
    "        print(\"-> Fold {}\".format(fold + 1))\n",
    "       \n",
    "        x_train, x_valid = train.iloc[train_index][columns], train.iloc[val_index][columns]\n",
    "        y_train, y_valid = target[train_index], target[val_index]\n",
    "    \n",
    "        model = clf(**params)\n",
    "        model.fit(x_train, y_train,\n",
    "                    eval_set=[(x_valid, y_valid)], \n",
    "                    verbose=0,\n",
    "                    early_stopping_rounds=500)\n",
    "    \n",
    "        train_oof_preds = model.predict_proba(x_valid)[:,1]\n",
    "        train_preds[val_index, fold//5] = train_oof_preds\n",
    "        test_oof_preds = model.predict_proba(test[columns])[:,1]\n",
    "        test_preds += test_oof_preds / 10\n",
    "        print(\"ROC AUC Score = {}\".format(roc_auc_score(y_valid, train_oof_preds)))\n",
    "        if fold in [4, 9]:\n",
    "            print(\"=> Overall ROC AUC Score = {}\".format(roc_auc_score(target, train_preds[:, fold//5])))\n",
    "    return model, test_preds"
   ]
  },
  {
   "cell_type": "markdown",
   "metadata": {
    "papermill": {
     "duration": 0.020887,
     "end_time": "2021-03-31T04:48:47.804985",
     "exception": false,
     "start_time": "2021-03-31T04:48:47.784098",
     "status": "completed"
    },
    "tags": []
   },
   "source": [
    "# XGBoost"
   ]
  },
  {
   "cell_type": "code",
   "execution_count": 18,
   "metadata": {
    "execution": {
     "iopub.execute_input": "2021-03-31T04:48:47.853050Z",
     "iopub.status.busy": "2021-03-31T04:48:47.852343Z",
     "iopub.status.idle": "2021-03-31T04:48:47.855173Z",
     "shell.execute_reply": "2021-03-31T04:48:47.854762Z"
    },
    "papermill": {
     "duration": 0.029075,
     "end_time": "2021-03-31T04:48:47.855278",
     "exception": false,
     "start_time": "2021-03-31T04:48:47.826203",
     "status": "completed"
    },
    "tags": []
   },
   "outputs": [],
   "source": [
    "params_xgb = {'seed':2021,\n",
    "            'n_estimators':10000,\n",
    "            'verbosity':1,\n",
    "            'objective': 'binary:logistic',\n",
    "            'eval_metric':\"auc\",\n",
    "            'tree_method':\"gpu_hist\",\n",
    "            'use_label_encoder':False,\n",
    "            'gpu_id':0,\n",
    "            'alpha':7.105038963844129,\n",
    "            'colsample_bytree':0.25505629740052566,\n",
    "            'gamma':0.4999381950212869,\n",
    "            'reg_lambda':1.7256912198205319,\n",
    "            'learning_rate':0.011823142071967673,\n",
    "            'max_bin':338,\n",
    "            'max_depth':8,\n",
    "            'min_child_weight':2.286836198630466,\n",
    "            'subsample':0.618417952155855}\n",
    "\n",
    "clf_xgb = XGBClassifier"
   ]
  },
  {
   "cell_type": "code",
   "execution_count": 19,
   "metadata": {
    "execution": {
     "iopub.execute_input": "2021-03-31T04:48:47.901984Z",
     "iopub.status.busy": "2021-03-31T04:48:47.901217Z",
     "iopub.status.idle": "2021-03-31T05:02:22.715301Z",
     "shell.execute_reply": "2021-03-31T05:02:22.715905Z"
    },
    "papermill": {
     "duration": 814.839629,
     "end_time": "2021-03-31T05:02:22.716127",
     "exception": false,
     "start_time": "2021-03-31T04:48:47.876498",
     "status": "completed"
    },
    "tags": []
   },
   "outputs": [
    {
     "name": "stdout",
     "output_type": "stream",
     "text": [
      "-> Fold 1\n",
      "ROC AUC Score = 0.8956076176177956\n",
      "-> Fold 2\n",
      "ROC AUC Score = 0.8979800007970735\n",
      "-> Fold 3\n",
      "ROC AUC Score = 0.8939402831473013\n",
      "-> Fold 4\n",
      "ROC AUC Score = 0.896609562315878\n",
      "-> Fold 5\n",
      "ROC AUC Score = 0.8939515621186679\n",
      "=> Overall ROC AUC Score = 0.8956116497204543\n",
      "-> Fold 6\n",
      "ROC AUC Score = 0.8963477608367225\n",
      "-> Fold 7\n",
      "ROC AUC Score = 0.8967637235113199\n",
      "-> Fold 8\n",
      "ROC AUC Score = 0.8962737535051998\n",
      "-> Fold 9\n",
      "ROC AUC Score = 0.894838943703407\n",
      "-> Fold 10\n",
      "ROC AUC Score = 0.8940650989884769\n",
      "=> Overall ROC AUC Score = 0.8956557373717358\n"
     ]
    }
   ],
   "source": [
    "model_xgb, test_preds_xgb = run_rskf(train, target, clf_xgb , params_xgb)"
   ]
  },
  {
   "cell_type": "code",
   "execution_count": 20,
   "metadata": {
    "execution": {
     "iopub.execute_input": "2021-03-31T05:02:22.770905Z",
     "iopub.status.busy": "2021-03-31T05:02:22.770282Z",
     "iopub.status.idle": "2021-03-31T05:02:23.510002Z",
     "shell.execute_reply": "2021-03-31T05:02:23.509481Z"
    },
    "papermill": {
     "duration": 0.768949,
     "end_time": "2021-03-31T05:02:23.510135",
     "exception": false,
     "start_time": "2021-03-31T05:02:22.741186",
     "status": "completed"
    },
    "tags": []
   },
   "outputs": [],
   "source": [
    "xgb = pd.DataFrame({'id':test['id'],'target':test_preds_xgb})\n",
    "xgb.to_csv('XGB.csv',index=False)"
   ]
  },
  {
   "cell_type": "markdown",
   "metadata": {
    "papermill": {
     "duration": 0.024279,
     "end_time": "2021-03-31T05:02:23.559248",
     "exception": false,
     "start_time": "2021-03-31T05:02:23.534969",
     "status": "completed"
    },
    "tags": []
   },
   "source": [
    "# Parameter tuning for Lightgbm via optuna"
   ]
  },
  {
   "cell_type": "markdown",
   "metadata": {
    "papermill": {
     "duration": 0.024754,
     "end_time": "2021-03-31T05:02:23.608471",
     "exception": false,
     "start_time": "2021-03-31T05:02:23.583717",
     "status": "completed"
    },
    "tags": []
   },
   "source": [
    "def fun(trial,data=X,target=y):\n",
    "    \n",
    "    train_x, test_x, train_y, test_y = train_test_split(data, target, test_size=0.2)\n",
    "    param = {\n",
    "        'n_estimators': trial.suggest_int('n_estimators', 1000,10000),\n",
    "        'reg_alpha': trial.suggest_loguniform('reg_alpha', 1e-5, 10.0),\n",
    "        'reg_lambda': trial.suggest_loguniform('reg_lambda', 1e-5, 10.0),\n",
    "        'colsample_bytree': trial.suggest_categorical('colsample_bytree', [0.3,0.4,0.5,0.6]),\n",
    "        'subsample': trial.suggest_uniform('subsample', 0,1),\n",
    "        'learning_rate': trial.suggest_uniform('learning_rate', 0, 0.1 ),\n",
    "        'max_depth': trial.suggest_categorical('max_depth', [10,20,100]),\n",
    "        'num_leaves' : trial.suggest_int('num_leaves', 1, 1000),\n",
    "        'min_child_samples': trial.suggest_int('min_child_samples', 1, 300),\n",
    "        'cat_smooth' : trial.suggest_int('cat_smooth', 1, 100),\n",
    "        'cat_l2': trial.suggest_int('cat_l2',1,20),\n",
    "        'device_type': 'gpu',\n",
    "        'metric': 'auc', \n",
    "        'random_state': 13,\n",
    "        \n",
    "    }\n",
    "    model = LGBMClassifier(**param)  \n",
    "    \n",
    "    model.fit(train_x,train_y,eval_set=[(test_x,test_y)],early_stopping_rounds=200,verbose=False)\n",
    "    \n",
    "    preds = model.predict_proba(test_x)[:,1]\n",
    "    \n",
    "    auc = roc_auc_score(test_y, preds)\n",
    "    \n",
    "    return auc"
   ]
  },
  {
   "cell_type": "markdown",
   "metadata": {
    "papermill": {
     "duration": 0.024055,
     "end_time": "2021-03-31T05:02:23.657092",
     "exception": false,
     "start_time": "2021-03-31T05:02:23.633037",
     "status": "completed"
    },
    "tags": []
   },
   "source": [
    "study = optuna.create_study(direction='maximize')\n",
    "study.optimize(fun, n_trials=50)\n",
    "print('Number of finished trials:', len(study.trials))\n",
    "print('Best trial:', study.best_trial.params)"
   ]
  },
  {
   "cell_type": "markdown",
   "metadata": {
    "papermill": {
     "duration": 0.023921,
     "end_time": "2021-03-31T05:02:23.705768",
     "exception": false,
     "start_time": "2021-03-31T05:02:23.681847",
     "status": "completed"
    },
    "tags": []
   },
   "source": [
    "plot_optimization_histor: shows the scores from all trials as well as the best score so far at each point.\n"
   ]
  },
  {
   "cell_type": "markdown",
   "metadata": {
    "papermill": {
     "duration": 0.023964,
     "end_time": "2021-03-31T05:02:23.753978",
     "exception": false,
     "start_time": "2021-03-31T05:02:23.730014",
     "status": "completed"
    },
    "tags": []
   },
   "source": [
    "optuna.visualization.plot_optimization_history(study)"
   ]
  },
  {
   "cell_type": "markdown",
   "metadata": {
    "papermill": {
     "duration": 0.023796,
     "end_time": "2021-03-31T05:02:23.802880",
     "exception": false,
     "start_time": "2021-03-31T05:02:23.779084",
     "status": "completed"
    },
    "tags": []
   },
   "source": [
    "Visualize parameter importances.\n"
   ]
  },
  {
   "cell_type": "markdown",
   "metadata": {
    "papermill": {
     "duration": 0.024577,
     "end_time": "2021-03-31T05:02:23.851865",
     "exception": false,
     "start_time": "2021-03-31T05:02:23.827288",
     "status": "completed"
    },
    "tags": []
   },
   "source": [
    "optuna.visualization.plot_param_importances(study)"
   ]
  },
  {
   "cell_type": "markdown",
   "metadata": {
    "papermill": {
     "duration": 0.02406,
     "end_time": "2021-03-31T05:02:23.899974",
     "exception": false,
     "start_time": "2021-03-31T05:02:23.875914",
     "status": "completed"
    },
    "tags": []
   },
   "source": [
    "best_params = study.best_params"
   ]
  },
  {
   "cell_type": "code",
   "execution_count": 21,
   "metadata": {
    "execution": {
     "iopub.execute_input": "2021-03-31T05:02:23.958119Z",
     "iopub.status.busy": "2021-03-31T05:02:23.957445Z",
     "iopub.status.idle": "2021-03-31T05:02:23.961606Z",
     "shell.execute_reply": "2021-03-31T05:02:23.961096Z"
    },
    "papermill": {
     "duration": 0.037186,
     "end_time": "2021-03-31T05:02:23.961714",
     "exception": false,
     "start_time": "2021-03-31T05:02:23.924528",
     "status": "completed"
    },
    "tags": []
   },
   "outputs": [],
   "source": [
    "params_lgb = {\n",
    "            'cat_smooth':89.2699690675538,\n",
    "            'colsample_bytree':0.2557260109926193,\n",
    "            'learning_rate':0.00918685483594994,\n",
    "            'max_bin':788,\n",
    "            'max_depth':81,\n",
    "            'metric':\"auc\",\n",
    "            'min_child_samples':292,\n",
    "            'min_data_per_group':177,\n",
    "            'n_estimators':16000,\n",
    "            'n_jobs':-1,\n",
    "            'num_leaves':171,\n",
    "            'reg_alpha':0.7115353581785044,\n",
    "            'reg_lambda':5.658115293998945,\n",
    "            'subsample':0.9262904583735796,\n",
    "            'subsample_freq':1,\n",
    "            'verbose':-1\n",
    "            }\n",
    "\n",
    "clf_lgb = LGBMClassifier"
   ]
  },
  {
   "cell_type": "code",
   "execution_count": 22,
   "metadata": {
    "execution": {
     "iopub.execute_input": "2021-03-31T05:02:24.015170Z",
     "iopub.status.busy": "2021-03-31T05:02:24.014249Z",
     "iopub.status.idle": "2021-03-31T05:44:12.439512Z",
     "shell.execute_reply": "2021-03-31T05:44:12.439939Z"
    },
    "papermill": {
     "duration": 2508.453987,
     "end_time": "2021-03-31T05:44:12.440102",
     "exception": false,
     "start_time": "2021-03-31T05:02:23.986115",
     "status": "completed"
    },
    "tags": []
   },
   "outputs": [
    {
     "name": "stdout",
     "output_type": "stream",
     "text": [
      "-> Fold 1\n",
      "ROC AUC Score = 0.8958634237848013\n",
      "-> Fold 2\n",
      "ROC AUC Score = 0.8982981225452817\n",
      "-> Fold 3\n",
      "ROC AUC Score = 0.8941791112750705\n",
      "-> Fold 4\n",
      "ROC AUC Score = 0.8964342160198006\n",
      "-> Fold 5\n",
      "ROC AUC Score = 0.8938292755125155\n",
      "=> Overall ROC AUC Score = 0.8957166950750188\n",
      "-> Fold 6\n",
      "ROC AUC Score = 0.8965125195756036\n",
      "-> Fold 7\n",
      "ROC AUC Score = 0.8970609483333257\n",
      "-> Fold 8\n",
      "ROC AUC Score = 0.8961618112907814\n",
      "-> Fold 9\n",
      "ROC AUC Score = 0.8948440595128937\n",
      "-> Fold 10\n",
      "ROC AUC Score = 0.8937900040538377\n",
      "=> Overall ROC AUC Score = 0.8956684946085159\n"
     ]
    }
   ],
   "source": [
    "model_lgb, test_preds_lgb = run_rskf(train, target, clf_lgb , params_lgb)"
   ]
  },
  {
   "cell_type": "code",
   "execution_count": 23,
   "metadata": {
    "execution": {
     "iopub.execute_input": "2021-03-31T05:44:12.500384Z",
     "iopub.status.busy": "2021-03-31T05:44:12.499551Z",
     "iopub.status.idle": "2021-03-31T05:44:13.210128Z",
     "shell.execute_reply": "2021-03-31T05:44:13.209136Z"
    },
    "papermill": {
     "duration": 0.742508,
     "end_time": "2021-03-31T05:44:13.210263",
     "exception": false,
     "start_time": "2021-03-31T05:44:12.467755",
     "status": "completed"
    },
    "tags": []
   },
   "outputs": [],
   "source": [
    "lgb = pd.DataFrame({'id':test['id'],'target':test_preds_lgb})\n",
    "lgb.to_csv('LGB.csv',index=False)"
   ]
  },
  {
   "cell_type": "code",
   "execution_count": 24,
   "metadata": {
    "execution": {
     "iopub.execute_input": "2021-03-31T05:44:13.272087Z",
     "iopub.status.busy": "2021-03-31T05:44:13.270980Z",
     "iopub.status.idle": "2021-03-31T05:44:13.967690Z",
     "shell.execute_reply": "2021-03-31T05:44:13.967234Z"
    },
    "papermill": {
     "duration": 0.728945,
     "end_time": "2021-03-31T05:44:13.967838",
     "exception": false,
     "start_time": "2021-03-31T05:44:13.238893",
     "status": "completed"
    },
    "tags": []
   },
   "outputs": [],
   "source": [
    "comb = pd.DataFrame({'id':test['id'],'target':(test_preds_xgb + test_preds_lgb)/2 })\n",
    "comb.to_csv('comb.csv',index=False)"
   ]
  }
 ],
 "metadata": {
  "kernelspec": {
   "display_name": "Python 3",
   "language": "python",
   "name": "python3"
  },
  "language_info": {
   "codemirror_mode": {
    "name": "ipython",
    "version": 3
   },
   "file_extension": ".py",
   "mimetype": "text/x-python",
   "name": "python",
   "nbconvert_exporter": "python",
   "pygments_lexer": "ipython3",
   "version": "3.7.9"
  },
  "papermill": {
   "default_parameters": {},
   "duration": 3350.314843,
   "end_time": "2021-03-31T05:44:15.307848",
   "environment_variables": {},
   "exception": null,
   "input_path": "__notebook__.ipynb",
   "output_path": "__notebook__.ipynb",
   "parameters": {},
   "start_time": "2021-03-31T04:48:24.993005",
   "version": "2.2.2"
  }
 },
 "nbformat": 4,
 "nbformat_minor": 4
}
