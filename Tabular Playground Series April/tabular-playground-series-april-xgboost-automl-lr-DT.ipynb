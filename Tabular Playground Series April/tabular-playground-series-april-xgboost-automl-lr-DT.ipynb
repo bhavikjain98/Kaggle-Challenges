{
 "cells": [
  {
   "cell_type": "code",
   "execution_count": 1,
   "id": "charming-shoot",
   "metadata": {
    "_kg_hide-output": true,
    "execution": {
     "iopub.execute_input": "2021-04-07T05:07:27.559354Z",
     "iopub.status.busy": "2021-04-07T05:07:27.558191Z",
     "iopub.status.idle": "2021-04-07T05:08:29.469496Z",
     "shell.execute_reply": "2021-04-07T05:08:29.468746Z"
    },
    "papermill": {
     "duration": 61.947994,
     "end_time": "2021-04-07T05:08:29.469668",
     "exception": false,
     "start_time": "2021-04-07T05:07:27.521674",
     "status": "completed"
    },
    "tags": []
   },
   "outputs": [
    {
     "name": "stdout",
     "output_type": "stream",
     "text": [
      "Collecting mljar-supervised\r\n",
      "  Downloading mljar-supervised-0.10.3.tar.gz (101 kB)\r\n",
      "\u001b[K     |████████████████████████████████| 101 kB 3.2 MB/s \r\n",
      "\u001b[?25hRequirement already satisfied: numpy<1.20.0 in /opt/conda/lib/python3.7/site-packages (from mljar-supervised) (1.19.5)\r\n",
      "Collecting pandas==1.2.0\r\n",
      "  Downloading pandas-1.2.0-cp37-cp37m-manylinux1_x86_64.whl (9.9 MB)\r\n",
      "\u001b[K     |████████████████████████████████| 9.9 MB 7.5 MB/s \r\n",
      "\u001b[?25hCollecting scipy==1.6.1\r\n",
      "  Downloading scipy-1.6.1-cp37-cp37m-manylinux1_x86_64.whl (27.4 MB)\r\n",
      "\u001b[K     |████████████████████████████████| 27.4 MB 54.4 MB/s \r\n",
      "\u001b[?25hRequirement already satisfied: scikit-learn==0.24.1 in /opt/conda/lib/python3.7/site-packages (from mljar-supervised) (0.24.1)\r\n",
      "Requirement already satisfied: xgboost==1.3.3 in /opt/conda/lib/python3.7/site-packages (from mljar-supervised) (1.3.3)\r\n",
      "Collecting lightgbm==3.0.0\r\n",
      "  Downloading lightgbm-3.0.0-py2.py3-none-manylinux1_x86_64.whl (1.7 MB)\r\n",
      "\u001b[K     |████████████████████████████████| 1.7 MB 42.9 MB/s \r\n",
      "\u001b[?25hCollecting catboost==0.24.4\r\n",
      "  Downloading catboost-0.24.4-cp37-none-manylinux1_x86_64.whl (65.7 MB)\r\n",
      "\u001b[K     |████████████████████████████████| 65.7 MB 50.5 MB/s \r\n",
      "\u001b[?25hRequirement already satisfied: joblib==1.0.1 in /opt/conda/lib/python3.7/site-packages (from mljar-supervised) (1.0.1)\r\n",
      "Collecting cloudpickle==1.3.0\r\n",
      "  Downloading cloudpickle-1.3.0-py2.py3-none-any.whl (26 kB)\r\n",
      "Requirement already satisfied: pyarrow>=2.0.0 in /opt/conda/lib/python3.7/site-packages (from mljar-supervised) (3.0.0)\r\n",
      "Collecting tabulate==0.8.7\r\n",
      "  Downloading tabulate-0.8.7-py3-none-any.whl (24 kB)\r\n",
      "Requirement already satisfied: matplotlib>=3.2.2 in /opt/conda/lib/python3.7/site-packages (from mljar-supervised) (3.4.0)\r\n",
      "Collecting dtreeviz==1.0\r\n",
      "  Downloading dtreeviz-1.0.tar.gz (42 kB)\r\n",
      "\u001b[K     |████████████████████████████████| 42 kB 659 kB/s \r\n",
      "\u001b[?25hCollecting shap==0.36.0\r\n",
      "  Downloading shap-0.36.0.tar.gz (319 kB)\r\n",
      "\u001b[K     |████████████████████████████████| 319 kB 57.9 MB/s \r\n",
      "\u001b[?25hCollecting seaborn==0.10.1\r\n",
      "  Downloading seaborn-0.10.1-py3-none-any.whl (215 kB)\r\n",
      "\u001b[K     |████████████████████████████████| 215 kB 60.8 MB/s \r\n",
      "\u001b[?25hRequirement already satisfied: wordcloud==1.8.1 in /opt/conda/lib/python3.7/site-packages (from mljar-supervised) (1.8.1)\r\n",
      "Requirement already satisfied: category_encoders==2.2.2 in /opt/conda/lib/python3.7/site-packages (from mljar-supervised) (2.2.2)\r\n",
      "Requirement already satisfied: optuna==2.6.0 in /opt/conda/lib/python3.7/site-packages (from mljar-supervised) (2.6.0)\r\n",
      "Requirement already satisfied: plotly in /opt/conda/lib/python3.7/site-packages (from catboost==0.24.4->mljar-supervised) (4.14.3)\r\n",
      "Requirement already satisfied: graphviz in /opt/conda/lib/python3.7/site-packages (from catboost==0.24.4->mljar-supervised) (0.8.4)\r\n",
      "Requirement already satisfied: six in /opt/conda/lib/python3.7/site-packages (from catboost==0.24.4->mljar-supervised) (1.15.0)\r\n",
      "Requirement already satisfied: patsy>=0.5.1 in /opt/conda/lib/python3.7/site-packages (from category_encoders==2.2.2->mljar-supervised) (0.5.1)\r\n",
      "Requirement already satisfied: statsmodels>=0.9.0 in /opt/conda/lib/python3.7/site-packages (from category_encoders==2.2.2->mljar-supervised) (0.12.2)\r\n",
      "Collecting graphviz\r\n",
      "  Downloading graphviz-0.16-py2.py3-none-any.whl (19 kB)\r\n",
      "Collecting colour\r\n",
      "  Downloading colour-0.1.5-py2.py3-none-any.whl (23 kB)\r\n",
      "Requirement already satisfied: pytest in /opt/conda/lib/python3.7/site-packages (from dtreeviz==1.0->mljar-supervised) (6.2.2)\r\n",
      "Requirement already satisfied: cliff in /opt/conda/lib/python3.7/site-packages (from optuna==2.6.0->mljar-supervised) (3.7.0)\r\n",
      "Requirement already satisfied: colorlog in /opt/conda/lib/python3.7/site-packages (from optuna==2.6.0->mljar-supervised) (4.8.0)\r\n",
      "Requirement already satisfied: alembic in /opt/conda/lib/python3.7/site-packages (from optuna==2.6.0->mljar-supervised) (1.5.8)\r\n",
      "Requirement already satisfied: packaging>=20.0 in /opt/conda/lib/python3.7/site-packages (from optuna==2.6.0->mljar-supervised) (20.9)\r\n",
      "Requirement already satisfied: sqlalchemy>=1.1.0 in /opt/conda/lib/python3.7/site-packages (from optuna==2.6.0->mljar-supervised) (1.3.23)\r\n",
      "Requirement already satisfied: tqdm in /opt/conda/lib/python3.7/site-packages (from optuna==2.6.0->mljar-supervised) (4.56.2)\r\n",
      "Requirement already satisfied: cmaes>=0.8.2 in /opt/conda/lib/python3.7/site-packages (from optuna==2.6.0->mljar-supervised) (0.8.2)\r\n",
      "Requirement already satisfied: pytz>=2017.3 in /opt/conda/lib/python3.7/site-packages (from pandas==1.2.0->mljar-supervised) (2021.1)\r\n",
      "Requirement already satisfied: python-dateutil>=2.7.3 in /opt/conda/lib/python3.7/site-packages (from pandas==1.2.0->mljar-supervised) (2.8.1)\r\n",
      "Requirement already satisfied: threadpoolctl>=2.0.0 in /opt/conda/lib/python3.7/site-packages (from scikit-learn==0.24.1->mljar-supervised) (2.1.0)\r\n",
      "Requirement already satisfied: slicer in /opt/conda/lib/python3.7/site-packages (from shap==0.36.0->mljar-supervised) (0.0.7)\r\n",
      "Requirement already satisfied: numba in /opt/conda/lib/python3.7/site-packages (from shap==0.36.0->mljar-supervised) (0.52.0)\r\n",
      "Requirement already satisfied: pillow in /opt/conda/lib/python3.7/site-packages (from wordcloud==1.8.1->mljar-supervised) (7.2.0)\r\n",
      "Requirement already satisfied: pyparsing>=2.2.1 in /opt/conda/lib/python3.7/site-packages (from matplotlib>=3.2.2->mljar-supervised) (2.4.7)\r\n",
      "Requirement already satisfied: kiwisolver>=1.0.1 in /opt/conda/lib/python3.7/site-packages (from matplotlib>=3.2.2->mljar-supervised) (1.3.1)\r\n",
      "Requirement already satisfied: cycler>=0.10 in /opt/conda/lib/python3.7/site-packages (from matplotlib>=3.2.2->mljar-supervised) (0.10.0)\r\n",
      "Requirement already satisfied: Mako in /opt/conda/lib/python3.7/site-packages (from alembic->optuna==2.6.0->mljar-supervised) (1.1.4)\r\n",
      "Requirement already satisfied: python-editor>=0.3 in /opt/conda/lib/python3.7/site-packages (from alembic->optuna==2.6.0->mljar-supervised) (1.0.4)\r\n",
      "Requirement already satisfied: stevedore>=2.0.1 in /opt/conda/lib/python3.7/site-packages (from cliff->optuna==2.6.0->mljar-supervised) (3.3.0)\r\n",
      "Requirement already satisfied: PrettyTable>=0.7.2 in /opt/conda/lib/python3.7/site-packages (from cliff->optuna==2.6.0->mljar-supervised) (2.0.0)\r\n",
      "Requirement already satisfied: cmd2>=1.0.0 in /opt/conda/lib/python3.7/site-packages (from cliff->optuna==2.6.0->mljar-supervised) (1.5.0)\r\n",
      "Requirement already satisfied: pbr!=2.1.0,>=2.0.0 in /opt/conda/lib/python3.7/site-packages (from cliff->optuna==2.6.0->mljar-supervised) (5.5.1)\r\n",
      "Requirement already satisfied: PyYAML>=3.12 in /opt/conda/lib/python3.7/site-packages (from cliff->optuna==2.6.0->mljar-supervised) (5.3.1)\r\n",
      "Requirement already satisfied: wcwidth>=0.1.7 in /opt/conda/lib/python3.7/site-packages (from cmd2>=1.0.0->cliff->optuna==2.6.0->mljar-supervised) (0.2.5)\r\n",
      "Requirement already satisfied: pyperclip>=1.6 in /opt/conda/lib/python3.7/site-packages (from cmd2>=1.0.0->cliff->optuna==2.6.0->mljar-supervised) (1.8.2)\r\n",
      "Requirement already satisfied: attrs>=16.3.0 in /opt/conda/lib/python3.7/site-packages (from cmd2>=1.0.0->cliff->optuna==2.6.0->mljar-supervised) (20.3.0)\r\n",
      "Requirement already satisfied: importlib-metadata>=1.6.0 in /opt/conda/lib/python3.7/site-packages (from cmd2>=1.0.0->cliff->optuna==2.6.0->mljar-supervised) (3.4.0)\r\n",
      "Requirement already satisfied: colorama>=0.3.7 in /opt/conda/lib/python3.7/site-packages (from cmd2>=1.0.0->cliff->optuna==2.6.0->mljar-supervised) (0.4.4)\r\n",
      "Requirement already satisfied: typing-extensions>=3.6.4 in /opt/conda/lib/python3.7/site-packages (from importlib-metadata>=1.6.0->cmd2>=1.0.0->cliff->optuna==2.6.0->mljar-supervised) (3.7.4.3)\r\n",
      "Requirement already satisfied: zipp>=0.5 in /opt/conda/lib/python3.7/site-packages (from importlib-metadata>=1.6.0->cmd2>=1.0.0->cliff->optuna==2.6.0->mljar-supervised) (3.4.0)\r\n",
      "Requirement already satisfied: setuptools in /opt/conda/lib/python3.7/site-packages (from PrettyTable>=0.7.2->cliff->optuna==2.6.0->mljar-supervised) (49.6.0.post20210108)\r\n",
      "Requirement already satisfied: MarkupSafe>=0.9.2 in /opt/conda/lib/python3.7/site-packages (from Mako->alembic->optuna==2.6.0->mljar-supervised) (1.1.1)\r\n",
      "Requirement already satisfied: llvmlite<0.36,>=0.35.0 in /opt/conda/lib/python3.7/site-packages (from numba->shap==0.36.0->mljar-supervised) (0.35.0)\r\n",
      "Requirement already satisfied: retrying>=1.3.3 in /opt/conda/lib/python3.7/site-packages (from plotly->catboost==0.24.4->mljar-supervised) (1.3.3)\r\n",
      "Requirement already satisfied: py>=1.8.2 in /opt/conda/lib/python3.7/site-packages (from pytest->dtreeviz==1.0->mljar-supervised) (1.10.0)\r\n",
      "Requirement already satisfied: toml in /opt/conda/lib/python3.7/site-packages (from pytest->dtreeviz==1.0->mljar-supervised) (0.10.2)\r\n",
      "Requirement already satisfied: iniconfig in /opt/conda/lib/python3.7/site-packages (from pytest->dtreeviz==1.0->mljar-supervised) (1.1.1)\r\n",
      "Requirement already satisfied: pluggy<1.0.0a1,>=0.12 in /opt/conda/lib/python3.7/site-packages (from pytest->dtreeviz==1.0->mljar-supervised) (0.13.1)\r\n",
      "Building wheels for collected packages: mljar-supervised, dtreeviz, shap\r\n",
      "  Building wheel for mljar-supervised (setup.py) ... \u001b[?25l-\b \b\\\b \b|\b \bdone\r\n",
      "\u001b[?25h  Created wheel for mljar-supervised: filename=mljar_supervised-0.10.3-py3-none-any.whl size=134890 sha256=999c40bb9179997a79582dab0f75b76bba5888fdb1576c4cf227b6e6e68ccecc\r\n",
      "  Stored in directory: /root/.cache/pip/wheels/a3/c8/5a/5c3617a8488b49cb9d5ae6b2d79b0e4e6ddcf381def60fde7f\r\n",
      "  Building wheel for dtreeviz (setup.py) ... \u001b[?25l-\b \b\\\b \bdone\r\n",
      "\u001b[?25h  Created wheel for dtreeviz: filename=dtreeviz-1.0-py3-none-any.whl size=47219 sha256=0a14c5135bd5f1a5016690e27a6f495ac2f06e388179d7b2e7276af60967d988\r\n",
      "  Stored in directory: /root/.cache/pip/wheels/0a/27/39/56e6216f118120c9a3d1c7a5f4ce96f06a98ccd20f691166fe\r\n",
      "  Building wheel for shap (setup.py) ... \u001b[?25l-\b \b\\\b \b|\b \b/\b \b-\b \b\\\b \bdone\r\n",
      "\u001b[?25h  Created wheel for shap: filename=shap-0.36.0-cp37-cp37m-linux_x86_64.whl size=461178 sha256=d2f4ad227fe8edf7fa26c83f11ae064a3d2952eea3a017d934abaebf35131c5d\r\n",
      "  Stored in directory: /root/.cache/pip/wheels/6b/1e/4a/b1d65778aac48b677ac2a758251f9cccb338775e8d174f3696\r\n",
      "Successfully built mljar-supervised dtreeviz shap\r\n",
      "Installing collected packages: scipy, pandas, graphviz, colour, tabulate, shap, seaborn, lightgbm, dtreeviz, cloudpickle, catboost, mljar-supervised\r\n",
      "  Attempting uninstall: scipy\r\n",
      "    Found existing installation: scipy 1.5.4\r\n",
      "    Uninstalling scipy-1.5.4:\r\n",
      "      Successfully uninstalled scipy-1.5.4\r\n",
      "  Attempting uninstall: pandas\r\n",
      "    Found existing installation: pandas 1.2.2\r\n",
      "    Uninstalling pandas-1.2.2:\r\n",
      "      Successfully uninstalled pandas-1.2.2\r\n",
      "  Attempting uninstall: graphviz\r\n",
      "    Found existing installation: graphviz 0.8.4\r\n",
      "    Uninstalling graphviz-0.8.4:\r\n",
      "      Successfully uninstalled graphviz-0.8.4\r\n",
      "  Attempting uninstall: tabulate\r\n",
      "    Found existing installation: tabulate 0.8.9\r\n",
      "    Uninstalling tabulate-0.8.9:\r\n",
      "      Successfully uninstalled tabulate-0.8.9\r\n",
      "  Attempting uninstall: shap\r\n",
      "    Found existing installation: shap 0.39.0\r\n",
      "    Uninstalling shap-0.39.0:\r\n",
      "      Successfully uninstalled shap-0.39.0\r\n",
      "  Attempting uninstall: seaborn\r\n",
      "    Found existing installation: seaborn 0.11.1\r\n",
      "    Uninstalling seaborn-0.11.1:\r\n",
      "      Successfully uninstalled seaborn-0.11.1\r\n",
      "  Attempting uninstall: lightgbm\r\n",
      "    Found existing installation: lightgbm 3.1.1\r\n",
      "    Uninstalling lightgbm-3.1.1:\r\n",
      "      Successfully uninstalled lightgbm-3.1.1\r\n",
      "  Attempting uninstall: cloudpickle\r\n",
      "    Found existing installation: cloudpickle 1.6.0\r\n",
      "    Uninstalling cloudpickle-1.6.0:\r\n",
      "      Successfully uninstalled cloudpickle-1.6.0\r\n",
      "  Attempting uninstall: catboost\r\n",
      "    Found existing installation: catboost 0.25\r\n",
      "    Uninstalling catboost-0.25:\r\n",
      "      Successfully uninstalled catboost-0.25\r\n",
      "\u001b[31mERROR: pip's dependency resolver does not currently take into account all the packages that are installed. This behaviour is the source of the following dependency conflicts.\r\n",
      "pyldavis 3.3.1 requires numpy>=1.20.0, but you have numpy 1.19.5 which is incompatible.\r\n",
      "pdpbox 0.2.1 requires matplotlib==3.1.1, but you have matplotlib 3.4.0 which is incompatible.\r\n",
      "mxnet 1.8.0.post0 requires graphviz<0.9.0,>=0.8.1, but you have graphviz 0.16 which is incompatible.\r\n",
      "matrixprofile 1.1.10 requires protobuf==3.11.2, but you have protobuf 3.15.6 which is incompatible.\r\n",
      "distributed 2021.3.1 requires cloudpickle>=1.5.0, but you have cloudpickle 1.3.0 which is incompatible.\r\n",
      "autogluon-core 0.1.0 requires graphviz<0.9.0,>=0.8.1, but you have graphviz 0.16 which is incompatible.\r\n",
      "autogluon-core 0.1.0 requires scipy==1.5.4, but you have scipy 1.6.1 which is incompatible.\u001b[0m\r\n",
      "Successfully installed catboost-0.24.4 cloudpickle-1.3.0 colour-0.1.5 dtreeviz-1.0 graphviz-0.16 lightgbm-3.0.0 mljar-supervised-0.10.3 pandas-1.2.0 scipy-1.6.1 seaborn-0.10.1 shap-0.36.0 tabulate-0.8.7\r\n",
      "Note: you may need to restart the kernel to use updated packages.\n"
     ]
    }
   ],
   "source": [
    "pip install mljar-supervised"
   ]
  },
  {
   "cell_type": "code",
   "execution_count": 2,
   "id": "drawn-video",
   "metadata": {
    "execution": {
     "iopub.execute_input": "2021-04-07T05:08:29.670564Z",
     "iopub.status.busy": "2021-04-07T05:08:29.669902Z",
     "iopub.status.idle": "2021-04-07T05:08:31.881622Z",
     "shell.execute_reply": "2021-04-07T05:08:31.880570Z"
    },
    "papermill": {
     "duration": 2.315268,
     "end_time": "2021-04-07T05:08:31.881782",
     "exception": false,
     "start_time": "2021-04-07T05:08:29.566514",
     "status": "completed"
    },
    "tags": []
   },
   "outputs": [],
   "source": [
    "import numpy as np\n",
    "import pandas as pd\n",
    "import missingno as msno\n",
    "\n",
    "import matplotlib.pyplot as plt\n",
    "plt.style.use('ggplot')\n",
    "import seaborn as sns\n",
    "import plotly.express as px\n",
    "import plotly.graph_objects as go\n",
    "\n",
    "import warnings\n",
    "warnings.filterwarnings('ignore')\n",
    "%matplotlib inline\n",
    "\n",
    "from sklearn.preprocessing import LabelEncoder\n",
    "from sklearn.linear_model import LogisticRegression\n",
    "from xgboost import XGBClassifier\n",
    "from sklearn.model_selection import GridSearchCV\n",
    "from sklearn.ensemble import AdaBoostClassifier\n",
    "from sklearn.metrics import roc_auc_score, accuracy_score\n",
    "import graphviz\n",
    "from sklearn.tree import DecisionTreeClassifier, export_graphviz"
   ]
  },
  {
   "cell_type": "code",
   "execution_count": 3,
   "id": "greatest-preview",
   "metadata": {
    "execution": {
     "iopub.execute_input": "2021-04-07T05:08:32.081295Z",
     "iopub.status.busy": "2021-04-07T05:08:32.080403Z",
     "iopub.status.idle": "2021-04-07T05:08:32.824689Z",
     "shell.execute_reply": "2021-04-07T05:08:32.824125Z"
    },
    "papermill": {
     "duration": 0.84669,
     "end_time": "2021-04-07T05:08:32.824839",
     "exception": false,
     "start_time": "2021-04-07T05:08:31.978149",
     "status": "completed"
    },
    "tags": []
   },
   "outputs": [
    {
     "data": {
      "text/html": [
       "<div>\n",
       "<style scoped>\n",
       "    .dataframe tbody tr th:only-of-type {\n",
       "        vertical-align: middle;\n",
       "    }\n",
       "\n",
       "    .dataframe tbody tr th {\n",
       "        vertical-align: top;\n",
       "    }\n",
       "\n",
       "    .dataframe thead th {\n",
       "        text-align: right;\n",
       "    }\n",
       "</style>\n",
       "<table border=\"1\" class=\"dataframe\">\n",
       "  <thead>\n",
       "    <tr style=\"text-align: right;\">\n",
       "      <th></th>\n",
       "      <th>PassengerId</th>\n",
       "      <th>Survived</th>\n",
       "      <th>Pclass</th>\n",
       "      <th>Name</th>\n",
       "      <th>Sex</th>\n",
       "      <th>Age</th>\n",
       "      <th>SibSp</th>\n",
       "      <th>Parch</th>\n",
       "      <th>Ticket</th>\n",
       "      <th>Fare</th>\n",
       "      <th>Cabin</th>\n",
       "      <th>Embarked</th>\n",
       "    </tr>\n",
       "  </thead>\n",
       "  <tbody>\n",
       "    <tr>\n",
       "      <th>0</th>\n",
       "      <td>0</td>\n",
       "      <td>1</td>\n",
       "      <td>1</td>\n",
       "      <td>Oconnor, Frankie</td>\n",
       "      <td>male</td>\n",
       "      <td>NaN</td>\n",
       "      <td>2</td>\n",
       "      <td>0</td>\n",
       "      <td>209245</td>\n",
       "      <td>27.14</td>\n",
       "      <td>C12239</td>\n",
       "      <td>S</td>\n",
       "    </tr>\n",
       "    <tr>\n",
       "      <th>1</th>\n",
       "      <td>1</td>\n",
       "      <td>0</td>\n",
       "      <td>3</td>\n",
       "      <td>Bryan, Drew</td>\n",
       "      <td>male</td>\n",
       "      <td>NaN</td>\n",
       "      <td>0</td>\n",
       "      <td>0</td>\n",
       "      <td>27323</td>\n",
       "      <td>13.35</td>\n",
       "      <td>NaN</td>\n",
       "      <td>S</td>\n",
       "    </tr>\n",
       "    <tr>\n",
       "      <th>2</th>\n",
       "      <td>2</td>\n",
       "      <td>0</td>\n",
       "      <td>3</td>\n",
       "      <td>Owens, Kenneth</td>\n",
       "      <td>male</td>\n",
       "      <td>0.33</td>\n",
       "      <td>1</td>\n",
       "      <td>2</td>\n",
       "      <td>CA 457703</td>\n",
       "      <td>71.29</td>\n",
       "      <td>NaN</td>\n",
       "      <td>S</td>\n",
       "    </tr>\n",
       "    <tr>\n",
       "      <th>3</th>\n",
       "      <td>3</td>\n",
       "      <td>0</td>\n",
       "      <td>3</td>\n",
       "      <td>Kramer, James</td>\n",
       "      <td>male</td>\n",
       "      <td>19.00</td>\n",
       "      <td>0</td>\n",
       "      <td>0</td>\n",
       "      <td>A. 10866</td>\n",
       "      <td>13.04</td>\n",
       "      <td>NaN</td>\n",
       "      <td>S</td>\n",
       "    </tr>\n",
       "    <tr>\n",
       "      <th>4</th>\n",
       "      <td>4</td>\n",
       "      <td>1</td>\n",
       "      <td>3</td>\n",
       "      <td>Bond, Michael</td>\n",
       "      <td>male</td>\n",
       "      <td>25.00</td>\n",
       "      <td>0</td>\n",
       "      <td>0</td>\n",
       "      <td>427635</td>\n",
       "      <td>7.76</td>\n",
       "      <td>NaN</td>\n",
       "      <td>S</td>\n",
       "    </tr>\n",
       "  </tbody>\n",
       "</table>\n",
       "</div>"
      ],
      "text/plain": [
       "   PassengerId  Survived  Pclass              Name   Sex    Age  SibSp  Parch  \\\n",
       "0            0         1       1  Oconnor, Frankie  male    NaN      2      0   \n",
       "1            1         0       3       Bryan, Drew  male    NaN      0      0   \n",
       "2            2         0       3    Owens, Kenneth  male   0.33      1      2   \n",
       "3            3         0       3     Kramer, James  male  19.00      0      0   \n",
       "4            4         1       3     Bond, Michael  male  25.00      0      0   \n",
       "\n",
       "      Ticket   Fare   Cabin Embarked  \n",
       "0     209245  27.14  C12239        S  \n",
       "1      27323  13.35     NaN        S  \n",
       "2  CA 457703  71.29     NaN        S  \n",
       "3   A. 10866  13.04     NaN        S  \n",
       "4     427635   7.76     NaN        S  "
      ]
     },
     "execution_count": 3,
     "metadata": {},
     "output_type": "execute_result"
    }
   ],
   "source": [
    "train = pd.read_csv('/kaggle/input/tabular-playground-series-apr-2021/train.csv')\n",
    "test = pd.read_csv('/kaggle/input/tabular-playground-series-apr-2021/test.csv')\n",
    "final = pd.read_csv('/kaggle/input/tabular-playground-series-apr-2021/sample_submission.csv')\n",
    "train.head()"
   ]
  },
  {
   "cell_type": "markdown",
   "id": "understood-whole",
   "metadata": {
    "papermill": {
     "duration": 0.095779,
     "end_time": "2021-04-07T05:08:33.019615",
     "exception": false,
     "start_time": "2021-04-07T05:08:32.923836",
     "status": "completed"
    },
    "tags": []
   },
   "source": [
    "# Understanding Data"
   ]
  },
  {
   "cell_type": "code",
   "execution_count": 4,
   "id": "relevant-textbook",
   "metadata": {
    "execution": {
     "iopub.execute_input": "2021-04-07T05:08:33.215689Z",
     "iopub.status.busy": "2021-04-07T05:08:33.214924Z",
     "iopub.status.idle": "2021-04-07T05:08:33.219335Z",
     "shell.execute_reply": "2021-04-07T05:08:33.218764Z"
    },
    "papermill": {
     "duration": 0.103399,
     "end_time": "2021-04-07T05:08:33.219481",
     "exception": false,
     "start_time": "2021-04-07T05:08:33.116082",
     "status": "completed"
    },
    "tags": []
   },
   "outputs": [
    {
     "name": "stdout",
     "output_type": "stream",
     "text": [
      "(100000, 12)\n",
      "(100000, 11)\n"
     ]
    }
   ],
   "source": [
    "print(train.shape)\n",
    "print(test.shape)"
   ]
  },
  {
   "cell_type": "code",
   "execution_count": 5,
   "id": "excess-european",
   "metadata": {
    "execution": {
     "iopub.execute_input": "2021-04-07T05:08:33.461972Z",
     "iopub.status.busy": "2021-04-07T05:08:33.416561Z",
     "iopub.status.idle": "2021-04-07T05:08:33.483391Z",
     "shell.execute_reply": "2021-04-07T05:08:33.482810Z"
    },
    "papermill": {
     "duration": 0.169385,
     "end_time": "2021-04-07T05:08:33.483542",
     "exception": false,
     "start_time": "2021-04-07T05:08:33.314157",
     "status": "completed"
    },
    "tags": []
   },
   "outputs": [
    {
     "name": "stdout",
     "output_type": "stream",
     "text": [
      "<class 'pandas.core.frame.DataFrame'>\n",
      "RangeIndex: 100000 entries, 0 to 99999\n",
      "Data columns (total 12 columns):\n",
      " #   Column       Non-Null Count   Dtype  \n",
      "---  ------       --------------   -----  \n",
      " 0   PassengerId  100000 non-null  int64  \n",
      " 1   Survived     100000 non-null  int64  \n",
      " 2   Pclass       100000 non-null  int64  \n",
      " 3   Name         100000 non-null  object \n",
      " 4   Sex          100000 non-null  object \n",
      " 5   Age          96708 non-null   float64\n",
      " 6   SibSp        100000 non-null  int64  \n",
      " 7   Parch        100000 non-null  int64  \n",
      " 8   Ticket       95377 non-null   object \n",
      " 9   Fare         99866 non-null   float64\n",
      " 10  Cabin        32134 non-null   object \n",
      " 11  Embarked     99750 non-null   object \n",
      "dtypes: float64(2), int64(5), object(5)\n",
      "memory usage: 9.2+ MB\n"
     ]
    }
   ],
   "source": [
    "train.info()"
   ]
  },
  {
   "cell_type": "code",
   "execution_count": 6,
   "id": "incorporate-medicaid",
   "metadata": {
    "execution": {
     "iopub.execute_input": "2021-04-07T05:08:33.688155Z",
     "iopub.status.busy": "2021-04-07T05:08:33.681139Z",
     "iopub.status.idle": "2021-04-07T05:08:33.741606Z",
     "shell.execute_reply": "2021-04-07T05:08:33.742272Z"
    },
    "papermill": {
     "duration": 0.162463,
     "end_time": "2021-04-07T05:08:33.742468",
     "exception": false,
     "start_time": "2021-04-07T05:08:33.580005",
     "status": "completed"
    },
    "tags": []
   },
   "outputs": [
    {
     "data": {
      "text/html": [
       "<div>\n",
       "<style scoped>\n",
       "    .dataframe tbody tr th:only-of-type {\n",
       "        vertical-align: middle;\n",
       "    }\n",
       "\n",
       "    .dataframe tbody tr th {\n",
       "        vertical-align: top;\n",
       "    }\n",
       "\n",
       "    .dataframe thead th {\n",
       "        text-align: right;\n",
       "    }\n",
       "</style>\n",
       "<table border=\"1\" class=\"dataframe\">\n",
       "  <thead>\n",
       "    <tr style=\"text-align: right;\">\n",
       "      <th></th>\n",
       "      <th>PassengerId</th>\n",
       "      <th>Survived</th>\n",
       "      <th>Pclass</th>\n",
       "      <th>Age</th>\n",
       "      <th>SibSp</th>\n",
       "      <th>Parch</th>\n",
       "      <th>Fare</th>\n",
       "    </tr>\n",
       "  </thead>\n",
       "  <tbody>\n",
       "    <tr>\n",
       "      <th>count</th>\n",
       "      <td>100000.000000</td>\n",
       "      <td>100000.000000</td>\n",
       "      <td>100000.000000</td>\n",
       "      <td>96708.000000</td>\n",
       "      <td>100000.000000</td>\n",
       "      <td>100000.000000</td>\n",
       "      <td>99866.00000</td>\n",
       "    </tr>\n",
       "    <tr>\n",
       "      <th>mean</th>\n",
       "      <td>49999.500000</td>\n",
       "      <td>0.427740</td>\n",
       "      <td>2.106910</td>\n",
       "      <td>38.355472</td>\n",
       "      <td>0.397690</td>\n",
       "      <td>0.454560</td>\n",
       "      <td>43.92933</td>\n",
       "    </tr>\n",
       "    <tr>\n",
       "      <th>std</th>\n",
       "      <td>28867.657797</td>\n",
       "      <td>0.494753</td>\n",
       "      <td>0.837727</td>\n",
       "      <td>18.313556</td>\n",
       "      <td>0.862566</td>\n",
       "      <td>0.950076</td>\n",
       "      <td>69.58882</td>\n",
       "    </tr>\n",
       "    <tr>\n",
       "      <th>min</th>\n",
       "      <td>0.000000</td>\n",
       "      <td>0.000000</td>\n",
       "      <td>1.000000</td>\n",
       "      <td>0.080000</td>\n",
       "      <td>0.000000</td>\n",
       "      <td>0.000000</td>\n",
       "      <td>0.68000</td>\n",
       "    </tr>\n",
       "    <tr>\n",
       "      <th>25%</th>\n",
       "      <td>24999.750000</td>\n",
       "      <td>0.000000</td>\n",
       "      <td>1.000000</td>\n",
       "      <td>25.000000</td>\n",
       "      <td>0.000000</td>\n",
       "      <td>0.000000</td>\n",
       "      <td>10.04000</td>\n",
       "    </tr>\n",
       "    <tr>\n",
       "      <th>50%</th>\n",
       "      <td>49999.500000</td>\n",
       "      <td>0.000000</td>\n",
       "      <td>2.000000</td>\n",
       "      <td>39.000000</td>\n",
       "      <td>0.000000</td>\n",
       "      <td>0.000000</td>\n",
       "      <td>24.46000</td>\n",
       "    </tr>\n",
       "    <tr>\n",
       "      <th>75%</th>\n",
       "      <td>74999.250000</td>\n",
       "      <td>1.000000</td>\n",
       "      <td>3.000000</td>\n",
       "      <td>53.000000</td>\n",
       "      <td>1.000000</td>\n",
       "      <td>1.000000</td>\n",
       "      <td>33.50000</td>\n",
       "    </tr>\n",
       "    <tr>\n",
       "      <th>max</th>\n",
       "      <td>99999.000000</td>\n",
       "      <td>1.000000</td>\n",
       "      <td>3.000000</td>\n",
       "      <td>87.000000</td>\n",
       "      <td>8.000000</td>\n",
       "      <td>9.000000</td>\n",
       "      <td>744.66000</td>\n",
       "    </tr>\n",
       "  </tbody>\n",
       "</table>\n",
       "</div>"
      ],
      "text/plain": [
       "         PassengerId       Survived         Pclass           Age  \\\n",
       "count  100000.000000  100000.000000  100000.000000  96708.000000   \n",
       "mean    49999.500000       0.427740       2.106910     38.355472   \n",
       "std     28867.657797       0.494753       0.837727     18.313556   \n",
       "min         0.000000       0.000000       1.000000      0.080000   \n",
       "25%     24999.750000       0.000000       1.000000     25.000000   \n",
       "50%     49999.500000       0.000000       2.000000     39.000000   \n",
       "75%     74999.250000       1.000000       3.000000     53.000000   \n",
       "max     99999.000000       1.000000       3.000000     87.000000   \n",
       "\n",
       "               SibSp          Parch         Fare  \n",
       "count  100000.000000  100000.000000  99866.00000  \n",
       "mean        0.397690       0.454560     43.92933  \n",
       "std         0.862566       0.950076     69.58882  \n",
       "min         0.000000       0.000000      0.68000  \n",
       "25%         0.000000       0.000000     10.04000  \n",
       "50%         0.000000       0.000000     24.46000  \n",
       "75%         1.000000       1.000000     33.50000  \n",
       "max         8.000000       9.000000    744.66000  "
      ]
     },
     "execution_count": 6,
     "metadata": {},
     "output_type": "execute_result"
    }
   ],
   "source": [
    "train.describe()"
   ]
  },
  {
   "cell_type": "code",
   "execution_count": 7,
   "id": "prospective-costs",
   "metadata": {
    "execution": {
     "iopub.execute_input": "2021-04-07T05:08:34.006149Z",
     "iopub.status.busy": "2021-04-07T05:08:33.959888Z",
     "iopub.status.idle": "2021-04-07T05:08:34.014576Z",
     "shell.execute_reply": "2021-04-07T05:08:34.015136Z"
    },
    "papermill": {
     "duration": 0.175641,
     "end_time": "2021-04-07T05:08:34.015348",
     "exception": false,
     "start_time": "2021-04-07T05:08:33.839707",
     "status": "completed"
    },
    "tags": []
   },
   "outputs": [
    {
     "data": {
      "text/plain": [
       "PassengerId        0\n",
       "Survived           0\n",
       "Pclass             0\n",
       "Name               0\n",
       "Sex                0\n",
       "Age             3292\n",
       "SibSp              0\n",
       "Parch              0\n",
       "Ticket          4623\n",
       "Fare             134\n",
       "Cabin          67866\n",
       "Embarked         250\n",
       "dtype: int64"
      ]
     },
     "execution_count": 7,
     "metadata": {},
     "output_type": "execute_result"
    }
   ],
   "source": [
    "train.isnull().sum()"
   ]
  },
  {
   "cell_type": "code",
   "execution_count": 8,
   "id": "cultural-header",
   "metadata": {
    "execution": {
     "iopub.execute_input": "2021-04-07T05:08:34.215803Z",
     "iopub.status.busy": "2021-04-07T05:08:34.214857Z",
     "iopub.status.idle": "2021-04-07T05:08:34.270324Z",
     "shell.execute_reply": "2021-04-07T05:08:34.269561Z"
    },
    "papermill": {
     "duration": 0.157062,
     "end_time": "2021-04-07T05:08:34.270479",
     "exception": false,
     "start_time": "2021-04-07T05:08:34.113417",
     "status": "completed"
    },
    "tags": []
   },
   "outputs": [
    {
     "data": {
      "text/plain": [
       "PassengerId        0\n",
       "Pclass             0\n",
       "Name               0\n",
       "Sex                0\n",
       "Age             3487\n",
       "SibSp              0\n",
       "Parch              0\n",
       "Ticket          5181\n",
       "Fare             133\n",
       "Cabin          70831\n",
       "Embarked         277\n",
       "dtype: int64"
      ]
     },
     "execution_count": 8,
     "metadata": {},
     "output_type": "execute_result"
    }
   ],
   "source": [
    "test.isnull().sum()"
   ]
  },
  {
   "cell_type": "code",
   "execution_count": 9,
   "id": "developed-shopper",
   "metadata": {
    "execution": {
     "iopub.execute_input": "2021-04-07T05:08:34.541238Z",
     "iopub.status.busy": "2021-04-07T05:08:34.540355Z",
     "iopub.status.idle": "2021-04-07T05:08:34.570440Z",
     "shell.execute_reply": "2021-04-07T05:08:34.569578Z"
    },
    "papermill": {
     "duration": 0.191038,
     "end_time": "2021-04-07T05:08:34.570597",
     "exception": false,
     "start_time": "2021-04-07T05:08:34.379559",
     "status": "completed"
    },
    "tags": []
   },
   "outputs": [
    {
     "data": {
      "text/plain": [
       "PassengerId     0.000\n",
       "Survived        0.000\n",
       "Pclass          0.000\n",
       "Name            0.000\n",
       "Sex             0.000\n",
       "Age             3.292\n",
       "SibSp           0.000\n",
       "Parch           0.000\n",
       "Ticket          4.623\n",
       "Fare            0.134\n",
       "Cabin          67.866\n",
       "Embarked        0.250\n",
       "dtype: float64"
      ]
     },
     "execution_count": 9,
     "metadata": {},
     "output_type": "execute_result"
    }
   ],
   "source": [
    "missing_percentages = (train[train.columns].isnull().sum() / train.shape[0]) * 100\n",
    "missing_percentages"
   ]
  },
  {
   "cell_type": "code",
   "execution_count": 10,
   "id": "south-lounge",
   "metadata": {
    "execution": {
     "iopub.execute_input": "2021-04-07T05:08:34.827620Z",
     "iopub.status.busy": "2021-04-07T05:08:34.826858Z",
     "iopub.status.idle": "2021-04-07T05:08:34.840883Z",
     "shell.execute_reply": "2021-04-07T05:08:34.839722Z"
    },
    "papermill": {
     "duration": 0.173358,
     "end_time": "2021-04-07T05:08:34.841040",
     "exception": false,
     "start_time": "2021-04-07T05:08:34.667682",
     "status": "completed"
    },
    "tags": []
   },
   "outputs": [
    {
     "data": {
      "text/plain": [
       "PassengerId     0.000\n",
       "Pclass          0.000\n",
       "Name            0.000\n",
       "Sex             0.000\n",
       "Age             3.487\n",
       "SibSp           0.000\n",
       "Parch           0.000\n",
       "Ticket          5.181\n",
       "Fare            0.133\n",
       "Cabin          70.831\n",
       "Embarked        0.277\n",
       "dtype: float64"
      ]
     },
     "execution_count": 10,
     "metadata": {},
     "output_type": "execute_result"
    }
   ],
   "source": [
    "missing_percentages_test = (test[test.columns].isnull().sum() / test.shape[0]) * 100\n",
    "missing_percentages_test"
   ]
  },
  {
   "cell_type": "markdown",
   "id": "exceptional-meter",
   "metadata": {
    "papermill": {
     "duration": 0.099538,
     "end_time": "2021-04-07T05:08:35.040362",
     "exception": false,
     "start_time": "2021-04-07T05:08:34.940824",
     "status": "completed"
    },
    "tags": []
   },
   "source": [
    "### The columns with missing values are-\n",
    "\n",
    "* Age\n",
    "* Ticket\n",
    "* Fare\n",
    "* Cabin\n",
    "* Embarked"
   ]
  },
  {
   "cell_type": "markdown",
   "id": "desperate-street",
   "metadata": {
    "papermill": {
     "duration": 0.100265,
     "end_time": "2021-04-07T05:08:35.239213",
     "exception": false,
     "start_time": "2021-04-07T05:08:35.138948",
     "status": "completed"
    },
    "tags": []
   },
   "source": [
    "# EDA"
   ]
  },
  {
   "cell_type": "code",
   "execution_count": 11,
   "id": "collect-annual",
   "metadata": {
    "execution": {
     "iopub.execute_input": "2021-04-07T05:08:35.444899Z",
     "iopub.status.busy": "2021-04-07T05:08:35.444105Z",
     "iopub.status.idle": "2021-04-07T05:08:35.537765Z",
     "shell.execute_reply": "2021-04-07T05:08:35.536179Z"
    },
    "papermill": {
     "duration": 0.19997,
     "end_time": "2021-04-07T05:08:35.538004",
     "exception": false,
     "start_time": "2021-04-07T05:08:35.338034",
     "status": "completed"
    },
    "tags": []
   },
   "outputs": [
    {
     "name": "stdout",
     "output_type": "stream",
     "text": [
      "The number of unique values in PassengerId is 100000\n",
      "The number of unique values in Survived is 2\n",
      "The number of unique values in Pclass is 3\n",
      "The number of unique values in Name is 92144\n",
      "The number of unique values in Sex is 2\n",
      "The number of unique values in Age is 174\n",
      "The number of unique values in SibSp is 7\n",
      "The number of unique values in Parch is 8\n",
      "The number of unique values in Ticket is 75332\n",
      "The number of unique values in Fare is 15936\n",
      "The number of unique values in Cabin is 26993\n",
      "The number of unique values in Embarked is 4\n"
     ]
    }
   ],
   "source": [
    "for i in train.columns:\n",
    "    print(\"The number of unique values in {} is {}\".format(i, len(train[i].unique())))"
   ]
  },
  {
   "cell_type": "markdown",
   "id": "integral-wisconsin",
   "metadata": {
    "papermill": {
     "duration": 0.10083,
     "end_time": "2021-04-07T05:08:35.737012",
     "exception": false,
     "start_time": "2021-04-07T05:08:35.636182",
     "status": "completed"
    },
    "tags": []
   },
   "source": [
    "### The categorical features are\n",
    "* Pclass\n",
    "* Sex\n",
    "* Embarked\n",
    "* Parch\n",
    "* SibSp\n",
    "\n",
    "### The continuous features are\n",
    "* Age\n",
    "* Fare\n",
    "\n",
    "### The ones which will be dealt manually are\n",
    "* Ticket\n",
    "* Cabin\n",
    "* Name"
   ]
  },
  {
   "cell_type": "code",
   "execution_count": 12,
   "id": "confident-uncertainty",
   "metadata": {
    "execution": {
     "iopub.execute_input": "2021-04-07T05:08:35.984375Z",
     "iopub.status.busy": "2021-04-07T05:08:35.983425Z",
     "iopub.status.idle": "2021-04-07T05:08:35.987164Z",
     "shell.execute_reply": "2021-04-07T05:08:35.986624Z"
    },
    "papermill": {
     "duration": 0.114395,
     "end_time": "2021-04-07T05:08:35.987323",
     "exception": false,
     "start_time": "2021-04-07T05:08:35.872928",
     "status": "completed"
    },
    "tags": []
   },
   "outputs": [],
   "source": [
    "categorical_features = [\"Pclass\",\"Sex\",\"Embarked\",\"Parch\",\"SibSp\"]\n",
    "continuous_features = [\"Age\",\"Fare\"]"
   ]
  },
  {
   "cell_type": "markdown",
   "id": "qualified-darkness",
   "metadata": {
    "papermill": {
     "duration": 0.100466,
     "end_time": "2021-04-07T05:08:36.186660",
     "exception": false,
     "start_time": "2021-04-07T05:08:36.086194",
     "status": "completed"
    },
    "tags": []
   },
   "source": [
    "## Checking the count & distribution of Survived\n"
   ]
  },
  {
   "cell_type": "code",
   "execution_count": 13,
   "id": "satellite-zimbabwe",
   "metadata": {
    "execution": {
     "iopub.execute_input": "2021-04-07T05:08:36.405454Z",
     "iopub.status.busy": "2021-04-07T05:08:36.390969Z",
     "iopub.status.idle": "2021-04-07T05:08:36.766235Z",
     "shell.execute_reply": "2021-04-07T05:08:36.765656Z"
    },
    "papermill": {
     "duration": 0.481558,
     "end_time": "2021-04-07T05:08:36.766394",
     "exception": false,
     "start_time": "2021-04-07T05:08:36.284836",
     "status": "completed"
    },
    "tags": []
   },
   "outputs": [
    {
     "data": {
      "image/png": "[encoded data removed]",
      "text/plain": [
       "<Figure size 864x288 with 2 Axes>"
      ]
     },
     "metadata": {
      "needs_background": "light"
     },
     "output_type": "display_data"
    }
   ],
   "source": [
    "fig = plt.figure(figsize=(12,4))\n",
    "plt.subplot(1,2,1)\n",
    "ax = sns.countplot(x=\"Survived\",data=train)\n",
    "plt.subplot(1,2,2)\n",
    "sns.distplot(train.loc[: ,'Survived'], hist_kws={\"color\":\"r\"}, kde_kws={\"color\":\"b\", \"lw\":2})\n",
    "plt.show()"
   ]
  },
  {
   "cell_type": "markdown",
   "id": "medium-paragraph",
   "metadata": {
    "papermill": {
     "duration": 0.099726,
     "end_time": "2021-04-07T05:08:36.965620",
     "exception": false,
     "start_time": "2021-04-07T05:08:36.865894",
     "status": "completed"
    },
    "tags": []
   },
   "source": [
    "## Pclass"
   ]
  },
  {
   "cell_type": "code",
   "execution_count": 14,
   "id": "finished-medium",
   "metadata": {
    "execution": {
     "iopub.execute_input": "2021-04-07T05:08:37.189019Z",
     "iopub.status.busy": "2021-04-07T05:08:37.188358Z",
     "iopub.status.idle": "2021-04-07T05:08:37.494312Z",
     "shell.execute_reply": "2021-04-07T05:08:37.494822Z"
    },
    "papermill": {
     "duration": 0.427347,
     "end_time": "2021-04-07T05:08:37.495027",
     "exception": false,
     "start_time": "2021-04-07T05:08:37.067680",
     "status": "completed"
    },
    "tags": []
   },
   "outputs": [
    {
     "data": {
      "image/png": "[encoded data removed]",
      "text/plain": [
       "<Figure size 864x288 with 2 Axes>"
      ]
     },
     "metadata": {
      "needs_background": "light"
     },
     "output_type": "display_data"
    }
   ],
   "source": [
    "fig = plt.figure(figsize=(12,4))\n",
    "plt.subplot(1,2,1)\n",
    "ax = sns.countplot(x=\"Pclass\",data=train)\n",
    "plt.subplot(1,2,2)\n",
    "sns.distplot(train.loc[: ,\"Pclass\"], hist_kws={\"color\":\"r\"}, kde_kws={\"color\":\"b\", \"lw\":2})\n",
    "plt.show()"
   ]
  },
  {
   "cell_type": "markdown",
   "id": "employed-satin",
   "metadata": {
    "papermill": {
     "duration": 0.099438,
     "end_time": "2021-04-07T05:08:37.694840",
     "exception": false,
     "start_time": "2021-04-07T05:08:37.595402",
     "status": "completed"
    },
    "tags": []
   },
   "source": [
    "## Parch"
   ]
  },
  {
   "cell_type": "code",
   "execution_count": 15,
   "id": "greenhouse-street",
   "metadata": {
    "execution": {
     "iopub.execute_input": "2021-04-07T05:08:37.901899Z",
     "iopub.status.busy": "2021-04-07T05:08:37.901219Z",
     "iopub.status.idle": "2021-04-07T05:08:38.337704Z",
     "shell.execute_reply": "2021-04-07T05:08:38.338335Z"
    },
    "papermill": {
     "duration": 0.540086,
     "end_time": "2021-04-07T05:08:38.338558",
     "exception": false,
     "start_time": "2021-04-07T05:08:37.798472",
     "status": "completed"
    },
    "tags": []
   },
   "outputs": [
    {
     "data": {
      "image/png": "[encoded data removed]",
      "text/plain": [
       "<Figure size 864x288 with 2 Axes>"
      ]
     },
     "metadata": {
      "needs_background": "light"
     },
     "output_type": "display_data"
    }
   ],
   "source": [
    "fig = plt.figure(figsize=(12,4))\n",
    "plt.subplot(1,2,1)\n",
    "ax = sns.countplot(x=\"Parch\",data=train)\n",
    "plt.subplot(1,2,2)\n",
    "sns.distplot(train.loc[: ,\"Parch\"], hist_kws={\"color\":\"r\"}, kde_kws={\"color\":\"b\", \"lw\":2})\n",
    "plt.show()"
   ]
  },
  {
   "cell_type": "markdown",
   "id": "renewable-bulgarian",
   "metadata": {
    "papermill": {
     "duration": 0.115441,
     "end_time": "2021-04-07T05:08:38.577488",
     "exception": false,
     "start_time": "2021-04-07T05:08:38.462047",
     "status": "completed"
    },
    "tags": []
   },
   "source": [
    "## SibSp"
   ]
  },
  {
   "cell_type": "code",
   "execution_count": 16,
   "id": "tribal-express",
   "metadata": {
    "execution": {
     "iopub.execute_input": "2021-04-07T05:08:38.836654Z",
     "iopub.status.busy": "2021-04-07T05:08:38.835651Z",
     "iopub.status.idle": "2021-04-07T05:08:39.309493Z",
     "shell.execute_reply": "2021-04-07T05:08:39.310013Z"
    },
    "papermill": {
     "duration": 0.607366,
     "end_time": "2021-04-07T05:08:39.310180",
     "exception": false,
     "start_time": "2021-04-07T05:08:38.702814",
     "status": "completed"
    },
    "tags": []
   },
   "outputs": [
    {
     "data": {
      "image/png": "[encoded data removed]",
      "text/plain": [
       "<Figure size 864x288 with 2 Axes>"
      ]
     },
     "metadata": {
      "needs_background": "light"
     },
     "output_type": "display_data"
    }
   ],
   "source": [
    "fig = plt.figure(figsize=(12,4))\n",
    "plt.subplot(1,2,1)\n",
    "ax = sns.countplot(x=\"SibSp\",data=train)\n",
    "plt.subplot(1,2,2)\n",
    "sns.distplot(train.loc[: ,\"SibSp\"], hist_kws={\"color\":\"r\"}, kde_kws={\"color\":\"b\", \"lw\":2})\n",
    "plt.show()"
   ]
  },
  {
   "cell_type": "markdown",
   "id": "exposed-seminar",
   "metadata": {
    "papermill": {
     "duration": 0.105694,
     "end_time": "2021-04-07T05:08:39.521447",
     "exception": false,
     "start_time": "2021-04-07T05:08:39.415753",
     "status": "completed"
    },
    "tags": []
   },
   "source": [
    "## Sex"
   ]
  },
  {
   "cell_type": "code",
   "execution_count": 17,
   "id": "theoretical-charity",
   "metadata": {
    "execution": {
     "iopub.execute_input": "2021-04-07T05:08:39.766741Z",
     "iopub.status.busy": "2021-04-07T05:08:39.766045Z",
     "iopub.status.idle": "2021-04-07T05:08:39.910029Z",
     "shell.execute_reply": "2021-04-07T05:08:39.910593Z"
    },
    "papermill": {
     "duration": 0.27111,
     "end_time": "2021-04-07T05:08:39.910780",
     "exception": false,
     "start_time": "2021-04-07T05:08:39.639670",
     "status": "completed"
    },
    "tags": []
   },
   "outputs": [
    {
     "data": {
      "image/png": "[encoded data removed]",
      "text/plain": [
       "<Figure size 432x432 with 1 Axes>"
      ]
     },
     "metadata": {
      "needs_background": "light"
     },
     "output_type": "display_data"
    }
   ],
   "source": [
    "fig = plt.figure(figsize=(6,6))\n",
    "sns.set_palette([\"#8072fa\",\"orange\"])\n",
    "ax = sns.countplot(x=\"Sex\",data=train)\n",
    "plt.show()"
   ]
  },
  {
   "cell_type": "markdown",
   "id": "identified-picking",
   "metadata": {
    "papermill": {
     "duration": 0.104978,
     "end_time": "2021-04-07T05:08:40.123164",
     "exception": false,
     "start_time": "2021-04-07T05:08:40.018186",
     "status": "completed"
    },
    "tags": []
   },
   "source": [
    "## Embarked"
   ]
  },
  {
   "cell_type": "code",
   "execution_count": 18,
   "id": "surprising-invite",
   "metadata": {
    "execution": {
     "iopub.execute_input": "2021-04-07T05:08:40.334429Z",
     "iopub.status.busy": "2021-04-07T05:08:40.333349Z",
     "iopub.status.idle": "2021-04-07T05:08:40.496578Z",
     "shell.execute_reply": "2021-04-07T05:08:40.497068Z"
    },
    "papermill": {
     "duration": 0.271179,
     "end_time": "2021-04-07T05:08:40.497257",
     "exception": false,
     "start_time": "2021-04-07T05:08:40.226078",
     "status": "completed"
    },
    "tags": []
   },
   "outputs": [
    {
     "data": {
      "image/png": "[encoded data removed]",
      "text/plain": [
       "<Figure size 432x432 with 1 Axes>"
      ]
     },
     "metadata": {
      "needs_background": "light"
     },
     "output_type": "display_data"
    }
   ],
   "source": [
    "fig = plt.figure(figsize=(6,6))\n",
    "sns.set_palette([\"#8072fa\",\"orange\",\"Red\"])\n",
    "ax = sns.countplot(x=\"Embarked\",data=train)\n",
    "plt.show()"
   ]
  },
  {
   "cell_type": "markdown",
   "id": "polished-hamilton",
   "metadata": {
    "papermill": {
     "duration": 0.104303,
     "end_time": "2021-04-07T05:08:40.704283",
     "exception": false,
     "start_time": "2021-04-07T05:08:40.599980",
     "status": "completed"
    },
    "tags": []
   },
   "source": [
    "# Data Preprocessing"
   ]
  },
  {
   "cell_type": "markdown",
   "id": "flush-fortune",
   "metadata": {
    "papermill": {
     "duration": 0.102293,
     "end_time": "2021-04-07T05:08:40.909821",
     "exception": false,
     "start_time": "2021-04-07T05:08:40.807528",
     "status": "completed"
    },
    "tags": []
   },
   "source": [
    "Handling missing data"
   ]
  },
  {
   "cell_type": "code",
   "execution_count": 19,
   "id": "motivated-porter",
   "metadata": {
    "execution": {
     "iopub.execute_input": "2021-04-07T05:08:41.125031Z",
     "iopub.status.busy": "2021-04-07T05:08:41.124001Z",
     "iopub.status.idle": "2021-04-07T05:08:41.181171Z",
     "shell.execute_reply": "2021-04-07T05:08:41.181751Z"
    },
    "papermill": {
     "duration": 0.167317,
     "end_time": "2021-04-07T05:08:41.181931",
     "exception": false,
     "start_time": "2021-04-07T05:08:41.014614",
     "status": "completed"
    },
    "tags": []
   },
   "outputs": [],
   "source": [
    "train['Age'].fillna(train['Age'].mean(),inplace=True)\n",
    "test['Age'].fillna(train['Age'].mean(),inplace=True)\n",
    "\n",
    "train['Fare'].fillna(train['Fare'].mean(),inplace=True)\n",
    "test['Fare'].fillna(train['Fare'].mean(),inplace=True)\n",
    "\n",
    "train['Embarked'].fillna(train['Embarked'].mode()[0],inplace=True)\n",
    "test['Embarked'].fillna(train['Embarked'].mode()[0],inplace=True)"
   ]
  },
  {
   "cell_type": "markdown",
   "id": "pursuant-venezuela",
   "metadata": {
    "papermill": {
     "duration": 0.104555,
     "end_time": "2021-04-07T05:08:41.392530",
     "exception": false,
     "start_time": "2021-04-07T05:08:41.287975",
     "status": "completed"
    },
    "tags": []
   },
   "source": [
    "Ticket number,Cabin & Name number doesn't seem to influence Survival."
   ]
  },
  {
   "cell_type": "code",
   "execution_count": 20,
   "id": "contemporary-clause",
   "metadata": {
    "execution": {
     "iopub.execute_input": "2021-04-07T05:08:41.604073Z",
     "iopub.status.busy": "2021-04-07T05:08:41.603097Z",
     "iopub.status.idle": "2021-04-07T05:08:41.627853Z",
     "shell.execute_reply": "2021-04-07T05:08:41.628415Z"
    },
    "papermill": {
     "duration": 0.132582,
     "end_time": "2021-04-07T05:08:41.628592",
     "exception": false,
     "start_time": "2021-04-07T05:08:41.496010",
     "status": "completed"
    },
    "tags": []
   },
   "outputs": [],
   "source": [
    "train.drop(['Name','Ticket','Cabin','PassengerId'], axis=1, inplace=True)\n",
    "test.drop(['Name','Ticket','Cabin','PassengerId'], axis=1, inplace=True)"
   ]
  },
  {
   "cell_type": "markdown",
   "id": "primary-thermal",
   "metadata": {
    "papermill": {
     "duration": 0.103962,
     "end_time": "2021-04-07T05:08:41.836435",
     "exception": false,
     "start_time": "2021-04-07T05:08:41.732473",
     "status": "completed"
    },
    "tags": []
   },
   "source": [
    "Applying a log function to reduce the influence of outliers in Fare column. Since there are a large number of outliers, removing them will lead to loss of a large numberof points."
   ]
  },
  {
   "cell_type": "code",
   "execution_count": 21,
   "id": "based-kidney",
   "metadata": {
    "execution": {
     "iopub.execute_input": "2021-04-07T05:08:42.051271Z",
     "iopub.status.busy": "2021-04-07T05:08:42.050228Z",
     "iopub.status.idle": "2021-04-07T05:08:42.490399Z",
     "shell.execute_reply": "2021-04-07T05:08:42.491009Z"
    },
    "papermill": {
     "duration": 0.549639,
     "end_time": "2021-04-07T05:08:42.491173",
     "exception": false,
     "start_time": "2021-04-07T05:08:41.941534",
     "status": "completed"
    },
    "tags": []
   },
   "outputs": [],
   "source": [
    "train['Fare'] = train['Fare'].map(lambda i: np.log(i) if i > 0 else 0)\n",
    "test['Fare'] = test['Fare'].map(lambda i: np.log(i) if i > 0 else 0)"
   ]
  },
  {
   "cell_type": "markdown",
   "id": "identical-identification",
   "metadata": {
    "papermill": {
     "duration": 0.103423,
     "end_time": "2021-04-07T05:08:42.698088",
     "exception": false,
     "start_time": "2021-04-07T05:08:42.594665",
     "status": "completed"
    },
    "tags": []
   },
   "source": [
    "Adding Parch and SibSp into one feature"
   ]
  },
  {
   "cell_type": "code",
   "execution_count": 22,
   "id": "abandoned-custody",
   "metadata": {
    "execution": {
     "iopub.execute_input": "2021-04-07T05:08:42.911184Z",
     "iopub.status.busy": "2021-04-07T05:08:42.910194Z",
     "iopub.status.idle": "2021-04-07T05:08:42.924347Z",
     "shell.execute_reply": "2021-04-07T05:08:42.922715Z"
    },
    "papermill": {
     "duration": 0.122288,
     "end_time": "2021-04-07T05:08:42.924511",
     "exception": false,
     "start_time": "2021-04-07T05:08:42.802223",
     "status": "completed"
    },
    "tags": []
   },
   "outputs": [],
   "source": [
    "train[\"relatives\"] = train[\"Parch\"] + train[\"SibSp\"] + 1\n",
    "test[\"relatives\"] = test[\"Parch\"] + test[\"SibSp\"] + 1"
   ]
  },
  {
   "cell_type": "markdown",
   "id": "forbidden-switch",
   "metadata": {
    "papermill": {
     "duration": 0.105726,
     "end_time": "2021-04-07T05:08:43.136142",
     "exception": false,
     "start_time": "2021-04-07T05:08:43.030416",
     "status": "completed"
    },
    "tags": []
   },
   "source": [
    "# Model"
   ]
  },
  {
   "cell_type": "markdown",
   "id": "hazardous-landscape",
   "metadata": {
    "papermill": {
     "duration": 0.103579,
     "end_time": "2021-04-07T05:08:43.345122",
     "exception": false,
     "start_time": "2021-04-07T05:08:43.241543",
     "status": "completed"
    },
    "tags": []
   },
   "source": [
    "Label Encoding the categorical features"
   ]
  },
  {
   "cell_type": "code",
   "execution_count": 23,
   "id": "ruled-stand",
   "metadata": {
    "execution": {
     "iopub.execute_input": "2021-04-07T05:08:43.598847Z",
     "iopub.status.busy": "2021-04-07T05:08:43.597842Z",
     "iopub.status.idle": "2021-04-07T05:08:43.703779Z",
     "shell.execute_reply": "2021-04-07T05:08:43.703214Z"
    },
    "papermill": {
     "duration": 0.254243,
     "end_time": "2021-04-07T05:08:43.703916",
     "exception": false,
     "start_time": "2021-04-07T05:08:43.449673",
     "status": "completed"
    },
    "tags": []
   },
   "outputs": [],
   "source": [
    "object_cols = ['Sex','Embarked']\n",
    "for col in object_cols:\n",
    "    label_encoder = LabelEncoder()\n",
    "    label_encoder.fit(train[col])\n",
    "    train[col] = label_encoder.transform(train[col])\n",
    "    test[col] = label_encoder.transform(test[col])"
   ]
  },
  {
   "cell_type": "code",
   "execution_count": 24,
   "id": "differential-praise",
   "metadata": {
    "execution": {
     "iopub.execute_input": "2021-04-07T05:08:43.936851Z",
     "iopub.status.busy": "2021-04-07T05:08:43.936190Z",
     "iopub.status.idle": "2021-04-07T05:08:43.940364Z",
     "shell.execute_reply": "2021-04-07T05:08:43.940866Z"
    },
    "papermill": {
     "duration": 0.133082,
     "end_time": "2021-04-07T05:08:43.941120",
     "exception": false,
     "start_time": "2021-04-07T05:08:43.808038",
     "status": "completed"
    },
    "tags": []
   },
   "outputs": [],
   "source": [
    "features = ['Pclass','Sex','Age','SibSp','Parch','Fare','Embarked','relatives']\n",
    "target = train['Survived'].values"
   ]
  },
  {
   "cell_type": "markdown",
   "id": "instructional-gallery",
   "metadata": {
    "papermill": {
     "duration": 0.104054,
     "end_time": "2021-04-07T05:08:44.152168",
     "exception": false,
     "start_time": "2021-04-07T05:08:44.048114",
     "status": "completed"
    },
    "tags": []
   },
   "source": [
    "## Logistic Regression"
   ]
  },
  {
   "cell_type": "code",
   "execution_count": 25,
   "id": "junior-newfoundland",
   "metadata": {
    "execution": {
     "iopub.execute_input": "2021-04-07T05:08:44.363423Z",
     "iopub.status.busy": "2021-04-07T05:08:44.362742Z",
     "iopub.status.idle": "2021-04-07T05:08:46.243133Z",
     "shell.execute_reply": "2021-04-07T05:08:46.244001Z"
    },
    "papermill": {
     "duration": 1.987891,
     "end_time": "2021-04-07T05:08:46.244284",
     "exception": false,
     "start_time": "2021-04-07T05:08:44.256393",
     "status": "completed"
    },
    "tags": []
   },
   "outputs": [
    {
     "name": "stdout",
     "output_type": "stream",
     "text": [
      "Logistic Regression ROC AUC score: 0.8285372252746173\n",
      "Logistic Regression Accuracy score: 0.7662\n"
     ]
    }
   ],
   "source": [
    "lr = LogisticRegression()\n",
    "lr.fit(train[features], target)\n",
    "print(\"Logistic Regression ROC AUC score:\", roc_auc_score(target, lr.predict_proba(train[features])[:,1]))\n",
    "print('Logistic Regression Accuracy score:', accuracy_score(target, lr.predict(train[features])))"
   ]
  },
  {
   "cell_type": "code",
   "execution_count": 26,
   "id": "immune-classroom",
   "metadata": {
    "execution": {
     "iopub.execute_input": "2021-04-07T05:08:46.502423Z",
     "iopub.status.busy": "2021-04-07T05:08:46.501638Z",
     "iopub.status.idle": "2021-04-07T05:08:46.767795Z",
     "shell.execute_reply": "2021-04-07T05:08:46.766193Z"
    },
    "papermill": {
     "duration": 0.377923,
     "end_time": "2021-04-07T05:08:46.768032",
     "exception": false,
     "start_time": "2021-04-07T05:08:46.390109",
     "status": "completed"
    },
    "tags": []
   },
   "outputs": [],
   "source": [
    "final['Survived'] = lr.predict(test[features])\n",
    "final.to_csv('LR.csv',index=False)"
   ]
  },
  {
   "cell_type": "markdown",
   "id": "governmental-uruguay",
   "metadata": {
    "papermill": {
     "duration": 0.105768,
     "end_time": "2021-04-07T05:08:47.002798",
     "exception": false,
     "start_time": "2021-04-07T05:08:46.897030",
     "status": "completed"
    },
    "tags": []
   },
   "source": [
    "## XGBoost"
   ]
  },
  {
   "cell_type": "code",
   "execution_count": 27,
   "id": "northern-click",
   "metadata": {
    "execution": {
     "iopub.execute_input": "2021-04-07T05:08:47.222511Z",
     "iopub.status.busy": "2021-04-07T05:08:47.221810Z",
     "iopub.status.idle": "2021-04-07T05:08:50.785352Z",
     "shell.execute_reply": "2021-04-07T05:08:50.784642Z"
    },
    "papermill": {
     "duration": 3.677604,
     "end_time": "2021-04-07T05:08:50.785600",
     "exception": false,
     "start_time": "2021-04-07T05:08:47.107996",
     "status": "completed"
    },
    "tags": []
   },
   "outputs": [
    {
     "name": "stdout",
     "output_type": "stream",
     "text": [
      "[05:08:47] WARNING: ../src/learner.cc:1061: Starting in XGBoost 1.3.0, the default evaluation metric used with the objective 'binary:logistic' was changed from 'error' to 'logloss'. Explicitly set eval_metric if you'd like to restore the old behavior.\n",
      "XGB ROC AUC score: 0.86427481424426\n",
      "XGB Accuracy score: 0.79044\n"
     ]
    }
   ],
   "source": [
    "xgb = XGBClassifier()\n",
    "xgb.fit(train[features], target)\n",
    "print(\"XGB ROC AUC score:\", roc_auc_score(target, xgb.predict_proba(train[features])[:,1]))\n",
    "print('XGB Accuracy score:', accuracy_score(target, xgb.predict(train[features])))"
   ]
  },
  {
   "cell_type": "code",
   "execution_count": 28,
   "id": "apart-protection",
   "metadata": {
    "execution": {
     "iopub.execute_input": "2021-04-07T05:08:51.003116Z",
     "iopub.status.busy": "2021-04-07T05:08:51.002475Z",
     "iopub.status.idle": "2021-04-07T05:08:51.309312Z",
     "shell.execute_reply": "2021-04-07T05:08:51.308646Z"
    },
    "papermill": {
     "duration": 0.416689,
     "end_time": "2021-04-07T05:08:51.309459",
     "exception": false,
     "start_time": "2021-04-07T05:08:50.892770",
     "status": "completed"
    },
    "tags": []
   },
   "outputs": [],
   "source": [
    "final['Survived'] = xgb.predict(test[features])\n",
    "final.to_csv('XGB.csv',index=False)"
   ]
  },
  {
   "cell_type": "markdown",
   "id": "opposed-vocabulary",
   "metadata": {
    "papermill": {
     "duration": 0.106175,
     "end_time": "2021-04-07T05:08:51.521447",
     "exception": false,
     "start_time": "2021-04-07T05:08:51.415272",
     "status": "completed"
    },
    "tags": []
   },
   "source": [
    "# AutoML"
   ]
  },
  {
   "cell_type": "code",
   "execution_count": 29,
   "id": "numerous-recording",
   "metadata": {
    "execution": {
     "iopub.execute_input": "2021-04-07T05:08:51.736282Z",
     "iopub.status.busy": "2021-04-07T05:08:51.735534Z",
     "iopub.status.idle": "2021-04-07T05:10:53.299852Z",
     "shell.execute_reply": "2021-04-07T05:10:53.299043Z"
    },
    "papermill": {
     "duration": 121.672546,
     "end_time": "2021-04-07T05:10:53.300024",
     "exception": false,
     "start_time": "2021-04-07T05:08:51.627478",
     "status": "completed"
    },
    "tags": []
   },
   "outputs": [
    {
     "data": {
      "text/html": [
       "<style type='text/css'>\n",
       ".datatable table.frame { margin-bottom: 0; }\n",
       ".datatable table.frame thead { border-bottom: none; }\n",
       ".datatable table.frame tr.coltypes td {  color: #FFFFFF;  line-height: 6px;  padding: 0 0.5em;}\n",
       ".datatable .bool    { background: #DDDD99; }\n",
       ".datatable .object  { background: #565656; }\n",
       ".datatable .int     { background: #5D9E5D; }\n",
       ".datatable .float   { background: #4040CC; }\n",
       ".datatable .str     { background: #CC4040; }\n",
       ".datatable .row_index {  background: var(--jp-border-color3);  border-right: 1px solid var(--jp-border-color0);  color: var(--jp-ui-font-color3);  font-size: 9px;}\n",
       ".datatable .frame tr.coltypes .row_index {  background: var(--jp-border-color0);}\n",
       ".datatable th:nth-child(2) { padding-left: 12px; }\n",
       ".datatable .hellipsis {  color: var(--jp-cell-editor-border-color);}\n",
       ".datatable .vellipsis {  background: var(--jp-layout-color0);  color: var(--jp-cell-editor-border-color);}\n",
       ".datatable .na {  color: var(--jp-cell-editor-border-color);  font-size: 80%;}\n",
       ".datatable .footer { font-size: 9px; }\n",
       ".datatable .frame_dimensions {  background: var(--jp-border-color3);  border-top: 1px solid var(--jp-border-color0);  color: var(--jp-ui-font-color3);  display: inline-block;  opacity: 0.6;  padding: 1px 10px 1px 5px;}\n",
       "</style>\n"
      ],
      "text/plain": [
       "<IPython.core.display.HTML object>"
      ]
     },
     "metadata": {},
     "output_type": "display_data"
    },
    {
     "name": "stdout",
     "output_type": "stream",
     "text": [
      "Linear algorithm was disabled.\n",
      "AutoML directory: AutoML_1\n",
      "The task is binary_classification with evaluation metric accuracy\n",
      "AutoML will use algorithms: ['Baseline', 'Decision Tree', 'Random Forest', 'Xgboost', 'Neural Network']\n",
      "AutoML will ensemble availabe models\n",
      "AutoML steps: ['simple_algorithms', 'default_algorithms', 'ensemble']\n",
      "* Step simple_algorithms will try to check up to 2 models\n",
      "1_Baseline accuracy 0.57224 trained in 0.64 seconds\n",
      "2_DecisionTree accuracy 0.76604 trained in 26.83 seconds\n",
      "* Step default_algorithms will try to check up to 3 models\n",
      "3_Default_Xgboost accuracy 0.77264 trained in 20.04 seconds\n",
      "4_Default_NeuralNetwork accuracy 0.76624 trained in 40.16 seconds\n",
      "5_Default_RandomForest accuracy 0.77004 trained in 17.56 seconds\n",
      "* Step ensemble will try to check up to 1 model\n",
      "Ensemble accuracy 0.77288 trained in 8.22 seconds\n",
      "AutoML fit time: 118.95 seconds\n",
      "AutoML best model: Ensemble\n"
     ]
    },
    {
     "data": {
      "text/html": [
       "\n",
       "        <iframe\n",
       "            width=\"900\"\n",
       "            height=\"1200\"\n",
       "            src=\"AutoML_1/README.html\"\n",
       "            frameborder=\"0\"\n",
       "            allowfullscreen\n",
       "        ></iframe>\n",
       "        "
      ],
      "text/plain": [
       "<IPython.lib.display.IFrame at 0x7faaacea5450>"
      ]
     },
     "execution_count": 29,
     "metadata": {},
     "output_type": "execute_result"
    }
   ],
   "source": [
    "from supervised.automl import AutoML\n",
    "automl = AutoML(eval_metric=\"accuracy\")\n",
    "automl.fit(train[features], target)\n",
    "automl.report()"
   ]
  },
  {
   "cell_type": "code",
   "execution_count": 30,
   "id": "fancy-chapel",
   "metadata": {
    "execution": {
     "iopub.execute_input": "2021-04-07T05:10:53.534417Z",
     "iopub.status.busy": "2021-04-07T05:10:53.533705Z",
     "iopub.status.idle": "2021-04-07T05:10:54.057910Z",
     "shell.execute_reply": "2021-04-07T05:10:54.057064Z"
    },
    "papermill": {
     "duration": 0.647074,
     "end_time": "2021-04-07T05:10:54.058057",
     "exception": false,
     "start_time": "2021-04-07T05:10:53.410983",
     "status": "completed"
    },
    "tags": []
   },
   "outputs": [],
   "source": [
    "final['Survived'] = automl.predict(test[features])\n",
    "final.to_csv('AutoML.csv',index=False)"
   ]
  },
  {
   "cell_type": "markdown",
   "id": "upper-weekend",
   "metadata": {
    "papermill": {
     "duration": 0.108854,
     "end_time": "2021-04-07T05:10:54.277419",
     "exception": false,
     "start_time": "2021-04-07T05:10:54.168565",
     "status": "completed"
    },
    "tags": []
   },
   "source": [
    "# Decision Tree"
   ]
  },
  {
   "cell_type": "code",
   "execution_count": 31,
   "id": "blessed-painting",
   "metadata": {
    "execution": {
     "iopub.execute_input": "2021-04-07T05:10:54.506505Z",
     "iopub.status.busy": "2021-04-07T05:10:54.505808Z",
     "iopub.status.idle": "2021-04-07T05:10:54.633828Z",
     "shell.execute_reply": "2021-04-07T05:10:54.634361Z"
    },
    "papermill": {
     "duration": 0.247218,
     "end_time": "2021-04-07T05:10:54.634563",
     "exception": false,
     "start_time": "2021-04-07T05:10:54.387345",
     "status": "completed"
    },
    "tags": []
   },
   "outputs": [
    {
     "data": {
      "text/plain": [
       "DecisionTreeClassifier(max_depth=4, min_samples_leaf=2)"
      ]
     },
     "execution_count": 31,
     "metadata": {},
     "output_type": "execute_result"
    }
   ],
   "source": [
    "model = DecisionTreeClassifier(\n",
    "    max_depth=4,\n",
    "    min_samples_leaf=2)\n",
    "model.fit(train[features], target)"
   ]
  },
  {
   "cell_type": "code",
   "execution_count": 32,
   "id": "thousand-semiconductor",
   "metadata": {
    "execution": {
     "iopub.execute_input": "2021-04-07T05:10:54.871127Z",
     "iopub.status.busy": "2021-04-07T05:10:54.870045Z",
     "iopub.status.idle": "2021-04-07T05:10:54.954525Z",
     "shell.execute_reply": "2021-04-07T05:10:54.955126Z"
    },
    "papermill": {
     "duration": 0.209076,
     "end_time": "2021-04-07T05:10:54.955336",
     "exception": false,
     "start_time": "2021-04-07T05:10:54.746260",
     "status": "completed"
    },
    "tags": []
   },
   "outputs": [
    {
     "data": {
      "image/svg+xml": [
       "<?xml version=\"1.0\" encoding=\"UTF-8\" standalone=\"no\"?>\n",
       "<!DOCTYPE svg PUBLIC \"-//W3C//DTD SVG 1.1//EN\"\n",
       " \"http://www.w3.org/Graphics/SVG/1.1/DTD/svg11.dtd\">\n",
       "<!-- Generated by graphviz version 2.47.0 (20210316.1410)\n",
       " -->\n",
       "<!-- Title: Tree Pages: 1 -->\n",
       "<svg width=\"2892pt\" height=\"552pt\"\n",
       " viewBox=\"0.00 0.00 2891.50 552.00\" xmlns=\"http://www.w3.org/2000/svg\" xmlns:xlink=\"http://www.w3.org/1999/xlink\">\n",
       "<g id=\"graph0\" class=\"graph\" transform=\"scale(1 1) rotate(0) translate(4 548)\">\n",
       "<title>Tree</title>\n",
       "<polygon fill=\"white\" stroke=\"transparent\" points=\"-4,4 -4,-548 2887.5,-548 2887.5,4 -4,4\"/>\n",
       "<!-- 0 -->\n",
       "<g id=\"node1\" class=\"node\">\n",
       "<title>0</title>\n",
       "<polygon fill=\"#f8dfcd\" stroke=\"black\" points=\"1534,-544 1348,-544 1348,-461 1534,-461 1534,-544\"/>\n",
       "<text text-anchor=\"start\" x=\"1406\" y=\"-528.8\" font-family=\"Times-Roman\" font-size=\"14.00\">Sex ≤ 0.5</text>\n",
       "<text text-anchor=\"start\" x=\"1401.5\" y=\"-513.8\" font-family=\"Times-Roman\" font-size=\"14.00\">gini = 0.49</text>\n",
       "<text text-anchor=\"start\" x=\"1373\" y=\"-498.8\" font-family=\"Times-Roman\" font-size=\"14.00\">samples = 100000</text>\n",
       "<text text-anchor=\"start\" x=\"1356\" y=\"-483.8\" font-family=\"Times-Roman\" font-size=\"14.00\">value = [57226, 42774]</text>\n",
       "<text text-anchor=\"start\" x=\"1408\" y=\"-468.8\" font-family=\"Times-Roman\" font-size=\"14.00\">class = 0</text>\n",
       "</g>\n",
       "<!-- 1 -->\n",
       "<g id=\"node2\" class=\"node\">\n",
       "<title>1</title>\n",
       "<polygon fill=\"#89c5f0\" stroke=\"black\" points=\"1172,-425 986,-425 986,-342 1172,-342 1172,-425\"/>\n",
       "<text text-anchor=\"start\" x=\"1020.5\" y=\"-409.8\" font-family=\"Times-Roman\" font-size=\"14.00\">Embarked ≤ 0.5</text>\n",
       "<text text-anchor=\"start\" x=\"1035\" y=\"-394.8\" font-family=\"Times-Roman\" font-size=\"14.00\">gini = 0.411</text>\n",
       "<text text-anchor=\"start\" x=\"1015.5\" y=\"-379.8\" font-family=\"Times-Roman\" font-size=\"14.00\">samples = 43886</text>\n",
       "<text text-anchor=\"start\" x=\"994\" y=\"-364.8\" font-family=\"Times-Roman\" font-size=\"14.00\">value = [12660, 31226]</text>\n",
       "<text text-anchor=\"start\" x=\"1046\" y=\"-349.8\" font-family=\"Times-Roman\" font-size=\"14.00\">class = 1</text>\n",
       "</g>\n",
       "<!-- 0&#45;&gt;1 -->\n",
       "<g id=\"edge1\" class=\"edge\">\n",
       "<title>0&#45;&gt;1</title>\n",
       "<path fill=\"none\" stroke=\"black\" d=\"M1347.78,-471.37C1296.99,-454.96 1234.05,-434.61 1181.84,-417.74\"/>\n",
       "<polygon fill=\"black\" stroke=\"black\" points=\"1182.81,-414.37 1172.22,-414.63 1180.66,-421.04 1182.81,-414.37\"/>\n",
       "<text text-anchor=\"middle\" x=\"1183.61\" y=\"-433.19\" font-family=\"Times-Roman\" font-size=\"14.00\">True</text>\n",
       "</g>\n",
       "<!-- 16 -->\n",
       "<g id=\"node17\" class=\"node\">\n",
       "<title>16</title>\n",
       "<polygon fill=\"#eca26c\" stroke=\"black\" points=\"1896,-425 1710,-425 1710,-342 1896,-342 1896,-425\"/>\n",
       "<text text-anchor=\"start\" x=\"1744.5\" y=\"-409.8\" font-family=\"Times-Roman\" font-size=\"14.00\">Embarked ≤ 1.5</text>\n",
       "<text text-anchor=\"start\" x=\"1759\" y=\"-394.8\" font-family=\"Times-Roman\" font-size=\"14.00\">gini = 0.327</text>\n",
       "<text text-anchor=\"start\" x=\"1739.5\" y=\"-379.8\" font-family=\"Times-Roman\" font-size=\"14.00\">samples = 56114</text>\n",
       "<text text-anchor=\"start\" x=\"1718\" y=\"-364.8\" font-family=\"Times-Roman\" font-size=\"14.00\">value = [44566, 11548]</text>\n",
       "<text text-anchor=\"start\" x=\"1770\" y=\"-349.8\" font-family=\"Times-Roman\" font-size=\"14.00\">class = 0</text>\n",
       "</g>\n",
       "<!-- 0&#45;&gt;16 -->\n",
       "<g id=\"edge16\" class=\"edge\">\n",
       "<title>0&#45;&gt;16</title>\n",
       "<path fill=\"none\" stroke=\"black\" d=\"M1534.22,-471.37C1585.01,-454.96 1647.95,-434.61 1700.16,-417.74\"/>\n",
       "<polygon fill=\"black\" stroke=\"black\" points=\"1701.34,-421.04 1709.78,-414.63 1699.19,-414.37 1701.34,-421.04\"/>\n",
       "<text text-anchor=\"middle\" x=\"1698.39\" y=\"-433.19\" font-family=\"Times-Roman\" font-size=\"14.00\">False</text>\n",
       "</g>\n",
       "<!-- 2 -->\n",
       "<g id=\"node3\" class=\"node\">\n",
       "<title>2</title>\n",
       "<polygon fill=\"#5dafea\" stroke=\"black\" points=\"623.5,-306 446.5,-306 446.5,-223 623.5,-223 623.5,-306\"/>\n",
       "<text text-anchor=\"start\" x=\"482\" y=\"-290.8\" font-family=\"Times-Roman\" font-size=\"14.00\">relatives ≤ 2.5</text>\n",
       "<text text-anchor=\"start\" x=\"495.5\" y=\"-275.8\" font-family=\"Times-Roman\" font-size=\"14.00\">gini = 0.26</text>\n",
       "<text text-anchor=\"start\" x=\"471.5\" y=\"-260.8\" font-family=\"Times-Roman\" font-size=\"14.00\">samples = 15786</text>\n",
       "<text text-anchor=\"start\" x=\"454.5\" y=\"-245.8\" font-family=\"Times-Roman\" font-size=\"14.00\">value = [2420, 13366]</text>\n",
       "<text text-anchor=\"start\" x=\"502\" y=\"-230.8\" font-family=\"Times-Roman\" font-size=\"14.00\">class = 1</text>\n",
       "</g>\n",
       "<!-- 1&#45;&gt;2 -->\n",
       "<g id=\"edge2\" class=\"edge\">\n",
       "<title>1&#45;&gt;2</title>\n",
       "<path fill=\"none\" stroke=\"black\" d=\"M985.79,-362.45C887.65,-341.35 733.76,-308.25 633.62,-286.71\"/>\n",
       "<polygon fill=\"black\" stroke=\"black\" points=\"634.31,-283.28 623.8,-284.6 632.84,-290.12 634.31,-283.28\"/>\n",
       "</g>\n",
       "<!-- 9 -->\n",
       "<g id=\"node10\" class=\"node\">\n",
       "<title>9</title>\n",
       "<polygon fill=\"#abd5f4\" stroke=\"black\" points=\"1172,-306 986,-306 986,-223 1172,-223 1172,-306\"/>\n",
       "<text text-anchor=\"start\" x=\"1035\" y=\"-290.8\" font-family=\"Times-Roman\" font-size=\"14.00\">Pclass ≤ 2.5</text>\n",
       "<text text-anchor=\"start\" x=\"1035\" y=\"-275.8\" font-family=\"Times-Roman\" font-size=\"14.00\">gini = 0.463</text>\n",
       "<text text-anchor=\"start\" x=\"1015.5\" y=\"-260.8\" font-family=\"Times-Roman\" font-size=\"14.00\">samples = 28100</text>\n",
       "<text text-anchor=\"start\" x=\"994\" y=\"-245.8\" font-family=\"Times-Roman\" font-size=\"14.00\">value = [10240, 17860]</text>\n",
       "<text text-anchor=\"start\" x=\"1046\" y=\"-230.8\" font-family=\"Times-Roman\" font-size=\"14.00\">class = 1</text>\n",
       "</g>\n",
       "<!-- 1&#45;&gt;9 -->\n",
       "<g id=\"edge9\" class=\"edge\">\n",
       "<title>1&#45;&gt;9</title>\n",
       "<path fill=\"none\" stroke=\"black\" d=\"M1079,-341.91C1079,-333.65 1079,-324.86 1079,-316.3\"/>\n",
       "<polygon fill=\"black\" stroke=\"black\" points=\"1082.5,-316.02 1079,-306.02 1075.5,-316.02 1082.5,-316.02\"/>\n",
       "</g>\n",
       "<!-- 3 -->\n",
       "<g id=\"node4\" class=\"node\">\n",
       "<title>3</title>\n",
       "<polygon fill=\"#55abe9\" stroke=\"black\" points=\"353.5,-187 176.5,-187 176.5,-104 353.5,-104 353.5,-187\"/>\n",
       "<text text-anchor=\"start\" x=\"221\" y=\"-171.8\" font-family=\"Times-Roman\" font-size=\"14.00\">Pclass ≤ 2.5</text>\n",
       "<text text-anchor=\"start\" x=\"221\" y=\"-156.8\" font-family=\"Times-Roman\" font-size=\"14.00\">gini = 0.217</text>\n",
       "<text text-anchor=\"start\" x=\"201.5\" y=\"-141.8\" font-family=\"Times-Roman\" font-size=\"14.00\">samples = 12305</text>\n",
       "<text text-anchor=\"start\" x=\"184.5\" y=\"-126.8\" font-family=\"Times-Roman\" font-size=\"14.00\">value = [1522, 10783]</text>\n",
       "<text text-anchor=\"start\" x=\"232\" y=\"-111.8\" font-family=\"Times-Roman\" font-size=\"14.00\">class = 1</text>\n",
       "</g>\n",
       "<!-- 2&#45;&gt;3 -->\n",
       "<g id=\"edge3\" class=\"edge\">\n",
       "<title>2&#45;&gt;3</title>\n",
       "<path fill=\"none\" stroke=\"black\" d=\"M446.22,-225.03C419.68,-213.53 390.44,-200.86 363.33,-189.11\"/>\n",
       "<polygon fill=\"black\" stroke=\"black\" points=\"364.4,-185.76 353.84,-185 361.62,-192.18 364.4,-185.76\"/>\n",
       "</g>\n",
       "<!-- 6 -->\n",
       "<g id=\"node7\" class=\"node\">\n",
       "<title>6</title>\n",
       "<polygon fill=\"#7ebfee\" stroke=\"black\" points=\"614.5,-187 455.5,-187 455.5,-104 614.5,-104 614.5,-187\"/>\n",
       "<text text-anchor=\"start\" x=\"482\" y=\"-171.8\" font-family=\"Times-Roman\" font-size=\"14.00\">relatives ≤ 3.5</text>\n",
       "<text text-anchor=\"start\" x=\"491\" y=\"-156.8\" font-family=\"Times-Roman\" font-size=\"14.00\">gini = 0.383</text>\n",
       "<text text-anchor=\"start\" x=\"476\" y=\"-141.8\" font-family=\"Times-Roman\" font-size=\"14.00\">samples = 3481</text>\n",
       "<text text-anchor=\"start\" x=\"463.5\" y=\"-126.8\" font-family=\"Times-Roman\" font-size=\"14.00\">value = [898, 2583]</text>\n",
       "<text text-anchor=\"start\" x=\"502\" y=\"-111.8\" font-family=\"Times-Roman\" font-size=\"14.00\">class = 1</text>\n",
       "</g>\n",
       "<!-- 2&#45;&gt;6 -->\n",
       "<g id=\"edge6\" class=\"edge\">\n",
       "<title>2&#45;&gt;6</title>\n",
       "<path fill=\"none\" stroke=\"black\" d=\"M535,-222.91C535,-214.65 535,-205.86 535,-197.3\"/>\n",
       "<polygon fill=\"black\" stroke=\"black\" points=\"538.5,-197.02 535,-187.02 531.5,-197.02 538.5,-197.02\"/>\n",
       "</g>\n",
       "<!-- 4 -->\n",
       "<g id=\"node5\" class=\"node\">\n",
       "<title>4</title>\n",
       "<polygon fill=\"#51a9e8\" stroke=\"black\" points=\"168,-68 0,-68 0,0 168,0 168,-68\"/>\n",
       "<text text-anchor=\"start\" x=\"40\" y=\"-52.8\" font-family=\"Times-Roman\" font-size=\"14.00\">gini = 0.191</text>\n",
       "<text text-anchor=\"start\" x=\"20.5\" y=\"-37.8\" font-family=\"Times-Roman\" font-size=\"14.00\">samples = 10478</text>\n",
       "<text text-anchor=\"start\" x=\"8\" y=\"-22.8\" font-family=\"Times-Roman\" font-size=\"14.00\">value = [1122, 9356]</text>\n",
       "<text text-anchor=\"start\" x=\"51\" y=\"-7.8\" font-family=\"Times-Roman\" font-size=\"14.00\">class = 1</text>\n",
       "</g>\n",
       "<!-- 3&#45;&gt;4 -->\n",
       "<g id=\"edge4\" class=\"edge\">\n",
       "<title>3&#45;&gt;4</title>\n",
       "<path fill=\"none\" stroke=\"black\" d=\"M197.86,-103.88C181.39,-93.92 163.82,-83.29 147.52,-73.43\"/>\n",
       "<polygon fill=\"black\" stroke=\"black\" points=\"148.99,-70.22 138.62,-68.04 145.36,-76.21 148.99,-70.22\"/>\n",
       "</g>\n",
       "<!-- 5 -->\n",
       "<g id=\"node6\" class=\"node\">\n",
       "<title>5</title>\n",
       "<polygon fill=\"#71b8ec\" stroke=\"black\" points=\"344.5,-68 185.5,-68 185.5,0 344.5,0 344.5,-68\"/>\n",
       "<text text-anchor=\"start\" x=\"221\" y=\"-52.8\" font-family=\"Times-Roman\" font-size=\"14.00\">gini = 0.342</text>\n",
       "<text text-anchor=\"start\" x=\"206\" y=\"-37.8\" font-family=\"Times-Roman\" font-size=\"14.00\">samples = 1827</text>\n",
       "<text text-anchor=\"start\" x=\"193.5\" y=\"-22.8\" font-family=\"Times-Roman\" font-size=\"14.00\">value = [400, 1427]</text>\n",
       "<text text-anchor=\"start\" x=\"232\" y=\"-7.8\" font-family=\"Times-Roman\" font-size=\"14.00\">class = 1</text>\n",
       "</g>\n",
       "<!-- 3&#45;&gt;5 -->\n",
       "<g id=\"edge5\" class=\"edge\">\n",
       "<title>3&#45;&gt;5</title>\n",
       "<path fill=\"none\" stroke=\"black\" d=\"M265,-103.73C265,-95.52 265,-86.86 265,-78.56\"/>\n",
       "<polygon fill=\"black\" stroke=\"black\" points=\"268.5,-78.3 265,-68.3 261.5,-78.3 268.5,-78.3\"/>\n",
       "</g>\n",
       "<!-- 7 -->\n",
       "<g id=\"node8\" class=\"node\">\n",
       "<title>7</title>\n",
       "<polygon fill=\"#6db7ec\" stroke=\"black\" points=\"521.5,-68 362.5,-68 362.5,0 521.5,0 521.5,-68\"/>\n",
       "<text text-anchor=\"start\" x=\"402.5\" y=\"-52.8\" font-family=\"Times-Roman\" font-size=\"14.00\">gini = 0.33</text>\n",
       "<text text-anchor=\"start\" x=\"383\" y=\"-37.8\" font-family=\"Times-Roman\" font-size=\"14.00\">samples = 1719</text>\n",
       "<text text-anchor=\"start\" x=\"370.5\" y=\"-22.8\" font-family=\"Times-Roman\" font-size=\"14.00\">value = [358, 1361]</text>\n",
       "<text text-anchor=\"start\" x=\"409\" y=\"-7.8\" font-family=\"Times-Roman\" font-size=\"14.00\">class = 1</text>\n",
       "</g>\n",
       "<!-- 6&#45;&gt;7 -->\n",
       "<g id=\"edge7\" class=\"edge\">\n",
       "<title>6&#45;&gt;7</title>\n",
       "<path fill=\"none\" stroke=\"black\" d=\"M500.37,-103.73C492.7,-94.7 484.57,-85.12 476.89,-76.08\"/>\n",
       "<polygon fill=\"black\" stroke=\"black\" points=\"479.42,-73.66 470.28,-68.3 474.09,-78.19 479.42,-73.66\"/>\n",
       "</g>\n",
       "<!-- 8 -->\n",
       "<g id=\"node9\" class=\"node\">\n",
       "<title>8</title>\n",
       "<polygon fill=\"#90c8f0\" stroke=\"black\" points=\"698.5,-68 539.5,-68 539.5,0 698.5,0 698.5,-68\"/>\n",
       "<text text-anchor=\"start\" x=\"575\" y=\"-52.8\" font-family=\"Times-Roman\" font-size=\"14.00\">gini = 0.425</text>\n",
       "<text text-anchor=\"start\" x=\"560\" y=\"-37.8\" font-family=\"Times-Roman\" font-size=\"14.00\">samples = 1762</text>\n",
       "<text text-anchor=\"start\" x=\"547.5\" y=\"-22.8\" font-family=\"Times-Roman\" font-size=\"14.00\">value = [540, 1222]</text>\n",
       "<text text-anchor=\"start\" x=\"586\" y=\"-7.8\" font-family=\"Times-Roman\" font-size=\"14.00\">class = 1</text>\n",
       "</g>\n",
       "<!-- 6&#45;&gt;8 -->\n",
       "<g id=\"edge8\" class=\"edge\">\n",
       "<title>6&#45;&gt;8</title>\n",
       "<path fill=\"none\" stroke=\"black\" d=\"M566.28,-103.73C573.14,-94.79 580.4,-85.32 587.28,-76.36\"/>\n",
       "<polygon fill=\"black\" stroke=\"black\" points=\"590.15,-78.36 593.46,-68.3 584.59,-74.1 590.15,-78.36\"/>\n",
       "</g>\n",
       "<!-- 10 -->\n",
       "<g id=\"node11\" class=\"node\">\n",
       "<title>10</title>\n",
       "<polygon fill=\"#8fc7f0\" stroke=\"black\" points=\"1072.5,-187 895.5,-187 895.5,-104 1072.5,-104 1072.5,-187\"/>\n",
       "<text text-anchor=\"start\" x=\"942\" y=\"-171.8\" font-family=\"Times-Roman\" font-size=\"14.00\">SibSp ≤ 0.5</text>\n",
       "<text text-anchor=\"start\" x=\"940\" y=\"-156.8\" font-family=\"Times-Roman\" font-size=\"14.00\">gini = 0.422</text>\n",
       "<text text-anchor=\"start\" x=\"920.5\" y=\"-141.8\" font-family=\"Times-Roman\" font-size=\"14.00\">samples = 18315</text>\n",
       "<text text-anchor=\"start\" x=\"903.5\" y=\"-126.8\" font-family=\"Times-Roman\" font-size=\"14.00\">value = [5538, 12777]</text>\n",
       "<text text-anchor=\"start\" x=\"951\" y=\"-111.8\" font-family=\"Times-Roman\" font-size=\"14.00\">class = 1</text>\n",
       "</g>\n",
       "<!-- 9&#45;&gt;10 -->\n",
       "<g id=\"edge10\" class=\"edge\">\n",
       "<title>9&#45;&gt;10</title>\n",
       "<path fill=\"none\" stroke=\"black\" d=\"M1046.04,-222.91C1038.75,-213.92 1030.94,-204.32 1023.42,-195.05\"/>\n",
       "<polygon fill=\"black\" stroke=\"black\" points=\"1025.92,-192.58 1016.9,-187.02 1020.49,-196.99 1025.92,-192.58\"/>\n",
       "</g>\n",
       "<!-- 13 -->\n",
       "<g id=\"node14\" class=\"node\">\n",
       "<title>13</title>\n",
       "<polygon fill=\"#f0f8fd\" stroke=\"black\" points=\"1258,-187 1090,-187 1090,-104 1258,-104 1258,-187\"/>\n",
       "<text text-anchor=\"start\" x=\"1132.5\" y=\"-171.8\" font-family=\"Times-Roman\" font-size=\"14.00\">Parch ≤ 1.5</text>\n",
       "<text text-anchor=\"start\" x=\"1130\" y=\"-156.8\" font-family=\"Times-Roman\" font-size=\"14.00\">gini = 0.499</text>\n",
       "<text text-anchor=\"start\" x=\"1115\" y=\"-141.8\" font-family=\"Times-Roman\" font-size=\"14.00\">samples = 9785</text>\n",
       "<text text-anchor=\"start\" x=\"1098\" y=\"-126.8\" font-family=\"Times-Roman\" font-size=\"14.00\">value = [4702, 5083]</text>\n",
       "<text text-anchor=\"start\" x=\"1141\" y=\"-111.8\" font-family=\"Times-Roman\" font-size=\"14.00\">class = 1</text>\n",
       "</g>\n",
       "<!-- 9&#45;&gt;13 -->\n",
       "<g id=\"edge13\" class=\"edge\">\n",
       "<title>9&#45;&gt;13</title>\n",
       "<path fill=\"none\" stroke=\"black\" d=\"M1111.96,-222.91C1119.25,-213.92 1127.06,-204.32 1134.58,-195.05\"/>\n",
       "<polygon fill=\"black\" stroke=\"black\" points=\"1137.51,-196.99 1141.1,-187.02 1132.08,-192.58 1137.51,-196.99\"/>\n",
       "</g>\n",
       "<!-- 11 -->\n",
       "<g id=\"node12\" class=\"node\">\n",
       "<title>11</title>\n",
       "<polygon fill=\"#82c1ef\" stroke=\"black\" points=\"884,-68 716,-68 716,0 884,0 884,-68\"/>\n",
       "<text text-anchor=\"start\" x=\"756\" y=\"-52.8\" font-family=\"Times-Roman\" font-size=\"14.00\">gini = 0.394</text>\n",
       "<text text-anchor=\"start\" x=\"736.5\" y=\"-37.8\" font-family=\"Times-Roman\" font-size=\"14.00\">samples = 12545</text>\n",
       "<text text-anchor=\"start\" x=\"724\" y=\"-22.8\" font-family=\"Times-Roman\" font-size=\"14.00\">value = [3379, 9166]</text>\n",
       "<text text-anchor=\"start\" x=\"767\" y=\"-7.8\" font-family=\"Times-Roman\" font-size=\"14.00\">class = 1</text>\n",
       "</g>\n",
       "<!-- 10&#45;&gt;11 -->\n",
       "<g id=\"edge11\" class=\"edge\">\n",
       "<title>10&#45;&gt;11</title>\n",
       "<path fill=\"none\" stroke=\"black\" d=\"M915.75,-103.88C899.01,-93.92 881.14,-83.29 864.58,-73.43\"/>\n",
       "<polygon fill=\"black\" stroke=\"black\" points=\"865.91,-70.15 855.52,-68.04 862.33,-76.17 865.91,-70.15\"/>\n",
       "</g>\n",
       "<!-- 12 -->\n",
       "<g id=\"node13\" class=\"node\">\n",
       "<title>12</title>\n",
       "<polygon fill=\"#afd8f5\" stroke=\"black\" points=\"1070,-68 902,-68 902,0 1070,0 1070,-68\"/>\n",
       "<text text-anchor=\"start\" x=\"942\" y=\"-52.8\" font-family=\"Times-Roman\" font-size=\"14.00\">gini = 0.468</text>\n",
       "<text text-anchor=\"start\" x=\"927\" y=\"-37.8\" font-family=\"Times-Roman\" font-size=\"14.00\">samples = 5770</text>\n",
       "<text text-anchor=\"start\" x=\"910\" y=\"-22.8\" font-family=\"Times-Roman\" font-size=\"14.00\">value = [2159, 3611]</text>\n",
       "<text text-anchor=\"start\" x=\"953\" y=\"-7.8\" font-family=\"Times-Roman\" font-size=\"14.00\">class = 1</text>\n",
       "</g>\n",
       "<!-- 10&#45;&gt;12 -->\n",
       "<g id=\"edge12\" class=\"edge\">\n",
       "<title>10&#45;&gt;12</title>\n",
       "<path fill=\"none\" stroke=\"black\" d=\"M984.74,-103.73C984.89,-95.52 985.05,-86.86 985.2,-78.56\"/>\n",
       "<polygon fill=\"black\" stroke=\"black\" points=\"988.71,-78.36 985.39,-68.3 981.71,-78.23 988.71,-78.36\"/>\n",
       "</g>\n",
       "<!-- 14 -->\n",
       "<g id=\"node15\" class=\"node\">\n",
       "<title>14</title>\n",
       "<polygon fill=\"#e3f1fb\" stroke=\"black\" points=\"1256,-68 1088,-68 1088,0 1256,0 1256,-68\"/>\n",
       "<text text-anchor=\"start\" x=\"1128\" y=\"-52.8\" font-family=\"Times-Roman\" font-size=\"14.00\">gini = 0.497</text>\n",
       "<text text-anchor=\"start\" x=\"1113\" y=\"-37.8\" font-family=\"Times-Roman\" font-size=\"14.00\">samples = 7866</text>\n",
       "<text text-anchor=\"start\" x=\"1096\" y=\"-22.8\" font-family=\"Times-Roman\" font-size=\"14.00\">value = [3634, 4232]</text>\n",
       "<text text-anchor=\"start\" x=\"1139\" y=\"-7.8\" font-family=\"Times-Roman\" font-size=\"14.00\">class = 1</text>\n",
       "</g>\n",
       "<!-- 13&#45;&gt;14 -->\n",
       "<g id=\"edge14\" class=\"edge\">\n",
       "<title>13&#45;&gt;14</title>\n",
       "<path fill=\"none\" stroke=\"black\" d=\"M1173.26,-103.73C1173.11,-95.52 1172.95,-86.86 1172.8,-78.56\"/>\n",
       "<polygon fill=\"black\" stroke=\"black\" points=\"1176.29,-78.23 1172.61,-68.3 1169.29,-78.36 1176.29,-78.23\"/>\n",
       "</g>\n",
       "<!-- 15 -->\n",
       "<g id=\"node16\" class=\"node\">\n",
       "<title>15</title>\n",
       "<polygon fill=\"#fae5d7\" stroke=\"black\" points=\"1432.5,-68 1273.5,-68 1273.5,0 1432.5,0 1432.5,-68\"/>\n",
       "<text text-anchor=\"start\" x=\"1309\" y=\"-52.8\" font-family=\"Times-Roman\" font-size=\"14.00\">gini = 0.494</text>\n",
       "<text text-anchor=\"start\" x=\"1294\" y=\"-37.8\" font-family=\"Times-Roman\" font-size=\"14.00\">samples = 1919</text>\n",
       "<text text-anchor=\"start\" x=\"1281.5\" y=\"-22.8\" font-family=\"Times-Roman\" font-size=\"14.00\">value = [1068, 851]</text>\n",
       "<text text-anchor=\"start\" x=\"1320\" y=\"-7.8\" font-family=\"Times-Roman\" font-size=\"14.00\">class = 0</text>\n",
       "</g>\n",
       "<!-- 13&#45;&gt;15 -->\n",
       "<g id=\"edge15\" class=\"edge\">\n",
       "<title>13&#45;&gt;15</title>\n",
       "<path fill=\"none\" stroke=\"black\" d=\"M1240.4,-103.88C1256.68,-93.92 1274.07,-83.29 1290.18,-73.43\"/>\n",
       "<polygon fill=\"black\" stroke=\"black\" points=\"1292.28,-76.25 1298.98,-68.04 1288.63,-70.28 1292.28,-76.25\"/>\n",
       "</g>\n",
       "<!-- 17 -->\n",
       "<g id=\"node18\" class=\"node\">\n",
       "<title>17</title>\n",
       "<polygon fill=\"#fdf7f2\" stroke=\"black\" points=\"1887,-306 1719,-306 1719,-223 1887,-223 1887,-306\"/>\n",
       "<text text-anchor=\"start\" x=\"1759\" y=\"-290.8\" font-family=\"Times-Roman\" font-size=\"14.00\">Pclass ≤ 2.5</text>\n",
       "<text text-anchor=\"start\" x=\"1759\" y=\"-275.8\" font-family=\"Times-Roman\" font-size=\"14.00\">gini = 0.499</text>\n",
       "<text text-anchor=\"start\" x=\"1744\" y=\"-260.8\" font-family=\"Times-Roman\" font-size=\"14.00\">samples = 7973</text>\n",
       "<text text-anchor=\"start\" x=\"1727\" y=\"-245.8\" font-family=\"Times-Roman\" font-size=\"14.00\">value = [4121, 3852]</text>\n",
       "<text text-anchor=\"start\" x=\"1770\" y=\"-230.8\" font-family=\"Times-Roman\" font-size=\"14.00\">class = 0</text>\n",
       "</g>\n",
       "<!-- 16&#45;&gt;17 -->\n",
       "<g id=\"edge17\" class=\"edge\">\n",
       "<title>16&#45;&gt;17</title>\n",
       "<path fill=\"none\" stroke=\"black\" d=\"M1803,-341.91C1803,-333.65 1803,-324.86 1803,-316.3\"/>\n",
       "<polygon fill=\"black\" stroke=\"black\" points=\"1806.5,-316.02 1803,-306.02 1799.5,-316.02 1806.5,-316.02\"/>\n",
       "</g>\n",
       "<!-- 24 -->\n",
       "<g id=\"node25\" class=\"node\">\n",
       "<title>24</title>\n",
       "<polygon fill=\"#ea995f\" stroke=\"black\" points=\"2416.5,-306 2239.5,-306 2239.5,-223 2416.5,-223 2416.5,-306\"/>\n",
       "<text text-anchor=\"start\" x=\"2284\" y=\"-290.8\" font-family=\"Times-Roman\" font-size=\"14.00\">Pclass ≤ 2.5</text>\n",
       "<text text-anchor=\"start\" x=\"2284\" y=\"-275.8\" font-family=\"Times-Roman\" font-size=\"14.00\">gini = 0.269</text>\n",
       "<text text-anchor=\"start\" x=\"2264.5\" y=\"-260.8\" font-family=\"Times-Roman\" font-size=\"14.00\">samples = 48141</text>\n",
       "<text text-anchor=\"start\" x=\"2247.5\" y=\"-245.8\" font-family=\"Times-Roman\" font-size=\"14.00\">value = [40445, 7696]</text>\n",
       "<text text-anchor=\"start\" x=\"2295\" y=\"-230.8\" font-family=\"Times-Roman\" font-size=\"14.00\">class = 0</text>\n",
       "</g>\n",
       "<!-- 16&#45;&gt;24 -->\n",
       "<g id=\"edge24\" class=\"edge\">\n",
       "<title>16&#45;&gt;24</title>\n",
       "<path fill=\"none\" stroke=\"black\" d=\"M1896.25,-361.72C1989.88,-340.85 2133.59,-308.83 2229.15,-287.53\"/>\n",
       "<polygon fill=\"black\" stroke=\"black\" points=\"2230.11,-290.9 2239.11,-285.31 2228.59,-284.07 2230.11,-290.9\"/>\n",
       "</g>\n",
       "<!-- 18 -->\n",
       "<g id=\"node19\" class=\"node\">\n",
       "<title>18</title>\n",
       "<polygon fill=\"#ddeefa\" stroke=\"black\" points=\"1797,-187 1629,-187 1629,-104 1797,-104 1797,-187\"/>\n",
       "<text text-anchor=\"start\" x=\"1666.5\" y=\"-171.8\" font-family=\"Times-Roman\" font-size=\"14.00\">Fare ≤ 4.344</text>\n",
       "<text text-anchor=\"start\" x=\"1669\" y=\"-156.8\" font-family=\"Times-Roman\" font-size=\"14.00\">gini = 0.495</text>\n",
       "<text text-anchor=\"start\" x=\"1654\" y=\"-141.8\" font-family=\"Times-Roman\" font-size=\"14.00\">samples = 6108</text>\n",
       "<text text-anchor=\"start\" x=\"1637\" y=\"-126.8\" font-family=\"Times-Roman\" font-size=\"14.00\">value = [2764, 3344]</text>\n",
       "<text text-anchor=\"start\" x=\"1680\" y=\"-111.8\" font-family=\"Times-Roman\" font-size=\"14.00\">class = 1</text>\n",
       "</g>\n",
       "<!-- 17&#45;&gt;18 -->\n",
       "<g id=\"edge18\" class=\"edge\">\n",
       "<title>17&#45;&gt;18</title>\n",
       "<path fill=\"none\" stroke=\"black\" d=\"M1771.77,-222.91C1764.86,-213.92 1757.47,-204.32 1750.35,-195.05\"/>\n",
       "<polygon fill=\"black\" stroke=\"black\" points=\"1753.04,-192.81 1744.17,-187.02 1747.49,-197.08 1753.04,-192.81\"/>\n",
       "</g>\n",
       "<!-- 21 -->\n",
       "<g id=\"node22\" class=\"node\">\n",
       "<title>21</title>\n",
       "<polygon fill=\"#efb083\" stroke=\"black\" points=\"1973.5,-187 1814.5,-187 1814.5,-104 1973.5,-104 1973.5,-187\"/>\n",
       "<text text-anchor=\"start\" x=\"1835.5\" y=\"-171.8\" font-family=\"Times-Roman\" font-size=\"14.00\">Embarked ≤ 0.5</text>\n",
       "<text text-anchor=\"start\" x=\"1850\" y=\"-156.8\" font-family=\"Times-Roman\" font-size=\"14.00\">gini = 0.396</text>\n",
       "<text text-anchor=\"start\" x=\"1835\" y=\"-141.8\" font-family=\"Times-Roman\" font-size=\"14.00\">samples = 1865</text>\n",
       "<text text-anchor=\"start\" x=\"1822.5\" y=\"-126.8\" font-family=\"Times-Roman\" font-size=\"14.00\">value = [1357, 508]</text>\n",
       "<text text-anchor=\"start\" x=\"1861\" y=\"-111.8\" font-family=\"Times-Roman\" font-size=\"14.00\">class = 0</text>\n",
       "</g>\n",
       "<!-- 17&#45;&gt;21 -->\n",
       "<g id=\"edge21\" class=\"edge\">\n",
       "<title>17&#45;&gt;21</title>\n",
       "<path fill=\"none\" stroke=\"black\" d=\"M1834.57,-222.91C1841.56,-213.92 1849.03,-204.32 1856.24,-195.05\"/>\n",
       "<polygon fill=\"black\" stroke=\"black\" points=\"1859.11,-197.06 1862.48,-187.02 1853.58,-192.77 1859.11,-197.06\"/>\n",
       "</g>\n",
       "<!-- 19 -->\n",
       "<g id=\"node20\" class=\"node\">\n",
       "<title>19</title>\n",
       "<polygon fill=\"#fdfeff\" stroke=\"black\" points=\"1618,-68 1450,-68 1450,0 1618,0 1618,-68\"/>\n",
       "<text text-anchor=\"start\" x=\"1499\" y=\"-52.8\" font-family=\"Times-Roman\" font-size=\"14.00\">gini = 0.5</text>\n",
       "<text text-anchor=\"start\" x=\"1475\" y=\"-37.8\" font-family=\"Times-Roman\" font-size=\"14.00\">samples = 4078</text>\n",
       "<text text-anchor=\"start\" x=\"1458\" y=\"-22.8\" font-family=\"Times-Roman\" font-size=\"14.00\">value = [2031, 2047]</text>\n",
       "<text text-anchor=\"start\" x=\"1501\" y=\"-7.8\" font-family=\"Times-Roman\" font-size=\"14.00\">class = 1</text>\n",
       "</g>\n",
       "<!-- 18&#45;&gt;19 -->\n",
       "<g id=\"edge19\" class=\"edge\">\n",
       "<title>18&#45;&gt;19</title>\n",
       "<path fill=\"none\" stroke=\"black\" d=\"M1646.6,-103.88C1630.32,-93.92 1612.93,-83.29 1596.82,-73.43\"/>\n",
       "<polygon fill=\"black\" stroke=\"black\" points=\"1598.37,-70.28 1588.02,-68.04 1594.72,-76.25 1598.37,-70.28\"/>\n",
       "</g>\n",
       "<!-- 20 -->\n",
       "<g id=\"node21\" class=\"node\">\n",
       "<title>20</title>\n",
       "<polygon fill=\"#a9d4f4\" stroke=\"black\" points=\"1794.5,-68 1635.5,-68 1635.5,0 1794.5,0 1794.5,-68\"/>\n",
       "<text text-anchor=\"start\" x=\"1671\" y=\"-52.8\" font-family=\"Times-Roman\" font-size=\"14.00\">gini = 0.461</text>\n",
       "<text text-anchor=\"start\" x=\"1656\" y=\"-37.8\" font-family=\"Times-Roman\" font-size=\"14.00\">samples = 2030</text>\n",
       "<text text-anchor=\"start\" x=\"1643.5\" y=\"-22.8\" font-family=\"Times-Roman\" font-size=\"14.00\">value = [733, 1297]</text>\n",
       "<text text-anchor=\"start\" x=\"1682\" y=\"-7.8\" font-family=\"Times-Roman\" font-size=\"14.00\">class = 1</text>\n",
       "</g>\n",
       "<!-- 18&#45;&gt;20 -->\n",
       "<g id=\"edge20\" class=\"edge\">\n",
       "<title>18&#45;&gt;20</title>\n",
       "<path fill=\"none\" stroke=\"black\" d=\"M1713.74,-103.73C1713.89,-95.52 1714.05,-86.86 1714.2,-78.56\"/>\n",
       "<polygon fill=\"black\" stroke=\"black\" points=\"1717.71,-78.36 1714.39,-68.3 1710.71,-78.23 1717.71,-78.36\"/>\n",
       "</g>\n",
       "<!-- 22 -->\n",
       "<g id=\"node23\" class=\"node\">\n",
       "<title>22</title>\n",
       "<polygon fill=\"#f1b991\" stroke=\"black\" points=\"1971.5,-68 1812.5,-68 1812.5,0 1971.5,0 1971.5,-68\"/>\n",
       "<text text-anchor=\"start\" x=\"1848\" y=\"-52.8\" font-family=\"Times-Roman\" font-size=\"14.00\">gini = 0.427</text>\n",
       "<text text-anchor=\"start\" x=\"1833\" y=\"-37.8\" font-family=\"Times-Roman\" font-size=\"14.00\">samples = 1454</text>\n",
       "<text text-anchor=\"start\" x=\"1820.5\" y=\"-22.8\" font-family=\"Times-Roman\" font-size=\"14.00\">value = [1005, 449]</text>\n",
       "<text text-anchor=\"start\" x=\"1859\" y=\"-7.8\" font-family=\"Times-Roman\" font-size=\"14.00\">class = 0</text>\n",
       "</g>\n",
       "<!-- 21&#45;&gt;22 -->\n",
       "<g id=\"edge22\" class=\"edge\">\n",
       "<title>21&#45;&gt;22</title>\n",
       "<path fill=\"none\" stroke=\"black\" d=\"M1893.26,-103.73C1893.11,-95.52 1892.95,-86.86 1892.8,-78.56\"/>\n",
       "<polygon fill=\"black\" stroke=\"black\" points=\"1896.29,-78.23 1892.61,-68.3 1889.29,-78.36 1896.29,-78.23\"/>\n",
       "</g>\n",
       "<!-- 23 -->\n",
       "<g id=\"node24\" class=\"node\">\n",
       "<title>23</title>\n",
       "<polygon fill=\"#e9965a\" stroke=\"black\" points=\"2130.5,-68 1989.5,-68 1989.5,0 2130.5,0 2130.5,-68\"/>\n",
       "<text text-anchor=\"start\" x=\"2016\" y=\"-52.8\" font-family=\"Times-Roman\" font-size=\"14.00\">gini = 0.246</text>\n",
       "<text text-anchor=\"start\" x=\"2005.5\" y=\"-37.8\" font-family=\"Times-Roman\" font-size=\"14.00\">samples = 411</text>\n",
       "<text text-anchor=\"start\" x=\"1997.5\" y=\"-22.8\" font-family=\"Times-Roman\" font-size=\"14.00\">value = [352, 59]</text>\n",
       "<text text-anchor=\"start\" x=\"2027\" y=\"-7.8\" font-family=\"Times-Roman\" font-size=\"14.00\">class = 0</text>\n",
       "</g>\n",
       "<!-- 21&#45;&gt;23 -->\n",
       "<g id=\"edge23\" class=\"edge\">\n",
       "<title>21&#45;&gt;23</title>\n",
       "<path fill=\"none\" stroke=\"black\" d=\"M1955.81,-103.73C1970.68,-93.92 1986.53,-83.46 2001.26,-73.75\"/>\n",
       "<polygon fill=\"black\" stroke=\"black\" points=\"2003.36,-76.55 2009.78,-68.13 1999.51,-70.71 2003.36,-76.55\"/>\n",
       "</g>\n",
       "<!-- 25 -->\n",
       "<g id=\"node26\" class=\"node\">\n",
       "<title>25</title>\n",
       "<polygon fill=\"#eda978\" stroke=\"black\" points=\"2416.5,-187 2239.5,-187 2239.5,-104 2416.5,-104 2416.5,-187\"/>\n",
       "<text text-anchor=\"start\" x=\"2281.5\" y=\"-171.8\" font-family=\"Times-Roman\" font-size=\"14.00\">Fare ≤ 2.529</text>\n",
       "<text text-anchor=\"start\" x=\"2284\" y=\"-156.8\" font-family=\"Times-Roman\" font-size=\"14.00\">gini = 0.365</text>\n",
       "<text text-anchor=\"start\" x=\"2264.5\" y=\"-141.8\" font-family=\"Times-Roman\" font-size=\"14.00\">samples = 21519</text>\n",
       "<text text-anchor=\"start\" x=\"2247.5\" y=\"-126.8\" font-family=\"Times-Roman\" font-size=\"14.00\">value = [16340, 5179]</text>\n",
       "<text text-anchor=\"start\" x=\"2295\" y=\"-111.8\" font-family=\"Times-Roman\" font-size=\"14.00\">class = 0</text>\n",
       "</g>\n",
       "<!-- 24&#45;&gt;25 -->\n",
       "<g id=\"edge25\" class=\"edge\">\n",
       "<title>24&#45;&gt;25</title>\n",
       "<path fill=\"none\" stroke=\"black\" d=\"M2328,-222.91C2328,-214.65 2328,-205.86 2328,-197.3\"/>\n",
       "<polygon fill=\"black\" stroke=\"black\" points=\"2331.5,-197.02 2328,-187.02 2324.5,-197.02 2331.5,-197.02\"/>\n",
       "</g>\n",
       "<!-- 28 -->\n",
       "<g id=\"node29\" class=\"node\">\n",
       "<title>28</title>\n",
       "<polygon fill=\"#e88e4e\" stroke=\"black\" points=\"2706.5,-187 2529.5,-187 2529.5,-104 2706.5,-104 2706.5,-187\"/>\n",
       "<text text-anchor=\"start\" x=\"2576.5\" y=\"-171.8\" font-family=\"Times-Roman\" font-size=\"14.00\">Parch ≤ 0.5</text>\n",
       "<text text-anchor=\"start\" x=\"2574\" y=\"-156.8\" font-family=\"Times-Roman\" font-size=\"14.00\">gini = 0.171</text>\n",
       "<text text-anchor=\"start\" x=\"2554.5\" y=\"-141.8\" font-family=\"Times-Roman\" font-size=\"14.00\">samples = 26622</text>\n",
       "<text text-anchor=\"start\" x=\"2537.5\" y=\"-126.8\" font-family=\"Times-Roman\" font-size=\"14.00\">value = [24105, 2517]</text>\n",
       "<text text-anchor=\"start\" x=\"2585\" y=\"-111.8\" font-family=\"Times-Roman\" font-size=\"14.00\">class = 0</text>\n",
       "</g>\n",
       "<!-- 24&#45;&gt;28 -->\n",
       "<g id=\"edge28\" class=\"edge\">\n",
       "<title>24&#45;&gt;28</title>\n",
       "<path fill=\"none\" stroke=\"black\" d=\"M2416.59,-227.76C2449.32,-214.55 2486.6,-199.51 2520.11,-185.99\"/>\n",
       "<polygon fill=\"black\" stroke=\"black\" points=\"2521.49,-189.21 2529.46,-182.22 2518.87,-182.72 2521.49,-189.21\"/>\n",
       "</g>\n",
       "<!-- 26 -->\n",
       "<g id=\"node27\" class=\"node\">\n",
       "<title>26</title>\n",
       "<polygon fill=\"#ea975c\" stroke=\"black\" points=\"2317,-68 2149,-68 2149,0 2317,0 2317,-68\"/>\n",
       "<text text-anchor=\"start\" x=\"2189\" y=\"-52.8\" font-family=\"Times-Roman\" font-size=\"14.00\">gini = 0.255</text>\n",
       "<text text-anchor=\"start\" x=\"2174\" y=\"-37.8\" font-family=\"Times-Roman\" font-size=\"14.00\">samples = 7159</text>\n",
       "<text text-anchor=\"start\" x=\"2157\" y=\"-22.8\" font-family=\"Times-Roman\" font-size=\"14.00\">value = [6083, 1076]</text>\n",
       "<text text-anchor=\"start\" x=\"2200\" y=\"-7.8\" font-family=\"Times-Roman\" font-size=\"14.00\">class = 0</text>\n",
       "</g>\n",
       "<!-- 25&#45;&gt;26 -->\n",
       "<g id=\"edge26\" class=\"edge\">\n",
       "<title>25&#45;&gt;26</title>\n",
       "<path fill=\"none\" stroke=\"black\" d=\"M2292.63,-103.73C2284.79,-94.7 2276.49,-85.12 2268.64,-76.08\"/>\n",
       "<polygon fill=\"black\" stroke=\"black\" points=\"2271.09,-73.56 2261.89,-68.3 2265.8,-78.15 2271.09,-73.56\"/>\n",
       "</g>\n",
       "<!-- 27 -->\n",
       "<g id=\"node28\" class=\"node\">\n",
       "<title>27</title>\n",
       "<polygon fill=\"#efb388\" stroke=\"black\" points=\"2511.5,-68 2334.5,-68 2334.5,0 2511.5,0 2511.5,-68\"/>\n",
       "<text text-anchor=\"start\" x=\"2379\" y=\"-52.8\" font-family=\"Times-Roman\" font-size=\"14.00\">gini = 0.408</text>\n",
       "<text text-anchor=\"start\" x=\"2359.5\" y=\"-37.8\" font-family=\"Times-Roman\" font-size=\"14.00\">samples = 14360</text>\n",
       "<text text-anchor=\"start\" x=\"2342.5\" y=\"-22.8\" font-family=\"Times-Roman\" font-size=\"14.00\">value = [10257, 4103]</text>\n",
       "<text text-anchor=\"start\" x=\"2390\" y=\"-7.8\" font-family=\"Times-Roman\" font-size=\"14.00\">class = 0</text>\n",
       "</g>\n",
       "<!-- 25&#45;&gt;27 -->\n",
       "<g id=\"edge27\" class=\"edge\">\n",
       "<title>25&#45;&gt;27</title>\n",
       "<path fill=\"none\" stroke=\"black\" d=\"M2363.37,-103.73C2371.21,-94.7 2379.51,-85.12 2387.36,-76.08\"/>\n",
       "<polygon fill=\"black\" stroke=\"black\" points=\"2390.2,-78.15 2394.11,-68.3 2384.91,-73.56 2390.2,-78.15\"/>\n",
       "</g>\n",
       "<!-- 29 -->\n",
       "<g id=\"node30\" class=\"node\">\n",
       "<title>29</title>\n",
       "<polygon fill=\"#e78c4b\" stroke=\"black\" points=\"2706.5,-68 2529.5,-68 2529.5,0 2706.5,0 2706.5,-68\"/>\n",
       "<text text-anchor=\"start\" x=\"2574\" y=\"-52.8\" font-family=\"Times-Roman\" font-size=\"14.00\">gini = 0.153</text>\n",
       "<text text-anchor=\"start\" x=\"2554.5\" y=\"-37.8\" font-family=\"Times-Roman\" font-size=\"14.00\">samples = 22260</text>\n",
       "<text text-anchor=\"start\" x=\"2537.5\" y=\"-22.8\" font-family=\"Times-Roman\" font-size=\"14.00\">value = [20403, 1857]</text>\n",
       "<text text-anchor=\"start\" x=\"2585\" y=\"-7.8\" font-family=\"Times-Roman\" font-size=\"14.00\">class = 0</text>\n",
       "</g>\n",
       "<!-- 28&#45;&gt;29 -->\n",
       "<g id=\"edge29\" class=\"edge\">\n",
       "<title>28&#45;&gt;29</title>\n",
       "<path fill=\"none\" stroke=\"black\" d=\"M2618,-103.73C2618,-95.52 2618,-86.86 2618,-78.56\"/>\n",
       "<polygon fill=\"black\" stroke=\"black\" points=\"2621.5,-78.3 2618,-68.3 2614.5,-78.3 2621.5,-78.3\"/>\n",
       "</g>\n",
       "<!-- 30 -->\n",
       "<g id=\"node31\" class=\"node\">\n",
       "<title>30</title>\n",
       "<polygon fill=\"#ea975c\" stroke=\"black\" points=\"2883.5,-68 2724.5,-68 2724.5,0 2883.5,0 2883.5,-68\"/>\n",
       "<text text-anchor=\"start\" x=\"2760\" y=\"-52.8\" font-family=\"Times-Roman\" font-size=\"14.00\">gini = 0.257</text>\n",
       "<text text-anchor=\"start\" x=\"2745\" y=\"-37.8\" font-family=\"Times-Roman\" font-size=\"14.00\">samples = 4362</text>\n",
       "<text text-anchor=\"start\" x=\"2732.5\" y=\"-22.8\" font-family=\"Times-Roman\" font-size=\"14.00\">value = [3702, 660]</text>\n",
       "<text text-anchor=\"start\" x=\"2771\" y=\"-7.8\" font-family=\"Times-Roman\" font-size=\"14.00\">class = 0</text>\n",
       "</g>\n",
       "<!-- 28&#45;&gt;30 -->\n",
       "<g id=\"edge30\" class=\"edge\">\n",
       "<title>28&#45;&gt;30</title>\n",
       "<path fill=\"none\" stroke=\"black\" d=\"M2687,-103.88C2704.07,-93.83 2722.31,-83.09 2739.19,-73.16\"/>\n",
       "<polygon fill=\"black\" stroke=\"black\" points=\"2741.03,-76.13 2747.87,-68.04 2737.48,-70.1 2741.03,-76.13\"/>\n",
       "</g>\n",
       "</g>\n",
       "</svg>\n"
      ],
      "text/plain": [
       "<graphviz.files.Source at 0x7faa395ccc90>"
      ]
     },
     "execution_count": 32,
     "metadata": {},
     "output_type": "execute_result"
    }
   ],
   "source": [
    "dot_data = export_graphviz(\n",
    "    model,\n",
    "    out_file=None,\n",
    "    feature_names=train[features].columns,\n",
    "    class_names=['0', '1'],\n",
    "    filled=True,\n",
    "    rounded=False,\n",
    "    special_characters=True,\n",
    "    precision=3\n",
    ")\n",
    "graph = graphviz.Source(dot_data)\n",
    "graph "
   ]
  },
  {
   "cell_type": "code",
   "execution_count": 33,
   "id": "binary-silly",
   "metadata": {
    "execution": {
     "iopub.execute_input": "2021-04-07T05:10:55.193837Z",
     "iopub.status.busy": "2021-04-07T05:10:55.193107Z",
     "iopub.status.idle": "2021-04-07T05:10:55.396694Z",
     "shell.execute_reply": "2021-04-07T05:10:55.396129Z"
    },
    "papermill": {
     "duration": 0.327004,
     "end_time": "2021-04-07T05:10:55.396845",
     "exception": false,
     "start_time": "2021-04-07T05:10:55.069841",
     "status": "completed"
    },
    "tags": []
   },
   "outputs": [],
   "source": [
    "y_pred = model.predict(test[features]).astype(int)\n",
    "final['Survived'] = y_pred\n",
    "final.to_csv(\"DT.csv\", index=False)"
   ]
  }
 ],
 "metadata": {
  "kernelspec": {
   "display_name": "Python 3",
   "language": "python",
   "name": "python3"
  },
  "language_info": {
   "codemirror_mode": {
    "name": "ipython",
    "version": 3
   },
   "file_extension": ".py",
   "mimetype": "text/x-python",
   "name": "python",
   "nbconvert_exporter": "python",
   "pygments_lexer": "ipython3",
   "version": "3.7.9"
  },
  "papermill": {
   "default_parameters": {},
   "duration": 216.939524,
   "end_time": "2021-04-07T05:10:57.827205",
   "environment_variables": {},
   "exception": null,
   "input_path": "__notebook__.ipynb",
   "output_path": "__notebook__.ipynb",
   "parameters": {},
   "start_time": "2021-04-07T05:07:20.887681",
   "version": "2.3.2"
  }
 },
 "nbformat": 4,
 "nbformat_minor": 5
}
