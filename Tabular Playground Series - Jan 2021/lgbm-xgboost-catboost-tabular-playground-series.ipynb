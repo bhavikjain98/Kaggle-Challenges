{
 "cells": [
  {
   "cell_type": "markdown",
   "metadata": {
    "papermill": {
     "duration": 0.017346,
     "end_time": "2021-01-26T04:24:58.713730",
     "exception": false,
     "start_time": "2021-01-26T04:24:58.696384",
     "status": "completed"
    },
    "tags": []
   },
   "source": [
    "Loading necessary libraries"
   ]
  },
  {
   "cell_type": "code",
   "execution_count": 1,
   "metadata": {
    "_cell_guid": "79c7e3d0-c299-4dcb-8224-4455121ee9b0",
    "_uuid": "d629ff2d2480ee46fbb7e2d37f6b5fab8052498a",
    "execution": {
     "iopub.execute_input": "2021-01-26T04:24:58.753732Z",
     "iopub.status.busy": "2021-01-26T04:24:58.753100Z",
     "iopub.status.idle": "2021-01-26T04:25:04.263101Z",
     "shell.execute_reply": "2021-01-26T04:25:04.263750Z"
    },
    "papermill": {
     "duration": 5.53414,
     "end_time": "2021-01-26T04:25:04.263945",
     "exception": false,
     "start_time": "2021-01-26T04:24:58.729805",
     "status": "completed"
    },
    "tags": []
   },
   "outputs": [],
   "source": [
    "import numpy as np\n",
    "import pandas as pd\n",
    "\n",
    "from sklearn.metrics import mean_squared_error\n",
    "from sklearn.model_selection import KFold\n",
    "\n",
    "from tqdm import tqdm\n",
    "import pandas  as pd\n",
    "import xgboost as xgb"
   ]
  },
  {
   "cell_type": "code",
   "execution_count": 2,
   "metadata": {
    "execution": {
     "iopub.execute_input": "2021-01-26T04:25:04.322076Z",
     "iopub.status.busy": "2021-01-26T04:25:04.321366Z",
     "iopub.status.idle": "2021-01-26T04:25:07.883282Z",
     "shell.execute_reply": "2021-01-26T04:25:07.882630Z"
    },
    "papermill": {
     "duration": 3.594498,
     "end_time": "2021-01-26T04:25:07.883397",
     "exception": false,
     "start_time": "2021-01-26T04:25:04.288899",
     "status": "completed"
    },
    "tags": []
   },
   "outputs": [
    {
     "data": {
      "text/html": [
       "<div>\n",
       "<style scoped>\n",
       "    .dataframe tbody tr th:only-of-type {\n",
       "        vertical-align: middle;\n",
       "    }\n",
       "\n",
       "    .dataframe tbody tr th {\n",
       "        vertical-align: top;\n",
       "    }\n",
       "\n",
       "    .dataframe thead th {\n",
       "        text-align: right;\n",
       "    }\n",
       "</style>\n",
       "<table border=\"1\" class=\"dataframe\">\n",
       "  <thead>\n",
       "    <tr style=\"text-align: right;\">\n",
       "      <th></th>\n",
       "      <th>id</th>\n",
       "      <th>cont1</th>\n",
       "      <th>cont2</th>\n",
       "      <th>cont3</th>\n",
       "      <th>cont4</th>\n",
       "      <th>cont5</th>\n",
       "      <th>cont6</th>\n",
       "      <th>cont7</th>\n",
       "      <th>cont8</th>\n",
       "      <th>cont9</th>\n",
       "      <th>cont10</th>\n",
       "      <th>cont11</th>\n",
       "      <th>cont12</th>\n",
       "      <th>cont13</th>\n",
       "      <th>cont14</th>\n",
       "      <th>target</th>\n",
       "    </tr>\n",
       "  </thead>\n",
       "  <tbody>\n",
       "    <tr>\n",
       "      <th>0</th>\n",
       "      <td>1</td>\n",
       "      <td>0.670390</td>\n",
       "      <td>0.811300</td>\n",
       "      <td>0.643968</td>\n",
       "      <td>0.291791</td>\n",
       "      <td>0.284117</td>\n",
       "      <td>0.855953</td>\n",
       "      <td>0.890700</td>\n",
       "      <td>0.285542</td>\n",
       "      <td>0.558245</td>\n",
       "      <td>0.779418</td>\n",
       "      <td>0.921832</td>\n",
       "      <td>0.866772</td>\n",
       "      <td>0.878733</td>\n",
       "      <td>0.305411</td>\n",
       "      <td>7.243043</td>\n",
       "    </tr>\n",
       "    <tr>\n",
       "      <th>1</th>\n",
       "      <td>3</td>\n",
       "      <td>0.388053</td>\n",
       "      <td>0.621104</td>\n",
       "      <td>0.686102</td>\n",
       "      <td>0.501149</td>\n",
       "      <td>0.643790</td>\n",
       "      <td>0.449805</td>\n",
       "      <td>0.510824</td>\n",
       "      <td>0.580748</td>\n",
       "      <td>0.418335</td>\n",
       "      <td>0.432632</td>\n",
       "      <td>0.439872</td>\n",
       "      <td>0.434971</td>\n",
       "      <td>0.369957</td>\n",
       "      <td>0.369484</td>\n",
       "      <td>8.203331</td>\n",
       "    </tr>\n",
       "    <tr>\n",
       "      <th>2</th>\n",
       "      <td>4</td>\n",
       "      <td>0.834950</td>\n",
       "      <td>0.227436</td>\n",
       "      <td>0.301584</td>\n",
       "      <td>0.293408</td>\n",
       "      <td>0.606839</td>\n",
       "      <td>0.829175</td>\n",
       "      <td>0.506143</td>\n",
       "      <td>0.558771</td>\n",
       "      <td>0.587603</td>\n",
       "      <td>0.823312</td>\n",
       "      <td>0.567007</td>\n",
       "      <td>0.677708</td>\n",
       "      <td>0.882938</td>\n",
       "      <td>0.303047</td>\n",
       "      <td>7.776091</td>\n",
       "    </tr>\n",
       "    <tr>\n",
       "      <th>3</th>\n",
       "      <td>5</td>\n",
       "      <td>0.820708</td>\n",
       "      <td>0.160155</td>\n",
       "      <td>0.546887</td>\n",
       "      <td>0.726104</td>\n",
       "      <td>0.282444</td>\n",
       "      <td>0.785108</td>\n",
       "      <td>0.752758</td>\n",
       "      <td>0.823267</td>\n",
       "      <td>0.574466</td>\n",
       "      <td>0.580843</td>\n",
       "      <td>0.769594</td>\n",
       "      <td>0.818143</td>\n",
       "      <td>0.914281</td>\n",
       "      <td>0.279528</td>\n",
       "      <td>6.957716</td>\n",
       "    </tr>\n",
       "    <tr>\n",
       "      <th>4</th>\n",
       "      <td>8</td>\n",
       "      <td>0.935278</td>\n",
       "      <td>0.421235</td>\n",
       "      <td>0.303801</td>\n",
       "      <td>0.880214</td>\n",
       "      <td>0.665610</td>\n",
       "      <td>0.830131</td>\n",
       "      <td>0.487113</td>\n",
       "      <td>0.604157</td>\n",
       "      <td>0.874658</td>\n",
       "      <td>0.863427</td>\n",
       "      <td>0.983575</td>\n",
       "      <td>0.900464</td>\n",
       "      <td>0.935918</td>\n",
       "      <td>0.435772</td>\n",
       "      <td>7.951046</td>\n",
       "    </tr>\n",
       "  </tbody>\n",
       "</table>\n",
       "</div>"
      ],
      "text/plain": [
       "   id     cont1     cont2     cont3     cont4     cont5     cont6     cont7  \\\n",
       "0   1  0.670390  0.811300  0.643968  0.291791  0.284117  0.855953  0.890700   \n",
       "1   3  0.388053  0.621104  0.686102  0.501149  0.643790  0.449805  0.510824   \n",
       "2   4  0.834950  0.227436  0.301584  0.293408  0.606839  0.829175  0.506143   \n",
       "3   5  0.820708  0.160155  0.546887  0.726104  0.282444  0.785108  0.752758   \n",
       "4   8  0.935278  0.421235  0.303801  0.880214  0.665610  0.830131  0.487113   \n",
       "\n",
       "      cont8     cont9    cont10    cont11    cont12    cont13    cont14  \\\n",
       "0  0.285542  0.558245  0.779418  0.921832  0.866772  0.878733  0.305411   \n",
       "1  0.580748  0.418335  0.432632  0.439872  0.434971  0.369957  0.369484   \n",
       "2  0.558771  0.587603  0.823312  0.567007  0.677708  0.882938  0.303047   \n",
       "3  0.823267  0.574466  0.580843  0.769594  0.818143  0.914281  0.279528   \n",
       "4  0.604157  0.874658  0.863427  0.983575  0.900464  0.935918  0.435772   \n",
       "\n",
       "     target  \n",
       "0  7.243043  \n",
       "1  8.203331  \n",
       "2  7.776091  \n",
       "3  6.957716  \n",
       "4  7.951046  "
      ]
     },
     "execution_count": 2,
     "metadata": {},
     "output_type": "execute_result"
    }
   ],
   "source": [
    "train_data = pd.read_csv('../input/tabular-playground-series-jan-2021/train.csv')\n",
    "test_data  = pd.read_csv('../input/tabular-playground-series-jan-2021/test.csv')\n",
    "train_data.head()"
   ]
  },
  {
   "cell_type": "code",
   "execution_count": 3,
   "metadata": {
    "execution": {
     "iopub.execute_input": "2021-01-26T04:25:07.947771Z",
     "iopub.status.busy": "2021-01-26T04:25:07.945798Z",
     "iopub.status.idle": "2021-01-26T04:25:07.948502Z",
     "shell.execute_reply": "2021-01-26T04:25:07.949055Z"
    },
    "papermill": {
     "duration": 0.047973,
     "end_time": "2021-01-26T04:25:07.949189",
     "exception": false,
     "start_time": "2021-01-26T04:25:07.901216",
     "status": "completed"
    },
    "tags": []
   },
   "outputs": [],
   "source": [
    "features = ['cont1', 'cont2', 'cont3', 'cont4', 'cont5', 'cont6', 'cont7',\n",
    "       'cont8', 'cont9', 'cont10', 'cont11', 'cont12', 'cont13', 'cont14']\n",
    "\n",
    "X_train = train_data[features]\n",
    "y_train = train_data[\"target\"]\n",
    "final_X_test = test_data[features]"
   ]
  },
  {
   "cell_type": "markdown",
   "metadata": {
    "papermill": {
     "duration": 0.016846,
     "end_time": "2021-01-26T04:25:07.983781",
     "exception": false,
     "start_time": "2021-01-26T04:25:07.966935",
     "status": "completed"
    },
    "tags": []
   },
   "source": [
    "Splitting the training data"
   ]
  },
  {
   "cell_type": "code",
   "execution_count": 4,
   "metadata": {
    "execution": {
     "iopub.execute_input": "2021-01-26T04:25:08.024231Z",
     "iopub.status.busy": "2021-01-26T04:25:08.023433Z",
     "iopub.status.idle": "2021-01-26T04:25:08.075034Z",
     "shell.execute_reply": "2021-01-26T04:25:08.074495Z"
    },
    "papermill": {
     "duration": 0.073772,
     "end_time": "2021-01-26T04:25:08.075149",
     "exception": false,
     "start_time": "2021-01-26T04:25:08.001377",
     "status": "completed"
    },
    "tags": []
   },
   "outputs": [],
   "source": [
    "from sklearn.model_selection import train_test_split\n",
    "X_train,X_test,y_train,y_test = train_test_split(X_train, y_train, test_size=0.1)"
   ]
  },
  {
   "cell_type": "markdown",
   "metadata": {
    "papermill": {
     "duration": 0.017432,
     "end_time": "2021-01-26T04:25:08.110301",
     "exception": false,
     "start_time": "2021-01-26T04:25:08.092869",
     "status": "completed"
    },
    "tags": []
   },
   "source": [
    "# Training XGBoostRegressor"
   ]
  },
  {
   "cell_type": "markdown",
   "metadata": {
    "papermill": {
     "duration": 0.017117,
     "end_time": "2021-01-26T04:25:08.145183",
     "exception": false,
     "start_time": "2021-01-26T04:25:08.128066",
     "status": "completed"
    },
    "tags": []
   },
   "source": [
    "Parameters adapted from this great notebook, \n",
    "https://www.kaggle.com/hamzaghanmi/xgboost-hyperparameter-tuning-using-optuna"
   ]
  },
  {
   "cell_type": "code",
   "execution_count": 5,
   "metadata": {
    "execution": {
     "iopub.execute_input": "2021-01-26T04:25:08.190585Z",
     "iopub.status.busy": "2021-01-26T04:25:08.188495Z",
     "iopub.status.idle": "2021-01-26T04:25:08.191309Z",
     "shell.execute_reply": "2021-01-26T04:25:08.191864Z"
    },
    "papermill": {
     "duration": 0.028725,
     "end_time": "2021-01-26T04:25:08.191984",
     "exception": false,
     "start_time": "2021-01-26T04:25:08.163259",
     "status": "completed"
    },
    "tags": []
   },
   "outputs": [],
   "source": [
    "Best_trial = {'lambda': 0.0030282073258141168, 'alpha': 0.01563845128469084, 'colsample_bytree': 0.5,\n",
    "             'subsample': 0.7,'n_estimators': 4000, 'learning_rate': 0.01,'max_depth': 15,\n",
    "             'random_state': 2020, 'min_child_weight': 257,'tree_method':'gpu_hist'\n",
    "             ,'predictor': 'gpu_predictor'}"
   ]
  },
  {
   "cell_type": "code",
   "execution_count": 6,
   "metadata": {
    "execution": {
     "iopub.execute_input": "2021-01-26T04:25:08.233104Z",
     "iopub.status.busy": "2021-01-26T04:25:08.232416Z",
     "iopub.status.idle": "2021-01-26T04:25:37.937985Z",
     "shell.execute_reply": "2021-01-26T04:25:37.936943Z"
    },
    "papermill": {
     "duration": 29.728281,
     "end_time": "2021-01-26T04:25:37.938112",
     "exception": false,
     "start_time": "2021-01-26T04:25:08.209831",
     "status": "completed"
    },
    "tags": []
   },
   "outputs": [
    {
     "data": {
      "text/plain": [
       "XGBRegressor(alpha=0.01563845128469084, base_score=0.5, booster='gbtree',\n",
       "             colsample_bylevel=1, colsample_bynode=1, colsample_bytree=0.5,\n",
       "             gamma=0, gpu_id=0, importance_type='gain',\n",
       "             interaction_constraints='', lambda=0.0030282073258141168,\n",
       "             learning_rate=0.01, max_delta_step=0, max_depth=15,\n",
       "             min_child_weight=257, missing=nan,\n",
       "             monotone_constraints='(0,0,0,0,0,0,0,0,0,0,0,0,0,0)',\n",
       "             n_estimators=4000, n_jobs=0, num_parallel_tree=1,\n",
       "             predictor='gpu_predictor', random_state=2020,\n",
       "             reg_alpha=0.015638452, reg_lambda=0.00302820723,\n",
       "             scale_pos_weight=1, subsample=0.7, tree_method='gpu_hist',\n",
       "             validate_parameters=1, verbosity=None)"
      ]
     },
     "execution_count": 6,
     "metadata": {},
     "output_type": "execute_result"
    }
   ],
   "source": [
    "regressor = xgb.XGBRegressor(**Best_trial)\n",
    "\n",
    "regressor.fit(X_train, y_train, early_stopping_rounds=10, eval_set=[(X_test, y_test)],verbose=False)"
   ]
  },
  {
   "cell_type": "code",
   "execution_count": 7,
   "metadata": {
    "execution": {
     "iopub.execute_input": "2021-01-26T04:25:37.986971Z",
     "iopub.status.busy": "2021-01-26T04:25:37.985308Z",
     "iopub.status.idle": "2021-01-26T04:25:38.156629Z",
     "shell.execute_reply": "2021-01-26T04:25:38.156074Z"
    },
    "papermill": {
     "duration": 0.197695,
     "end_time": "2021-01-26T04:25:38.156737",
     "exception": false,
     "start_time": "2021-01-26T04:25:37.959042",
     "status": "completed"
    },
    "tags": []
   },
   "outputs": [],
   "source": [
    "y_xgb_pred = regressor.predict(final_X_test)"
   ]
  },
  {
   "cell_type": "code",
   "execution_count": 8,
   "metadata": {
    "execution": {
     "iopub.execute_input": "2021-01-26T04:25:38.203367Z",
     "iopub.status.busy": "2021-01-26T04:25:38.202643Z",
     "iopub.status.idle": "2021-01-26T04:25:39.167038Z",
     "shell.execute_reply": "2021-01-26T04:25:39.166402Z"
    },
    "papermill": {
     "duration": 0.990567,
     "end_time": "2021-01-26T04:25:39.167179",
     "exception": false,
     "start_time": "2021-01-26T04:25:38.176612",
     "status": "completed"
    },
    "tags": []
   },
   "outputs": [],
   "source": [
    "output1 = pd.DataFrame({\"id\":test_data.id, \"target\":y_xgb_pred})\n",
    "output1.to_csv('xgb.csv', index=False)"
   ]
  },
  {
   "cell_type": "markdown",
   "metadata": {
    "papermill": {
     "duration": 0.018746,
     "end_time": "2021-01-26T04:25:39.205630",
     "exception": false,
     "start_time": "2021-01-26T04:25:39.186884",
     "status": "completed"
    },
    "tags": []
   },
   "source": [
    "# LightGBM Model"
   ]
  },
  {
   "cell_type": "markdown",
   "metadata": {
    "papermill": {
     "duration": 0.019416,
     "end_time": "2021-01-26T04:25:39.244181",
     "exception": false,
     "start_time": "2021-01-26T04:25:39.224765",
     "status": "completed"
    },
    "tags": []
   },
   "source": [
    "parameters from this awesome kernal \n",
    "https://www.kaggle.com/hamditarek/tabular-playground-series-xgboost-lightgbm"
   ]
  },
  {
   "cell_type": "code",
   "execution_count": 9,
   "metadata": {
    "execution": {
     "iopub.execute_input": "2021-01-26T04:25:39.293843Z",
     "iopub.status.busy": "2021-01-26T04:25:39.291787Z",
     "iopub.status.idle": "2021-01-26T04:25:39.294521Z",
     "shell.execute_reply": "2021-01-26T04:25:39.295022Z"
    },
    "papermill": {
     "duration": 0.030976,
     "end_time": "2021-01-26T04:25:39.295137",
     "exception": false,
     "start_time": "2021-01-26T04:25:39.264161",
     "status": "completed"
    },
    "tags": []
   },
   "outputs": [],
   "source": [
    "params ={'random_state': 33,'n_estimators':5000,\n",
    " 'min_data_per_group': 5,\n",
    " 'boosting_type': 'gbdt',\n",
    " 'device_type' : 'gpu',\n",
    " 'num_leaves': 256,\n",
    " 'num_iterations' : 5000,\n",
    " 'max_dept': -1,\n",
    " 'learning_rate': 0.005,\n",
    " 'subsample_for_bin': 200000,\n",
    " 'lambda_l1': 1.074622455507616e-05,\n",
    " 'lambda_l2': 2.0521330798729704e-06,\n",
    " 'n_jobs': -1,\n",
    " 'cat_smooth': 1.0,\n",
    " 'silent': True,\n",
    " 'importance_type': 'split',\n",
    " 'metric': 'rmse',\n",
    " 'feature_pre_filter': False,\n",
    " 'bagging_fraction': 0.8206341150202605,\n",
    " 'min_data_in_leaf': 100,\n",
    " 'min_sum_hessian_in_leaf': 0.001,\n",
    " 'bagging_freq': 6,\n",
    " 'feature_fraction': 0.5,\n",
    " 'min_gain_to_split': 0.0,\n",
    " 'min_child_samples': 20}"
   ]
  },
  {
   "cell_type": "code",
   "execution_count": 10,
   "metadata": {
    "execution": {
     "iopub.execute_input": "2021-01-26T04:25:39.339309Z",
     "iopub.status.busy": "2021-01-26T04:25:39.338665Z",
     "iopub.status.idle": "2021-01-26T04:29:20.209731Z",
     "shell.execute_reply": "2021-01-26T04:29:20.210333Z"
    },
    "papermill": {
     "duration": 220.895991,
     "end_time": "2021-01-26T04:29:20.210498",
     "exception": false,
     "start_time": "2021-01-26T04:25:39.314507",
     "status": "completed"
    },
    "tags": []
   },
   "outputs": [
    {
     "data": {
      "text/html": [
       "<style type='text/css'>\n",
       ".datatable table.frame { margin-bottom: 0; }\n",
       ".datatable table.frame thead { border-bottom: none; }\n",
       ".datatable table.frame tr.coltypes td {  color: #FFFFFF;  line-height: 6px;  padding: 0 0.5em;}\n",
       ".datatable .bool    { background: #DDDD99; }\n",
       ".datatable .object  { background: #565656; }\n",
       ".datatable .int     { background: #5D9E5D; }\n",
       ".datatable .float   { background: #4040CC; }\n",
       ".datatable .str     { background: #CC4040; }\n",
       ".datatable .row_index {  background: var(--jp-border-color3);  border-right: 1px solid var(--jp-border-color0);  color: var(--jp-ui-font-color3);  font-size: 9px;}\n",
       ".datatable .frame tr.coltypes .row_index {  background: var(--jp-border-color0);}\n",
       ".datatable th:nth-child(2) { padding-left: 12px; }\n",
       ".datatable .hellipsis {  color: var(--jp-cell-editor-border-color);}\n",
       ".datatable .vellipsis {  background: var(--jp-layout-color0);  color: var(--jp-cell-editor-border-color);}\n",
       ".datatable .na {  color: var(--jp-cell-editor-border-color);  font-size: 80%;}\n",
       ".datatable .footer { font-size: 9px; }\n",
       ".datatable .frame_dimensions {  background: var(--jp-border-color3);  border-top: 1px solid var(--jp-border-color0);  color: var(--jp-ui-font-color3);  display: inline-block;  opacity: 0.6;  padding: 1px 10px 1px 5px;}\n",
       "</style>\n"
      ],
      "text/plain": [
       "<IPython.core.display.HTML object>"
      ]
     },
     "metadata": {},
     "output_type": "display_data"
    },
    {
     "name": "stderr",
     "output_type": "stream",
     "text": [
      "/opt/conda/lib/python3.7/site-packages/lightgbm/engine.py:148: UserWarning: Found `num_iterations` in params. Will use it instead of argument\n",
      "  warnings.warn(\"Found `{}` in params. Will use it instead of argument\".format(alias))\n"
     ]
    },
    {
     "data": {
      "text/plain": [
       "LGBMRegressor(bagging_fraction=0.8206341150202605, bagging_freq=6,\n",
       "              cat_smooth=1.0, device_type='gpu', feature_fraction=0.5,\n",
       "              feature_pre_filter=False, lambda_l1=1.074622455507616e-05,\n",
       "              lambda_l2=2.0521330798729704e-06, learning_rate=0.005,\n",
       "              max_dept=-1, metric='rmse', min_data_in_leaf=100,\n",
       "              min_data_per_group=5, min_gain_to_split=0.0,\n",
       "              min_sum_hessian_in_leaf=0.001, n_estimators=5000,\n",
       "              num_iterations=5000, num_leaves=256, random_state=33)"
      ]
     },
     "execution_count": 10,
     "metadata": {},
     "output_type": "execute_result"
    }
   ],
   "source": [
    "from lightgbm import LGBMRegressor\n",
    "\n",
    "lgb_model = LGBMRegressor(**params)\n",
    "lgb_model.fit(X_train, y_train, eval_set=(X_test, y_test),early_stopping_rounds = 50, verbose = 0)"
   ]
  },
  {
   "cell_type": "code",
   "execution_count": 11,
   "metadata": {
    "execution": {
     "iopub.execute_input": "2021-01-26T04:29:20.271234Z",
     "iopub.status.busy": "2021-01-26T04:29:20.270443Z",
     "iopub.status.idle": "2021-01-26T04:30:47.788988Z",
     "shell.execute_reply": "2021-01-26T04:30:47.789674Z"
    },
    "papermill": {
     "duration": 87.555862,
     "end_time": "2021-01-26T04:30:47.789864",
     "exception": false,
     "start_time": "2021-01-26T04:29:20.234002",
     "status": "completed"
    },
    "tags": []
   },
   "outputs": [],
   "source": [
    "y_pred_lgb = lgb_model.predict(final_X_test)"
   ]
  },
  {
   "cell_type": "code",
   "execution_count": 12,
   "metadata": {
    "execution": {
     "iopub.execute_input": "2021-01-26T04:30:47.845912Z",
     "iopub.status.busy": "2021-01-26T04:30:47.845233Z",
     "iopub.status.idle": "2021-01-26T04:30:48.627722Z",
     "shell.execute_reply": "2021-01-26T04:30:48.627128Z"
    },
    "papermill": {
     "duration": 0.81268,
     "end_time": "2021-01-26T04:30:48.627837",
     "exception": false,
     "start_time": "2021-01-26T04:30:47.815157",
     "status": "completed"
    },
    "tags": []
   },
   "outputs": [],
   "source": [
    "output2 = pd.DataFrame({\"id\":test_data.id, \"target\":y_pred_lgb})\n",
    "output2.to_csv('lgbm.csv', index=False)"
   ]
  },
  {
   "cell_type": "markdown",
   "metadata": {
    "papermill": {
     "duration": 0.019932,
     "end_time": "2021-01-26T04:30:48.668678",
     "exception": false,
     "start_time": "2021-01-26T04:30:48.648746",
     "status": "completed"
    },
    "tags": []
   },
   "source": [
    "# CatBoost Model"
   ]
  },
  {
   "cell_type": "markdown",
   "metadata": {
    "papermill": {
     "duration": 0.020536,
     "end_time": "2021-01-26T04:30:48.709838",
     "exception": false,
     "start_time": "2021-01-26T04:30:48.689302",
     "status": "completed"
    },
    "tags": []
   },
   "source": [
    "Parameters from this awesome notebook\n",
    "https://www.kaggle.com/hamzaghanmi/xgboost-hyperparameter-tuning-using-optuna#Catboost-Using-Optuna"
   ]
  },
  {
   "cell_type": "code",
   "execution_count": 13,
   "metadata": {
    "execution": {
     "iopub.execute_input": "2021-01-26T04:30:48.757022Z",
     "iopub.status.busy": "2021-01-26T04:30:48.756232Z",
     "iopub.status.idle": "2021-01-26T04:30:48.760331Z",
     "shell.execute_reply": "2021-01-26T04:30:48.759848Z"
    },
    "papermill": {
     "duration": 0.030065,
     "end_time": "2021-01-26T04:30:48.760419",
     "exception": false,
     "start_time": "2021-01-26T04:30:48.730354",
     "status": "completed"
    },
    "tags": []
   },
   "outputs": [],
   "source": [
    "Best_trial = {'l2_leaf_reg': 0.02247766515106271, 'max_bin': 364, 'subsample': 0.6708650091202213,\n",
    "             'learning_rate': 0.010290546311954876, 'max_depth': 10, 'random_state': 24, 'min_data_in_leaf': 300,\n",
    "            'loss_function': 'RMSE','n_estimators':  25000,'rsm':0.5}"
   ]
  },
  {
   "cell_type": "code",
   "execution_count": 14,
   "metadata": {
    "execution": {
     "iopub.execute_input": "2021-01-26T04:30:48.806636Z",
     "iopub.status.busy": "2021-01-26T04:30:48.806063Z",
     "iopub.status.idle": "2021-01-26T04:30:48.972546Z",
     "shell.execute_reply": "2021-01-26T04:30:48.971744Z"
    },
    "papermill": {
     "duration": 0.191497,
     "end_time": "2021-01-26T04:30:48.972741",
     "exception": false,
     "start_time": "2021-01-26T04:30:48.781244",
     "status": "completed"
    },
    "tags": []
   },
   "outputs": [],
   "source": [
    "from catboost import CatBoostRegressor\n",
    "cb_model = CatBoostRegressor(**Best_trial)"
   ]
  },
  {
   "cell_type": "code",
   "execution_count": 15,
   "metadata": {
    "execution": {
     "iopub.execute_input": "2021-01-26T04:30:49.041906Z",
     "iopub.status.busy": "2021-01-26T04:30:49.032043Z",
     "iopub.status.idle": "2021-01-26T05:14:10.369375Z",
     "shell.execute_reply": "2021-01-26T05:14:10.368857Z"
    },
    "papermill": {
     "duration": 2601.375206,
     "end_time": "2021-01-26T05:14:10.369489",
     "exception": false,
     "start_time": "2021-01-26T04:30:48.994283",
     "status": "completed"
    },
    "tags": []
   },
   "outputs": [
    {
     "name": "stdout",
     "output_type": "stream",
     "text": [
      "0:\tlearn: 0.7327592\ttest: 0.7331505\tbest: 0.7331505 (0)\ttotal: 171ms\tremaining: 1h 11m 17s\n",
      "1000:\tlearn: 0.6913845\ttest: 0.7052213\tbest: 0.7052213 (1000)\ttotal: 1m 41s\tremaining: 40m 41s\n",
      "2000:\tlearn: 0.6742225\ttest: 0.7016200\tbest: 0.7016194 (1999)\ttotal: 3m 23s\tremaining: 38m 56s\n",
      "3000:\tlearn: 0.6590669\ttest: 0.6998760\tbest: 0.6998760 (3000)\ttotal: 5m 6s\tremaining: 37m 24s\n",
      "4000:\tlearn: 0.6451891\ttest: 0.6990137\tbest: 0.6990137 (4000)\ttotal: 6m 47s\tremaining: 35m 40s\n",
      "5000:\tlearn: 0.6325288\ttest: 0.6983475\tbest: 0.6983474 (4999)\ttotal: 8m 29s\tremaining: 33m 59s\n",
      "6000:\tlearn: 0.6203913\ttest: 0.6980776\tbest: 0.6980758 (5998)\ttotal: 10m 13s\tremaining: 32m 21s\n",
      "7000:\tlearn: 0.6091375\ttest: 0.6980490\tbest: 0.6980152 (6805)\ttotal: 11m 56s\tremaining: 30m 40s\n",
      "8000:\tlearn: 0.5986115\ttest: 0.6980575\tbest: 0.6979833 (7481)\ttotal: 13m 40s\tremaining: 29m 2s\n",
      "9000:\tlearn: 0.5885702\ttest: 0.6981016\tbest: 0.6979833 (7481)\ttotal: 15m 23s\tremaining: 27m 21s\n",
      "10000:\tlearn: 0.5789397\ttest: 0.6981202\tbest: 0.6979833 (7481)\ttotal: 17m 6s\tremaining: 25m 39s\n",
      "11000:\tlearn: 0.5697310\ttest: 0.6982870\tbest: 0.6979833 (7481)\ttotal: 18m 50s\tremaining: 23m 58s\n",
      "12000:\tlearn: 0.5608070\ttest: 0.6985482\tbest: 0.6979833 (7481)\ttotal: 20m 34s\tremaining: 22m 17s\n",
      "13000:\tlearn: 0.5524422\ttest: 0.6986950\tbest: 0.6979833 (7481)\ttotal: 22m 19s\tremaining: 20m 35s\n",
      "14000:\tlearn: 0.5441086\ttest: 0.6989003\tbest: 0.6979833 (7481)\ttotal: 24m 3s\tremaining: 18m 54s\n",
      "15000:\tlearn: 0.5361774\ttest: 0.6990908\tbest: 0.6979833 (7481)\ttotal: 25m 48s\tremaining: 17m 12s\n",
      "16000:\tlearn: 0.5284660\ttest: 0.6993168\tbest: 0.6979833 (7481)\ttotal: 27m 33s\tremaining: 15m 30s\n",
      "17000:\tlearn: 0.5211816\ttest: 0.6995546\tbest: 0.6979833 (7481)\ttotal: 29m 19s\tremaining: 13m 47s\n",
      "18000:\tlearn: 0.5141024\ttest: 0.6998516\tbest: 0.6979833 (7481)\ttotal: 31m 6s\tremaining: 12m 5s\n",
      "19000:\tlearn: 0.5071294\ttest: 0.7001076\tbest: 0.6979833 (7481)\ttotal: 32m 53s\tremaining: 10m 23s\n",
      "20000:\tlearn: 0.5004099\ttest: 0.7003390\tbest: 0.6979833 (7481)\ttotal: 34m 38s\tremaining: 8m 39s\n",
      "21000:\tlearn: 0.4938524\ttest: 0.7005551\tbest: 0.6979833 (7481)\ttotal: 36m 22s\tremaining: 6m 55s\n",
      "22000:\tlearn: 0.4875325\ttest: 0.7008070\tbest: 0.6979833 (7481)\ttotal: 38m 6s\tremaining: 5m 11s\n",
      "23000:\tlearn: 0.4812616\ttest: 0.7010377\tbest: 0.6979833 (7481)\ttotal: 39m 49s\tremaining: 3m 27s\n",
      "24000:\tlearn: 0.4751383\ttest: 0.7012952\tbest: 0.6979833 (7481)\ttotal: 41m 33s\tremaining: 1m 43s\n",
      "24999:\tlearn: 0.4693086\ttest: 0.7016028\tbest: 0.6979833 (7481)\ttotal: 43m 15s\tremaining: 0us\n",
      "\n",
      "bestTest = 0.6979832848\n",
      "bestIteration = 7481\n",
      "\n",
      "Shrink model to first 7482 iterations.\n"
     ]
    },
    {
     "data": {
      "text/plain": [
       "<catboost.core.CatBoostRegressor at 0x7fd8bacda150>"
      ]
     },
     "execution_count": 15,
     "metadata": {},
     "output_type": "execute_result"
    }
   ],
   "source": [
    "cb_model.fit(X_train, y_train,eval_set=(X_test, y_test),use_best_model=True,verbose=1000)"
   ]
  },
  {
   "cell_type": "code",
   "execution_count": 16,
   "metadata": {
    "execution": {
     "iopub.execute_input": "2021-01-26T05:14:10.437383Z",
     "iopub.status.busy": "2021-01-26T05:14:10.436507Z",
     "iopub.status.idle": "2021-01-26T05:14:17.397302Z",
     "shell.execute_reply": "2021-01-26T05:14:17.397821Z"
    },
    "papermill": {
     "duration": 6.998072,
     "end_time": "2021-01-26T05:14:17.397973",
     "exception": false,
     "start_time": "2021-01-26T05:14:10.399901",
     "status": "completed"
    },
    "tags": []
   },
   "outputs": [],
   "source": [
    "cat_pred =cb_model.predict(final_X_test)"
   ]
  },
  {
   "cell_type": "code",
   "execution_count": 17,
   "metadata": {
    "execution": {
     "iopub.execute_input": "2021-01-26T05:14:17.464394Z",
     "iopub.status.busy": "2021-01-26T05:14:17.463811Z",
     "iopub.status.idle": "2021-01-26T05:14:18.231220Z",
     "shell.execute_reply": "2021-01-26T05:14:18.230275Z"
    },
    "papermill": {
     "duration": 0.80242,
     "end_time": "2021-01-26T05:14:18.231372",
     "exception": false,
     "start_time": "2021-01-26T05:14:17.428952",
     "status": "completed"
    },
    "tags": []
   },
   "outputs": [],
   "source": [
    "output3 = pd.DataFrame({\"id\":test_data.id, \"target\":cat_pred})\n",
    "output3.to_csv('cat.csv', index=False)"
   ]
  },
  {
   "cell_type": "code",
   "execution_count": 18,
   "metadata": {
    "execution": {
     "iopub.execute_input": "2021-01-26T05:14:18.304354Z",
     "iopub.status.busy": "2021-01-26T05:14:18.303233Z",
     "iopub.status.idle": "2021-01-26T05:14:19.062848Z",
     "shell.execute_reply": "2021-01-26T05:14:19.062257Z"
    },
    "papermill": {
     "duration": 0.798405,
     "end_time": "2021-01-26T05:14:19.062963",
     "exception": false,
     "start_time": "2021-01-26T05:14:18.264558",
     "status": "completed"
    },
    "tags": []
   },
   "outputs": [],
   "source": [
    "results = (y_pred_lgb + y_xgb_pred + cat_pred) / 3 \n",
    "\n",
    "output = pd.DataFrame({\"id\":test_data.id, \"target\":results})\n",
    "output.to_csv('submission.csv', index=False)"
   ]
  },
  {
   "cell_type": "code",
   "execution_count": 19,
   "metadata": {
    "execution": {
     "iopub.execute_input": "2021-01-26T05:14:19.142870Z",
     "iopub.status.busy": "2021-01-26T05:14:19.142104Z",
     "iopub.status.idle": "2021-01-26T05:14:19.145874Z",
     "shell.execute_reply": "2021-01-26T05:14:19.146387Z"
    },
    "papermill": {
     "duration": 0.051495,
     "end_time": "2021-01-26T05:14:19.146505",
     "exception": false,
     "start_time": "2021-01-26T05:14:19.095010",
     "status": "completed"
    },
    "tags": []
   },
   "outputs": [
    {
     "data": {
      "text/html": [
       "<div>\n",
       "<style scoped>\n",
       "    .dataframe tbody tr th:only-of-type {\n",
       "        vertical-align: middle;\n",
       "    }\n",
       "\n",
       "    .dataframe tbody tr th {\n",
       "        vertical-align: top;\n",
       "    }\n",
       "\n",
       "    .dataframe thead th {\n",
       "        text-align: right;\n",
       "    }\n",
       "</style>\n",
       "<table border=\"1\" class=\"dataframe\">\n",
       "  <thead>\n",
       "    <tr style=\"text-align: right;\">\n",
       "      <th></th>\n",
       "      <th>id</th>\n",
       "      <th>target</th>\n",
       "    </tr>\n",
       "  </thead>\n",
       "  <tbody>\n",
       "    <tr>\n",
       "      <th>0</th>\n",
       "      <td>0</td>\n",
       "      <td>7.978564</td>\n",
       "    </tr>\n",
       "    <tr>\n",
       "      <th>1</th>\n",
       "      <td>2</td>\n",
       "      <td>7.888629</td>\n",
       "    </tr>\n",
       "    <tr>\n",
       "      <th>2</th>\n",
       "      <td>6</td>\n",
       "      <td>7.950746</td>\n",
       "    </tr>\n",
       "    <tr>\n",
       "      <th>3</th>\n",
       "      <td>7</td>\n",
       "      <td>8.302050</td>\n",
       "    </tr>\n",
       "    <tr>\n",
       "      <th>4</th>\n",
       "      <td>10</td>\n",
       "      <td>8.092851</td>\n",
       "    </tr>\n",
       "    <tr>\n",
       "      <th>...</th>\n",
       "      <td>...</td>\n",
       "      <td>...</td>\n",
       "    </tr>\n",
       "    <tr>\n",
       "      <th>199995</th>\n",
       "      <td>499984</td>\n",
       "      <td>8.169067</td>\n",
       "    </tr>\n",
       "    <tr>\n",
       "      <th>199996</th>\n",
       "      <td>499985</td>\n",
       "      <td>8.161149</td>\n",
       "    </tr>\n",
       "    <tr>\n",
       "      <th>199997</th>\n",
       "      <td>499987</td>\n",
       "      <td>8.211521</td>\n",
       "    </tr>\n",
       "    <tr>\n",
       "      <th>199998</th>\n",
       "      <td>499988</td>\n",
       "      <td>8.000527</td>\n",
       "    </tr>\n",
       "    <tr>\n",
       "      <th>199999</th>\n",
       "      <td>499990</td>\n",
       "      <td>7.945028</td>\n",
       "    </tr>\n",
       "  </tbody>\n",
       "</table>\n",
       "<p>200000 rows × 2 columns</p>\n",
       "</div>"
      ],
      "text/plain": [
       "            id    target\n",
       "0            0  7.978564\n",
       "1            2  7.888629\n",
       "2            6  7.950746\n",
       "3            7  8.302050\n",
       "4           10  8.092851\n",
       "...        ...       ...\n",
       "199995  499984  8.169067\n",
       "199996  499985  8.161149\n",
       "199997  499987  8.211521\n",
       "199998  499988  8.000527\n",
       "199999  499990  7.945028\n",
       "\n",
       "[200000 rows x 2 columns]"
      ]
     },
     "execution_count": 19,
     "metadata": {},
     "output_type": "execute_result"
    }
   ],
   "source": [
    "output"
   ]
  }
 ],
 "metadata": {
  "kernelspec": {
   "display_name": "Python 3",
   "language": "python",
   "name": "python3"
  },
  "language_info": {
   "codemirror_mode": {
    "name": "ipython",
    "version": 3
   },
   "file_extension": ".py",
   "mimetype": "text/x-python",
   "name": "python",
   "nbconvert_exporter": "python",
   "pygments_lexer": "ipython3",
   "version": "3.7.6"
  },
  "papermill": {
   "duration": 2965.134309,
   "end_time": "2021-01-26T05:14:19.590048",
   "environment_variables": {},
   "exception": null,
   "input_path": "__notebook__.ipynb",
   "output_path": "__notebook__.ipynb",
   "parameters": {},
   "start_time": "2021-01-26T04:24:54.455739",
   "version": "2.1.0"
  }
 },
 "nbformat": 4,
 "nbformat_minor": 4
}
