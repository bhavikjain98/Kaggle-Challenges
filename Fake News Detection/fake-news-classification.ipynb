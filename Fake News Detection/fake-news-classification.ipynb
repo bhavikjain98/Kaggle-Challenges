{
 "cells": [
  {
   "cell_type": "code",
   "execution_count": 1,
   "id": "above-delay",
   "metadata": {
    "execution": {
     "iopub.execute_input": "2021-04-01T11:24:33.482796Z",
     "iopub.status.busy": "2021-04-01T11:24:33.481599Z",
     "iopub.status.idle": "2021-04-01T11:24:39.875517Z",
     "shell.execute_reply": "2021-04-01T11:24:39.874604Z"
    },
    "papermill": {
     "duration": 6.418689,
     "end_time": "2021-04-01T11:24:39.875711",
     "exception": false,
     "start_time": "2021-04-01T11:24:33.457022",
     "status": "completed"
    },
    "tags": []
   },
   "outputs": [],
   "source": [
    "import numpy as np\n",
    "import pandas as pd\n",
    "import seaborn as sns\n",
    "import matplotlib.pyplot as plt\n",
    "from tensorflow.keras.layers import Embedding,LSTM,Dense,Dropout\n",
    "from tensorflow.keras.preprocessing.sequence import pad_sequences\n",
    "from tensorflow.keras.models import Sequential\n",
    "from tensorflow.keras.preprocessing.text import one_hot"
   ]
  },
  {
   "cell_type": "code",
   "execution_count": 2,
   "id": "certain-kinase",
   "metadata": {
    "execution": {
     "iopub.execute_input": "2021-04-01T11:24:39.921418Z",
     "iopub.status.busy": "2021-04-01T11:24:39.920629Z",
     "iopub.status.idle": "2021-04-01T11:24:43.749199Z",
     "shell.execute_reply": "2021-04-01T11:24:43.748477Z"
    },
    "papermill": {
     "duration": 3.853351,
     "end_time": "2021-04-01T11:24:43.749346",
     "exception": false,
     "start_time": "2021-04-01T11:24:39.895995",
     "status": "completed"
    },
    "tags": []
   },
   "outputs": [],
   "source": [
    "train = pd.read_csv('../input/fake-news/train.csv')\n",
    "test = pd.read_csv('../input/fake-news/test.csv')"
   ]
  },
  {
   "cell_type": "code",
   "execution_count": 3,
   "id": "inside-stockholm",
   "metadata": {
    "execution": {
     "iopub.execute_input": "2021-04-01T11:24:43.803144Z",
     "iopub.status.busy": "2021-04-01T11:24:43.802127Z",
     "iopub.status.idle": "2021-04-01T11:24:43.824256Z",
     "shell.execute_reply": "2021-04-01T11:24:43.823589Z"
    },
    "papermill": {
     "duration": 0.054947,
     "end_time": "2021-04-01T11:24:43.824391",
     "exception": false,
     "start_time": "2021-04-01T11:24:43.769444",
     "status": "completed"
    },
    "tags": []
   },
   "outputs": [
    {
     "data": {
      "text/html": [
       "<div>\n",
       "<style scoped>\n",
       "    .dataframe tbody tr th:only-of-type {\n",
       "        vertical-align: middle;\n",
       "    }\n",
       "\n",
       "    .dataframe tbody tr th {\n",
       "        vertical-align: top;\n",
       "    }\n",
       "\n",
       "    .dataframe thead th {\n",
       "        text-align: right;\n",
       "    }\n",
       "</style>\n",
       "<table border=\"1\" class=\"dataframe\">\n",
       "  <thead>\n",
       "    <tr style=\"text-align: right;\">\n",
       "      <th></th>\n",
       "      <th>id</th>\n",
       "      <th>title</th>\n",
       "      <th>author</th>\n",
       "      <th>text</th>\n",
       "      <th>label</th>\n",
       "    </tr>\n",
       "  </thead>\n",
       "  <tbody>\n",
       "    <tr>\n",
       "      <th>0</th>\n",
       "      <td>0</td>\n",
       "      <td>House Dem Aide: We Didn’t Even See Comey’s Let...</td>\n",
       "      <td>Darrell Lucus</td>\n",
       "      <td>House Dem Aide: We Didn’t Even See Comey’s Let...</td>\n",
       "      <td>1</td>\n",
       "    </tr>\n",
       "    <tr>\n",
       "      <th>1</th>\n",
       "      <td>1</td>\n",
       "      <td>FLYNN: Hillary Clinton, Big Woman on Campus - ...</td>\n",
       "      <td>Daniel J. Flynn</td>\n",
       "      <td>Ever get the feeling your life circles the rou...</td>\n",
       "      <td>0</td>\n",
       "    </tr>\n",
       "    <tr>\n",
       "      <th>2</th>\n",
       "      <td>2</td>\n",
       "      <td>Why the Truth Might Get You Fired</td>\n",
       "      <td>Consortiumnews.com</td>\n",
       "      <td>Why the Truth Might Get You Fired October 29, ...</td>\n",
       "      <td>1</td>\n",
       "    </tr>\n",
       "    <tr>\n",
       "      <th>3</th>\n",
       "      <td>3</td>\n",
       "      <td>15 Civilians Killed In Single US Airstrike Hav...</td>\n",
       "      <td>Jessica Purkiss</td>\n",
       "      <td>Videos 15 Civilians Killed In Single US Airstr...</td>\n",
       "      <td>1</td>\n",
       "    </tr>\n",
       "    <tr>\n",
       "      <th>4</th>\n",
       "      <td>4</td>\n",
       "      <td>Iranian woman jailed for fictional unpublished...</td>\n",
       "      <td>Howard Portnoy</td>\n",
       "      <td>Print \\nAn Iranian woman has been sentenced to...</td>\n",
       "      <td>1</td>\n",
       "    </tr>\n",
       "  </tbody>\n",
       "</table>\n",
       "</div>"
      ],
      "text/plain": [
       "   id                                              title              author  \\\n",
       "0   0  House Dem Aide: We Didn’t Even See Comey’s Let...       Darrell Lucus   \n",
       "1   1  FLYNN: Hillary Clinton, Big Woman on Campus - ...     Daniel J. Flynn   \n",
       "2   2                  Why the Truth Might Get You Fired  Consortiumnews.com   \n",
       "3   3  15 Civilians Killed In Single US Airstrike Hav...     Jessica Purkiss   \n",
       "4   4  Iranian woman jailed for fictional unpublished...      Howard Portnoy   \n",
       "\n",
       "                                                text  label  \n",
       "0  House Dem Aide: We Didn’t Even See Comey’s Let...      1  \n",
       "1  Ever get the feeling your life circles the rou...      0  \n",
       "2  Why the Truth Might Get You Fired October 29, ...      1  \n",
       "3  Videos 15 Civilians Killed In Single US Airstr...      1  \n",
       "4  Print \\nAn Iranian woman has been sentenced to...      1  "
      ]
     },
     "execution_count": 3,
     "metadata": {},
     "output_type": "execute_result"
    }
   ],
   "source": [
    "train.head()"
   ]
  },
  {
   "cell_type": "markdown",
   "id": "downtown-marker",
   "metadata": {
    "papermill": {
     "duration": 0.020257,
     "end_time": "2021-04-01T11:24:43.866983",
     "exception": false,
     "start_time": "2021-04-01T11:24:43.846726",
     "status": "completed"
    },
    "tags": []
   },
   "source": [
    "# Data preprocessing and cleaning"
   ]
  },
  {
   "cell_type": "code",
   "execution_count": 4,
   "id": "ranking-array",
   "metadata": {
    "execution": {
     "iopub.execute_input": "2021-04-01T11:24:43.915814Z",
     "iopub.status.busy": "2021-04-01T11:24:43.913690Z",
     "iopub.status.idle": "2021-04-01T11:24:43.920696Z",
     "shell.execute_reply": "2021-04-01T11:24:43.920168Z"
    },
    "papermill": {
     "duration": 0.033606,
     "end_time": "2021-04-01T11:24:43.920932",
     "exception": false,
     "start_time": "2021-04-01T11:24:43.887326",
     "status": "completed"
    },
    "tags": []
   },
   "outputs": [
    {
     "data": {
      "text/plain": [
       "1    10413\n",
       "0    10387\n",
       "Name: label, dtype: int64"
      ]
     },
     "execution_count": 4,
     "metadata": {},
     "output_type": "execute_result"
    }
   ],
   "source": [
    "train['label'].value_counts()"
   ]
  },
  {
   "cell_type": "code",
   "execution_count": 5,
   "id": "integrated-henry",
   "metadata": {
    "execution": {
     "iopub.execute_input": "2021-04-01T11:24:43.985362Z",
     "iopub.status.busy": "2021-04-01T11:24:43.982022Z",
     "iopub.status.idle": "2021-04-01T11:24:44.246025Z",
     "shell.execute_reply": "2021-04-01T11:24:44.247041Z"
    },
    "papermill": {
     "duration": 0.305474,
     "end_time": "2021-04-01T11:24:44.247271",
     "exception": false,
     "start_time": "2021-04-01T11:24:43.941797",
     "status": "completed"
    },
    "tags": []
   },
   "outputs": [
    {
     "name": "stderr",
     "output_type": "stream",
     "text": [
      "/opt/conda/lib/python3.7/site-packages/seaborn/_decorators.py:43: FutureWarning: Pass the following variable as a keyword arg: x. From version 0.12, the only valid positional argument will be `data`, and passing other arguments without an explicit keyword will result in an error or misinterpretation.\n",
      "  FutureWarning\n"
     ]
    },
    {
     "data": {
      "image/png": "[encoded data removed]",
      "text/plain": [
       "<Figure size 1200x400 with 2 Axes>"
      ]
     },
     "metadata": {
      "needs_background": "light"
     },
     "output_type": "display_data"
    }
   ],
   "source": [
    "fig, axes = plt.subplots(ncols=2, nrows=1, figsize=(12,4), dpi=100)\n",
    "sns.countplot(train['label'], ax=axes[0])\n",
    "axes[1].pie(train['label'].value_counts(),\n",
    "            labels=['reliable', 'unreliable'],\n",
    "            autopct='%1.2f%%',\n",
    "            shadow=True,\n",
    "            explode=(0.05, 0),\n",
    "            startangle=60)\n",
    "fig.suptitle('Fake News', fontsize=24)\n",
    "plt.show()"
   ]
  },
  {
   "cell_type": "code",
   "execution_count": 6,
   "id": "overall-candy",
   "metadata": {
    "execution": {
     "iopub.execute_input": "2021-04-01T11:24:44.307573Z",
     "iopub.status.busy": "2021-04-01T11:24:44.306858Z",
     "iopub.status.idle": "2021-04-01T11:24:44.314287Z",
     "shell.execute_reply": "2021-04-01T11:24:44.313709Z"
    },
    "papermill": {
     "duration": 0.04277,
     "end_time": "2021-04-01T11:24:44.314427",
     "exception": false,
     "start_time": "2021-04-01T11:24:44.271657",
     "status": "completed"
    },
    "tags": []
   },
   "outputs": [
    {
     "data": {
      "text/plain": [
       "id           0\n",
       "title      558\n",
       "author    1957\n",
       "text        39\n",
       "label        0\n",
       "dtype: int64"
      ]
     },
     "execution_count": 6,
     "metadata": {},
     "output_type": "execute_result"
    }
   ],
   "source": [
    "train.isnull().sum()"
   ]
  },
  {
   "cell_type": "code",
   "execution_count": 7,
   "id": "agreed-variety",
   "metadata": {
    "execution": {
     "iopub.execute_input": "2021-04-01T11:24:44.370830Z",
     "iopub.status.busy": "2021-04-01T11:24:44.370190Z",
     "iopub.status.idle": "2021-04-01T11:24:44.374229Z",
     "shell.execute_reply": "2021-04-01T11:24:44.373609Z"
    },
    "papermill": {
     "duration": 0.036821,
     "end_time": "2021-04-01T11:24:44.374365",
     "exception": false,
     "start_time": "2021-04-01T11:24:44.337544",
     "status": "completed"
    },
    "tags": []
   },
   "outputs": [
    {
     "data": {
      "text/plain": [
       "id          0\n",
       "title     122\n",
       "author    503\n",
       "text        7\n",
       "dtype: int64"
      ]
     },
     "execution_count": 7,
     "metadata": {},
     "output_type": "execute_result"
    }
   ],
   "source": [
    "test.isnull().sum()"
   ]
  },
  {
   "cell_type": "markdown",
   "id": "sublime-hunger",
   "metadata": {
    "papermill": {
     "duration": 0.023417,
     "end_time": "2021-04-01T11:24:44.421543",
     "exception": false,
     "start_time": "2021-04-01T11:24:44.398126",
     "status": "completed"
    },
    "tags": []
   },
   "source": [
    "Filling NULL values with empty string\n"
   ]
  },
  {
   "cell_type": "code",
   "execution_count": 8,
   "id": "latter-shift",
   "metadata": {
    "execution": {
     "iopub.execute_input": "2021-04-01T11:24:44.472766Z",
     "iopub.status.busy": "2021-04-01T11:24:44.472122Z",
     "iopub.status.idle": "2021-04-01T11:24:44.489188Z",
     "shell.execute_reply": "2021-04-01T11:24:44.489745Z"
    },
    "papermill": {
     "duration": 0.044912,
     "end_time": "2021-04-01T11:24:44.489938",
     "exception": false,
     "start_time": "2021-04-01T11:24:44.445026",
     "status": "completed"
    },
    "tags": []
   },
   "outputs": [],
   "source": [
    "train = train.fillna('')\n",
    "test=test.fillna('')"
   ]
  },
  {
   "cell_type": "markdown",
   "id": "abandoned-incidence",
   "metadata": {
    "papermill": {
     "duration": 0.023661,
     "end_time": "2021-04-01T11:24:44.537463",
     "exception": false,
     "start_time": "2021-04-01T11:24:44.513802",
     "status": "completed"
    },
    "tags": []
   },
   "source": [
    "We will be only using title and author name for prediction\n",
    "Creating new coolumn total concatenating title and author\n"
   ]
  },
  {
   "cell_type": "code",
   "execution_count": 9,
   "id": "violent-greek",
   "metadata": {
    "execution": {
     "iopub.execute_input": "2021-04-01T11:24:44.588688Z",
     "iopub.status.busy": "2021-04-01T11:24:44.588060Z",
     "iopub.status.idle": "2021-04-01T11:24:44.625327Z",
     "shell.execute_reply": "2021-04-01T11:24:44.624568Z"
    },
    "papermill": {
     "duration": 0.064175,
     "end_time": "2021-04-01T11:24:44.625582",
     "exception": false,
     "start_time": "2021-04-01T11:24:44.561407",
     "status": "completed"
    },
    "tags": []
   },
   "outputs": [],
   "source": [
    "train['total'] = train['title']+' '+train['author']\n",
    "test['total']=test['title']+' '+test['author']"
   ]
  },
  {
   "cell_type": "code",
   "execution_count": 10,
   "id": "plastic-netscape",
   "metadata": {
    "execution": {
     "iopub.execute_input": "2021-04-01T11:24:44.679887Z",
     "iopub.status.busy": "2021-04-01T11:24:44.679252Z",
     "iopub.status.idle": "2021-04-01T11:24:44.690013Z",
     "shell.execute_reply": "2021-04-01T11:24:44.689412Z"
    },
    "papermill": {
     "duration": 0.040345,
     "end_time": "2021-04-01T11:24:44.690155",
     "exception": false,
     "start_time": "2021-04-01T11:24:44.649810",
     "status": "completed"
    },
    "tags": []
   },
   "outputs": [
    {
     "name": "stdout",
     "output_type": "stream",
     "text": [
      "(20800, 5)\n",
      "(20800,)\n"
     ]
    }
   ],
   "source": [
    "X = train.drop('label',axis=1)\n",
    "y=train['label']\n",
    "print(X.shape)\n",
    "print(y.shape)"
   ]
  },
  {
   "cell_type": "markdown",
   "id": "common-petite",
   "metadata": {
    "papermill": {
     "duration": 0.024194,
     "end_time": "2021-04-01T11:24:44.739001",
     "exception": false,
     "start_time": "2021-04-01T11:24:44.714807",
     "status": "completed"
    },
    "tags": []
   },
   "source": [
    "Choosing vocabulary size to be 6000 and copying data to msg for further cleaning"
   ]
  },
  {
   "cell_type": "code",
   "execution_count": 11,
   "id": "numerical-compatibility",
   "metadata": {
    "execution": {
     "iopub.execute_input": "2021-04-01T11:24:44.791988Z",
     "iopub.status.busy": "2021-04-01T11:24:44.790941Z",
     "iopub.status.idle": "2021-04-01T11:24:44.797121Z",
     "shell.execute_reply": "2021-04-01T11:24:44.797562Z"
    },
    "papermill": {
     "duration": 0.034438,
     "end_time": "2021-04-01T11:24:44.797728",
     "exception": false,
     "start_time": "2021-04-01T11:24:44.763290",
     "status": "completed"
    },
    "tags": []
   },
   "outputs": [],
   "source": [
    "voc_size = 6000\n",
    "msg = X.copy()\n",
    "msg_test = test.copy()"
   ]
  },
  {
   "cell_type": "code",
   "execution_count": 12,
   "id": "atmospheric-gauge",
   "metadata": {
    "execution": {
     "iopub.execute_input": "2021-04-01T11:24:44.850353Z",
     "iopub.status.busy": "2021-04-01T11:24:44.849387Z",
     "iopub.status.idle": "2021-04-01T11:24:45.959950Z",
     "shell.execute_reply": "2021-04-01T11:24:45.960475Z"
    },
    "papermill": {
     "duration": 1.138228,
     "end_time": "2021-04-01T11:24:45.960650",
     "exception": false,
     "start_time": "2021-04-01T11:24:44.822422",
     "status": "completed"
    },
    "tags": []
   },
   "outputs": [
    {
     "name": "stdout",
     "output_type": "stream",
     "text": [
      "[nltk_data] Downloading package stopwords to /usr/share/nltk_data...\n",
      "[nltk_data]   Package stopwords is already up-to-date!\n"
     ]
    },
    {
     "data": {
      "text/plain": [
       "True"
      ]
     },
     "execution_count": 12,
     "metadata": {},
     "output_type": "execute_result"
    }
   ],
   "source": [
    "import nltk\n",
    "import re\n",
    "from nltk.corpus import stopwords\n",
    "nltk.download('stopwords')"
   ]
  },
  {
   "cell_type": "markdown",
   "id": "liked-there",
   "metadata": {
    "papermill": {
     "duration": 0.025284,
     "end_time": "2021-04-01T11:24:46.011304",
     "exception": false,
     "start_time": "2021-04-01T11:24:45.986020",
     "status": "completed"
    },
    "tags": []
   },
   "source": [
    "We will be using Stemming here\n",
    "Stemming map words to their root forms"
   ]
  },
  {
   "cell_type": "code",
   "execution_count": 13,
   "id": "fatty-prospect",
   "metadata": {
    "execution": {
     "iopub.execute_input": "2021-04-01T11:24:46.067954Z",
     "iopub.status.busy": "2021-04-01T11:24:46.067001Z",
     "iopub.status.idle": "2021-04-01T11:24:46.070023Z",
     "shell.execute_reply": "2021-04-01T11:24:46.069486Z"
    },
    "papermill": {
     "duration": 0.033027,
     "end_time": "2021-04-01T11:24:46.070162",
     "exception": false,
     "start_time": "2021-04-01T11:24:46.037135",
     "status": "completed"
    },
    "tags": []
   },
   "outputs": [],
   "source": [
    "from nltk.stem.porter import PorterStemmer\n",
    "ps = PorterStemmer()\n",
    "corpus = []"
   ]
  },
  {
   "cell_type": "markdown",
   "id": "racial-tsunami",
   "metadata": {
    "papermill": {
     "duration": 0.025193,
     "end_time": "2021-04-01T11:24:46.121505",
     "exception": false,
     "start_time": "2021-04-01T11:24:46.096312",
     "status": "completed"
    },
    "tags": []
   },
   "source": [
    "# Cleaning Text\n",
    "\n",
    "* Removed urls, emojis and punctuations\n",
    "* Tokenized base text and title\n",
    "* Lower cased clean text\n",
    "* Removed stopwords\n",
    "* Applying word Stemming\n",
    "* Converted tokenized text to string again"
   ]
  },
  {
   "cell_type": "code",
   "execution_count": 14,
   "id": "boring-georgia",
   "metadata": {
    "execution": {
     "iopub.execute_input": "2021-04-01T11:24:46.179665Z",
     "iopub.status.busy": "2021-04-01T11:24:46.178847Z",
     "iopub.status.idle": "2021-04-01T11:25:31.955908Z",
     "shell.execute_reply": "2021-04-01T11:25:31.956529Z"
    },
    "papermill": {
     "duration": 45.809818,
     "end_time": "2021-04-01T11:25:31.956718",
     "exception": false,
     "start_time": "2021-04-01T11:24:46.146900",
     "status": "completed"
    },
    "tags": []
   },
   "outputs": [],
   "source": [
    "for i in range(len(msg)):\n",
    "    review = re.sub('[^a-zA-Z]',' ',msg['total'][i])\n",
    "    review = review.lower()\n",
    "    review = review.split()\n",
    "    review = [ps.stem(word) for word in review if not word in stopwords.words('english')]\n",
    "    review = ' '.join(review)\n",
    "    corpus.append(review)"
   ]
  },
  {
   "cell_type": "code",
   "execution_count": 15,
   "id": "enclosed-haiti",
   "metadata": {
    "execution": {
     "iopub.execute_input": "2021-04-01T11:25:32.011744Z",
     "iopub.status.busy": "2021-04-01T11:25:32.011086Z",
     "iopub.status.idle": "2021-04-01T11:25:43.352474Z",
     "shell.execute_reply": "2021-04-01T11:25:43.353078Z"
    },
    "papermill": {
     "duration": 11.370504,
     "end_time": "2021-04-01T11:25:43.353263",
     "exception": false,
     "start_time": "2021-04-01T11:25:31.982759",
     "status": "completed"
    },
    "tags": []
   },
   "outputs": [],
   "source": [
    "corpus_test = []\n",
    "for i in range(len(msg_test)):\n",
    "    review = re.sub('[^a-zA-Z]',' ',msg_test['total'][i])\n",
    "    review = review.lower()\n",
    "    review = review.split()\n",
    "    review = [ps.stem(word) for word in review if not word in stopwords.words('english')]\n",
    "    review = ' '.join(review)\n",
    "    corpus_test.append(review)"
   ]
  },
  {
   "cell_type": "code",
   "execution_count": 16,
   "id": "chief-fault",
   "metadata": {
    "execution": {
     "iopub.execute_input": "2021-04-01T11:25:43.409591Z",
     "iopub.status.busy": "2021-04-01T11:25:43.408891Z",
     "iopub.status.idle": "2021-04-01T11:25:43.793346Z",
     "shell.execute_reply": "2021-04-01T11:25:43.793946Z"
    },
    "papermill": {
     "duration": 0.414159,
     "end_time": "2021-04-01T11:25:43.794156",
     "exception": false,
     "start_time": "2021-04-01T11:25:43.379997",
     "status": "completed"
    },
    "tags": []
   },
   "outputs": [],
   "source": [
    "onehot_rep = [one_hot(words,voc_size)for words in corpus]\n",
    "onehot_rep_test = [one_hot(words,voc_size)for words in corpus_test]"
   ]
  },
  {
   "cell_type": "markdown",
   "id": "aerial-dublin",
   "metadata": {
    "papermill": {
     "duration": 0.025816,
     "end_time": "2021-04-01T11:25:43.846346",
     "exception": false,
     "start_time": "2021-04-01T11:25:43.820530",
     "status": "completed"
    },
    "tags": []
   },
   "source": [
    "Padding Sentences to make them of same size"
   ]
  },
  {
   "cell_type": "code",
   "execution_count": 17,
   "id": "unauthorized-florida",
   "metadata": {
    "execution": {
     "iopub.execute_input": "2021-04-01T11:25:43.901829Z",
     "iopub.status.busy": "2021-04-01T11:25:43.901171Z",
     "iopub.status.idle": "2021-04-01T11:25:44.106218Z",
     "shell.execute_reply": "2021-04-01T11:25:44.106684Z"
    },
    "papermill": {
     "duration": 0.234492,
     "end_time": "2021-04-01T11:25:44.106864",
     "exception": false,
     "start_time": "2021-04-01T11:25:43.872372",
     "status": "completed"
    },
    "tags": []
   },
   "outputs": [],
   "source": [
    "embedded_docs = pad_sequences(onehot_rep,padding='pre',maxlen=25)\n",
    "embedded_docs_test = pad_sequences(onehot_rep_test,padding='pre',maxlen=25)"
   ]
  },
  {
   "cell_type": "markdown",
   "id": "naval-pipeline",
   "metadata": {
    "papermill": {
     "duration": 0.025013,
     "end_time": "2021-04-01T11:25:44.158627",
     "exception": false,
     "start_time": "2021-04-01T11:25:44.133614",
     "status": "completed"
    },
    "tags": []
   },
   "source": [
    "# Model Training"
   ]
  },
  {
   "cell_type": "code",
   "execution_count": 18,
   "id": "consolidated-governor",
   "metadata": {
    "execution": {
     "iopub.execute_input": "2021-04-01T11:25:44.212778Z",
     "iopub.status.busy": "2021-04-01T11:25:44.211919Z",
     "iopub.status.idle": "2021-04-01T11:25:44.654101Z",
     "shell.execute_reply": "2021-04-01T11:25:44.653345Z"
    },
    "papermill": {
     "duration": 0.470421,
     "end_time": "2021-04-01T11:25:44.654250",
     "exception": false,
     "start_time": "2021-04-01T11:25:44.183829",
     "status": "completed"
    },
    "tags": []
   },
   "outputs": [
    {
     "name": "stdout",
     "output_type": "stream",
     "text": [
      "Model: \"sequential\"\n",
      "_________________________________________________________________\n",
      "Layer (type)                 Output Shape              Param #   \n",
      "=================================================================\n",
      "embedding (Embedding)        (None, 25, 40)            240000    \n",
      "_________________________________________________________________\n",
      "dropout (Dropout)            (None, 25, 40)            0         \n",
      "_________________________________________________________________\n",
      "lstm (LSTM)                  (None, 100)               56400     \n",
      "_________________________________________________________________\n",
      "dropout_1 (Dropout)          (None, 100)               0         \n",
      "_________________________________________________________________\n",
      "dense (Dense)                (None, 64)                6464      \n",
      "_________________________________________________________________\n",
      "dropout_2 (Dropout)          (None, 64)                0         \n",
      "_________________________________________________________________\n",
      "dense_1 (Dense)              (None, 1)                 65        \n",
      "=================================================================\n",
      "Total params: 302,929\n",
      "Trainable params: 302,929\n",
      "Non-trainable params: 0\n",
      "_________________________________________________________________\n",
      "None\n"
     ]
    }
   ],
   "source": [
    "#We have used embedding layers with LSTM\n",
    "model = Sequential()\n",
    "model.add(Embedding(voc_size,40,input_length=25))\n",
    "model.add(Dropout(0.3))\n",
    "model.add(LSTM(100))\n",
    "model.add(Dropout(0.3))\n",
    "model.add(Dense(64,activation='relu'))\n",
    "model.add(Dropout(0.3))\n",
    "model.add(Dense(1,activation='sigmoid'))\n",
    "model.compile(loss='binary_crossentropy',optimizer='adam',metrics=['accuracy'])\n",
    "print(model.summary())"
   ]
  },
  {
   "cell_type": "markdown",
   "id": "closed-official",
   "metadata": {
    "papermill": {
     "duration": 0.025717,
     "end_time": "2021-04-01T11:25:44.712471",
     "exception": false,
     "start_time": "2021-04-01T11:25:44.686754",
     "status": "completed"
    },
    "tags": []
   },
   "source": [
    "Converting into numpy array"
   ]
  },
  {
   "cell_type": "code",
   "execution_count": 19,
   "id": "manufactured-supplier",
   "metadata": {
    "execution": {
     "iopub.execute_input": "2021-04-01T11:25:44.776493Z",
     "iopub.status.busy": "2021-04-01T11:25:44.775734Z",
     "iopub.status.idle": "2021-04-01T11:25:44.783768Z",
     "shell.execute_reply": "2021-04-01T11:25:44.784295Z"
    },
    "papermill": {
     "duration": 0.046298,
     "end_time": "2021-04-01T11:25:44.784519",
     "exception": false,
     "start_time": "2021-04-01T11:25:44.738221",
     "status": "completed"
    },
    "tags": []
   },
   "outputs": [
    {
     "data": {
      "text/plain": [
       "((20800, 25), (20800,), (5200, 25))"
      ]
     },
     "execution_count": 19,
     "metadata": {},
     "output_type": "execute_result"
    }
   ],
   "source": [
    "X_final = np.array(embedded_docs)\n",
    "y_final = np.array(y)\n",
    "test_final = np.array(embedded_docs_test)\n",
    "X_final.shape,y_final.shape,test_final.shape"
   ]
  },
  {
   "cell_type": "code",
   "execution_count": 20,
   "id": "external-calculation",
   "metadata": {
    "execution": {
     "iopub.execute_input": "2021-04-01T11:25:44.842859Z",
     "iopub.status.busy": "2021-04-01T11:25:44.842196Z",
     "iopub.status.idle": "2021-04-01T11:28:48.770454Z",
     "shell.execute_reply": "2021-04-01T11:28:48.769802Z"
    },
    "papermill": {
     "duration": 183.95884,
     "end_time": "2021-04-01T11:28:48.770610",
     "exception": false,
     "start_time": "2021-04-01T11:25:44.811770",
     "status": "completed"
    },
    "tags": []
   },
   "outputs": [
    {
     "name": "stdout",
     "output_type": "stream",
     "text": [
      "Epoch 1/20\n",
      "325/325 [==============================] - 11s 28ms/step - loss: 0.3391 - accuracy: 0.8389\n",
      "Epoch 2/20\n",
      "325/325 [==============================] - 9s 29ms/step - loss: 0.0178 - accuracy: 0.9939\n",
      "Epoch 3/20\n",
      "325/325 [==============================] - 9s 29ms/step - loss: 0.0069 - accuracy: 0.9983\n",
      "Epoch 4/20\n",
      "325/325 [==============================] - 9s 29ms/step - loss: 0.0035 - accuracy: 0.9990\n",
      "Epoch 5/20\n",
      "325/325 [==============================] - 9s 28ms/step - loss: 0.0036 - accuracy: 0.9989\n",
      "Epoch 6/20\n",
      "325/325 [==============================] - 9s 28ms/step - loss: 0.0011 - accuracy: 0.9996\n",
      "Epoch 7/20\n",
      "325/325 [==============================] - 9s 29ms/step - loss: 0.0015 - accuracy: 0.9996\n",
      "Epoch 8/20\n",
      "325/325 [==============================] - 9s 28ms/step - loss: 0.0013 - accuracy: 0.9998\n",
      "Epoch 9/20\n",
      "325/325 [==============================] - 9s 27ms/step - loss: 0.0014 - accuracy: 0.9996\n",
      "Epoch 10/20\n",
      "325/325 [==============================] - 9s 28ms/step - loss: 0.0012 - accuracy: 0.9998\n",
      "Epoch 11/20\n",
      "325/325 [==============================] - 9s 28ms/step - loss: 0.0015 - accuracy: 0.9995\n",
      "Epoch 12/20\n",
      "325/325 [==============================] - 9s 28ms/step - loss: 6.6040e-04 - accuracy: 0.9995\n",
      "Epoch 13/20\n",
      "325/325 [==============================] - 9s 27ms/step - loss: 3.1947e-04 - accuracy: 0.9999\n",
      "Epoch 14/20\n",
      "325/325 [==============================] - 9s 29ms/step - loss: 1.8957e-04 - accuracy: 1.0000\n",
      "Epoch 15/20\n",
      "325/325 [==============================] - 9s 27ms/step - loss: 6.0518e-04 - accuracy: 0.9999\n",
      "Epoch 16/20\n",
      "325/325 [==============================] - 9s 27ms/step - loss: 0.0012 - accuracy: 0.9996\n",
      "Epoch 17/20\n",
      "325/325 [==============================] - 9s 28ms/step - loss: 1.1189e-04 - accuracy: 1.0000\n",
      "Epoch 18/20\n",
      "325/325 [==============================] - 9s 28ms/step - loss: 5.7070e-05 - accuracy: 1.0000\n",
      "Epoch 19/20\n",
      "325/325 [==============================] - 9s 27ms/step - loss: 9.2751e-04 - accuracy: 0.9997\n",
      "Epoch 20/20\n",
      "325/325 [==============================] - 9s 27ms/step - loss: 0.0013 - accuracy: 0.9994\n"
     ]
    }
   ],
   "source": [
    "history = model.fit(X_final,y_final,epochs=20,batch_size=64)"
   ]
  },
  {
   "cell_type": "code",
   "execution_count": 21,
   "id": "strong-issue",
   "metadata": {
    "execution": {
     "iopub.execute_input": "2021-04-01T11:28:50.739903Z",
     "iopub.status.busy": "2021-04-01T11:28:50.739222Z",
     "iopub.status.idle": "2021-04-01T11:28:50.867563Z",
     "shell.execute_reply": "2021-04-01T11:28:50.866910Z"
    },
    "papermill": {
     "duration": 1.100724,
     "end_time": "2021-04-01T11:28:50.867707",
     "exception": false,
     "start_time": "2021-04-01T11:28:49.766983",
     "status": "completed"
    },
    "tags": []
   },
   "outputs": [
    {
     "data": {
      "text/plain": [
       "Text(0.5, 0, 'epoch')"
      ]
     },
     "execution_count": 21,
     "metadata": {},
     "output_type": "execute_result"
    },
    {
     "data": {
      "image/png": "[encoded data removed]",
      "text/plain": [
       "<Figure size 432x288 with 1 Axes>"
      ]
     },
     "metadata": {
      "needs_background": "light"
     },
     "output_type": "display_data"
    }
   ],
   "source": [
    "plt.plot(history.history['accuracy'])\n",
    "plt.title('model accuracy')\n",
    "plt.ylabel('accuracy')\n",
    "plt.xlabel('epoch')"
   ]
  },
  {
   "cell_type": "code",
   "execution_count": 22,
   "id": "sound-threat",
   "metadata": {
    "execution": {
     "iopub.execute_input": "2021-04-01T11:28:52.855342Z",
     "iopub.status.busy": "2021-04-01T11:28:52.854666Z",
     "iopub.status.idle": "2021-04-01T11:28:54.434450Z",
     "shell.execute_reply": "2021-04-01T11:28:54.433828Z"
    },
    "papermill": {
     "duration": 2.574486,
     "end_time": "2021-04-01T11:28:54.434601",
     "exception": false,
     "start_time": "2021-04-01T11:28:51.860115",
     "status": "completed"
    },
    "tags": []
   },
   "outputs": [
    {
     "name": "stderr",
     "output_type": "stream",
     "text": [
      "/opt/conda/lib/python3.7/site-packages/tensorflow/python/keras/engine/sequential.py:450: UserWarning: `model.predict_classes()` is deprecated and will be removed after 2021-01-01. Please use instead:* `np.argmax(model.predict(x), axis=-1)`,   if your model does multi-class classification   (e.g. if it uses a `softmax` last-layer activation).* `(model.predict(x) > 0.5).astype(\"int32\")`,   if your model does binary classification   (e.g. if it uses a `sigmoid` last-layer activation).\n",
      "  warnings.warn('`model.predict_classes()` is deprecated and '\n"
     ]
    }
   ],
   "source": [
    "y_pred = model.predict_classes(test_final)"
   ]
  },
  {
   "cell_type": "code",
   "execution_count": 23,
   "id": "blessed-moisture",
   "metadata": {
    "execution": {
     "iopub.execute_input": "2021-04-01T11:28:56.398374Z",
     "iopub.status.busy": "2021-04-01T11:28:56.397509Z",
     "iopub.status.idle": "2021-04-01T11:28:56.414291Z",
     "shell.execute_reply": "2021-04-01T11:28:56.414817Z"
    },
    "papermill": {
     "duration": 1.011386,
     "end_time": "2021-04-01T11:28:56.415018",
     "exception": false,
     "start_time": "2021-04-01T11:28:55.403632",
     "status": "completed"
    },
    "tags": []
   },
   "outputs": [],
   "source": [
    "res = pd.DataFrame()\n",
    "res['id']=test['id']\n",
    "res['label'] = y_pred\n",
    "res.to_csv('result.csv',index=False)"
   ]
  }
 ],
 "metadata": {
  "kernelspec": {
   "display_name": "Python 3",
   "language": "python",
   "name": "python3"
  },
  "language_info": {
   "codemirror_mode": {
    "name": "ipython",
    "version": 3
   },
   "file_extension": ".py",
   "mimetype": "text/x-python",
   "name": "python",
   "nbconvert_exporter": "python",
   "pygments_lexer": "ipython3",
   "version": "3.7.9"
  },
  "papermill": {
   "default_parameters": {},
   "duration": 271.449805,
   "end_time": "2021-04-01T11:28:58.710307",
   "environment_variables": {},
   "exception": null,
   "input_path": "__notebook__.ipynb",
   "output_path": "__notebook__.ipynb",
   "parameters": {},
   "start_time": "2021-04-01T11:24:27.260502",
   "version": "2.3.2"
  }
 },
 "nbformat": 4,
 "nbformat_minor": 5
}
